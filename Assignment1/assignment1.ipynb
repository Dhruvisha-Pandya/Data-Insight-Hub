{
 "cells": [
  {
   "cell_type": "code",
   "execution_count": 1,
   "metadata": {},
   "outputs": [],
   "source": [
    "#importing pandas and numpy module\n",
    "\n",
    "import numpy as np\n",
    "import pandas as pd"
   ]
  },
  {
   "cell_type": "markdown",
   "metadata": {},
   "source": [
    "## Task 1: Create the given tables in Jupyter notebook \n"
   ]
  },
  {
   "cell_type": "code",
   "execution_count": 2,
   "metadata": {},
   "outputs": [
    {
     "data": {
      "text/html": [
       "<div>\n",
       "<style scoped>\n",
       "    .dataframe tbody tr th:only-of-type {\n",
       "        vertical-align: middle;\n",
       "    }\n",
       "\n",
       "    .dataframe tbody tr th {\n",
       "        vertical-align: top;\n",
       "    }\n",
       "\n",
       "    .dataframe thead th {\n",
       "        text-align: right;\n",
       "    }\n",
       "</style>\n",
       "<table border=\"1\" class=\"dataframe\">\n",
       "  <thead>\n",
       "    <tr style=\"text-align: right;\">\n",
       "      <th></th>\n",
       "      <th>customer_id</th>\n",
       "      <th>first name</th>\n",
       "      <th>last name</th>\n",
       "      <th>email</th>\n",
       "      <th>phone</th>\n",
       "    </tr>\n",
       "  </thead>\n",
       "  <tbody>\n",
       "    <tr>\n",
       "      <th>0</th>\n",
       "      <td>1</td>\n",
       "      <td>Alex</td>\n",
       "      <td>Jhonson</td>\n",
       "      <td>alex@example.com</td>\n",
       "      <td>555-123-4567</td>\n",
       "    </tr>\n",
       "    <tr>\n",
       "      <th>1</th>\n",
       "      <td>2</td>\n",
       "      <td>Ella</td>\n",
       "      <td>Brown</td>\n",
       "      <td>ella@example.com</td>\n",
       "      <td>555-987-6543</td>\n",
       "    </tr>\n",
       "    <tr>\n",
       "      <th>2</th>\n",
       "      <td>3</td>\n",
       "      <td>Noah</td>\n",
       "      <td>Garcia</td>\n",
       "      <td>noah@example.com</td>\n",
       "      <td>555-345-6789</td>\n",
       "    </tr>\n",
       "    <tr>\n",
       "      <th>3</th>\n",
       "      <td>4</td>\n",
       "      <td>Ava</td>\n",
       "      <td>Martinez</td>\n",
       "      <td>ava@example.com</td>\n",
       "      <td>555-789-0123</td>\n",
       "    </tr>\n",
       "    <tr>\n",
       "      <th>4</th>\n",
       "      <td>5</td>\n",
       "      <td>Liam</td>\n",
       "      <td>Robinson</td>\n",
       "      <td>liam@example.com</td>\n",
       "      <td>555-234-5678</td>\n",
       "    </tr>\n",
       "    <tr>\n",
       "      <th>5</th>\n",
       "      <td>6</td>\n",
       "      <td>Mia</td>\n",
       "      <td>Miller</td>\n",
       "      <td>mia@example.com</td>\n",
       "      <td>555-876-5432</td>\n",
       "    </tr>\n",
       "    <tr>\n",
       "      <th>6</th>\n",
       "      <td>7</td>\n",
       "      <td>Ethan</td>\n",
       "      <td>Davis</td>\n",
       "      <td>ethan@example.com</td>\n",
       "      <td>555-432-1098</td>\n",
       "    </tr>\n",
       "    <tr>\n",
       "      <th>7</th>\n",
       "      <td>8</td>\n",
       "      <td>Issabella</td>\n",
       "      <td>Rodriguez</td>\n",
       "      <td>isabella@example.com</td>\n",
       "      <td>555-210-9876</td>\n",
       "    </tr>\n",
       "    <tr>\n",
       "      <th>8</th>\n",
       "      <td>9</td>\n",
       "      <td>James</td>\n",
       "      <td>Hermandez</td>\n",
       "      <td>james@example.com</td>\n",
       "      <td>555-765-4321</td>\n",
       "    </tr>\n",
       "    <tr>\n",
       "      <th>9</th>\n",
       "      <td>10</td>\n",
       "      <td>Sophia</td>\n",
       "      <td>Lopez</td>\n",
       "      <td>sophia@example.com</td>\n",
       "      <td>555-321-0987</td>\n",
       "    </tr>\n",
       "  </tbody>\n",
       "</table>\n",
       "</div>"
      ],
      "text/plain": [
       "   customer_id first name  last name                 email         phone\n",
       "0            1       Alex    Jhonson      alex@example.com  555-123-4567\n",
       "1            2       Ella      Brown      ella@example.com  555-987-6543\n",
       "2            3       Noah     Garcia      noah@example.com  555-345-6789\n",
       "3            4        Ava   Martinez       ava@example.com  555-789-0123\n",
       "4            5       Liam   Robinson      liam@example.com  555-234-5678\n",
       "5            6        Mia     Miller       mia@example.com  555-876-5432\n",
       "6            7      Ethan      Davis     ethan@example.com  555-432-1098\n",
       "7            8  Issabella  Rodriguez  isabella@example.com  555-210-9876\n",
       "8            9      James  Hermandez     james@example.com  555-765-4321\n",
       "9           10     Sophia      Lopez    sophia@example.com  555-321-0987"
      ]
     },
     "execution_count": 2,
     "metadata": {},
     "output_type": "execute_result"
    }
   ],
   "source": [
    "Customer_1=pd.DataFrame({\"customer_id\":[1,2,3,4,5,6,7,8,9,10],\n",
    "                        \"first name\":['Alex','Ella','Noah','Ava','Liam', 'Mia', 'Ethan','Issabella','James','Sophia'],\n",
    "                        \"last name\":['Jhonson','Brown','Garcia','Martinez','Robinson','Miller','Davis','Rodriguez','Hermandez','Lopez'],\n",
    "                        \"email\":[\"alex@example.com\",\"ella@example.com\",\"noah@example.com\",\"ava@example.com\",\"liam@example.com\",\"mia@example.com\",\"ethan@example.com\",\"isabella@example.com\",\"james@example.com\",\"sophia@example.com\"],\n",
    "                        \"phone\" : ['555-123-4567','555-987-6543','555-345-6789','555-789-0123','555-234-5678','555-876-5432','555-432-1098','555-210-9876','555-765-4321','555-321-0987']})\n",
    "Customer_1\n"
   ]
  },
  {
   "cell_type": "code",
   "execution_count": 3,
   "metadata": {},
   "outputs": [
    {
     "data": {
      "text/html": [
       "<div>\n",
       "<style scoped>\n",
       "    .dataframe tbody tr th:only-of-type {\n",
       "        vertical-align: middle;\n",
       "    }\n",
       "\n",
       "    .dataframe tbody tr th {\n",
       "        vertical-align: top;\n",
       "    }\n",
       "\n",
       "    .dataframe thead th {\n",
       "        text-align: right;\n",
       "    }\n",
       "</style>\n",
       "<table border=\"1\" class=\"dataframe\">\n",
       "  <thead>\n",
       "    <tr style=\"text-align: right;\">\n",
       "      <th></th>\n",
       "      <th>customer_id</th>\n",
       "      <th>first name</th>\n",
       "      <th>last name</th>\n",
       "      <th>email</th>\n",
       "      <th>phone</th>\n",
       "    </tr>\n",
       "  </thead>\n",
       "  <tbody>\n",
       "    <tr>\n",
       "      <th>0</th>\n",
       "      <td>1</td>\n",
       "      <td>Liam</td>\n",
       "      <td>Robinson</td>\n",
       "      <td>liam@example.com</td>\n",
       "      <td>555-234-5678</td>\n",
       "    </tr>\n",
       "    <tr>\n",
       "      <th>1</th>\n",
       "      <td>2</td>\n",
       "      <td>Mia</td>\n",
       "      <td>Miller</td>\n",
       "      <td>mia@example.com</td>\n",
       "      <td>555-876-5432</td>\n",
       "    </tr>\n",
       "    <tr>\n",
       "      <th>2</th>\n",
       "      <td>3</td>\n",
       "      <td>Ethan</td>\n",
       "      <td>Davis</td>\n",
       "      <td>ethan@example.com</td>\n",
       "      <td>555-432-1098</td>\n",
       "    </tr>\n",
       "    <tr>\n",
       "      <th>3</th>\n",
       "      <td>4</td>\n",
       "      <td>Issabella</td>\n",
       "      <td>Rodriguez</td>\n",
       "      <td>isabella@example.com</td>\n",
       "      <td>555-210-9876</td>\n",
       "    </tr>\n",
       "    <tr>\n",
       "      <th>4</th>\n",
       "      <td>5</td>\n",
       "      <td>Alex</td>\n",
       "      <td>Jhonson</td>\n",
       "      <td>alex@example.com</td>\n",
       "      <td>555-123-4567</td>\n",
       "    </tr>\n",
       "    <tr>\n",
       "      <th>5</th>\n",
       "      <td>6</td>\n",
       "      <td>Ella</td>\n",
       "      <td>Brown</td>\n",
       "      <td>ella@example.com</td>\n",
       "      <td>555-987-6543</td>\n",
       "    </tr>\n",
       "    <tr>\n",
       "      <th>6</th>\n",
       "      <td>7</td>\n",
       "      <td>Noah</td>\n",
       "      <td>Garcia</td>\n",
       "      <td>noah@example.com</td>\n",
       "      <td>555-345-6789</td>\n",
       "    </tr>\n",
       "    <tr>\n",
       "      <th>7</th>\n",
       "      <td>8</td>\n",
       "      <td>Ava</td>\n",
       "      <td>Martinez</td>\n",
       "      <td>ava@example.com</td>\n",
       "      <td>555-789-0123</td>\n",
       "    </tr>\n",
       "    <tr>\n",
       "      <th>8</th>\n",
       "      <td>9</td>\n",
       "      <td>James</td>\n",
       "      <td>Hermandez</td>\n",
       "      <td>james@example.com</td>\n",
       "      <td>555-765-4321</td>\n",
       "    </tr>\n",
       "    <tr>\n",
       "      <th>9</th>\n",
       "      <td>10</td>\n",
       "      <td>Sophia</td>\n",
       "      <td>Lopez</td>\n",
       "      <td>sophia@example.com</td>\n",
       "      <td>555-321-0987</td>\n",
       "    </tr>\n",
       "  </tbody>\n",
       "</table>\n",
       "</div>"
      ],
      "text/plain": [
       "   customer_id first name  last name                 email         phone\n",
       "0            1       Liam   Robinson      liam@example.com  555-234-5678\n",
       "1            2        Mia     Miller       mia@example.com  555-876-5432\n",
       "2            3      Ethan      Davis     ethan@example.com  555-432-1098\n",
       "3            4  Issabella  Rodriguez  isabella@example.com  555-210-9876\n",
       "4            5       Alex    Jhonson      alex@example.com  555-123-4567\n",
       "5            6       Ella      Brown      ella@example.com  555-987-6543\n",
       "6            7       Noah     Garcia      noah@example.com  555-345-6789\n",
       "7            8        Ava   Martinez       ava@example.com  555-789-0123\n",
       "8            9      James  Hermandez     james@example.com  555-765-4321\n",
       "9           10     Sophia      Lopez    sophia@example.com  555-321-0987"
      ]
     },
     "execution_count": 3,
     "metadata": {},
     "output_type": "execute_result"
    }
   ],
   "source": [
    "Customer_2 = pd.DataFrame({\n",
    "    \"customer_id\":[1,2,3,4,5,6,7,8,9,10],\n",
    "    \"first name\":['Liam', 'Mia', 'Ethan','Issabella','Alex','Ella','Noah','Ava','James','Sophia'],\n",
    "    \"last name\":['Robinson','Miller','Davis','Rodriguez','Jhonson','Brown','Garcia','Martinez','Hermandez','Lopez'],\n",
    "    \"email\":[\"liam@example.com\",\"mia@example.com\",\"ethan@example.com\",\"isabella@example.com\",\"alex@example.com\",\"ella@example.com\",\"noah@example.com\",\"ava@example.com\",\"james@example.com\",\"sophia@example.com\"],\n",
    "     \"phone\" : ['555-234-5678','555-876-5432','555-432-1098','555-210-9876','555-123-4567','555-987-6543','555-345-6789','555-789-0123','555-765-4321','555-321-0987']\n",
    "})\n",
    "\n",
    "Customer_2\n"
   ]
  },
  {
   "cell_type": "code",
   "execution_count": 4,
   "metadata": {},
   "outputs": [
    {
     "data": {
      "text/html": [
       "<div>\n",
       "<style scoped>\n",
       "    .dataframe tbody tr th:only-of-type {\n",
       "        vertical-align: middle;\n",
       "    }\n",
       "\n",
       "    .dataframe tbody tr th {\n",
       "        vertical-align: top;\n",
       "    }\n",
       "\n",
       "    .dataframe thead th {\n",
       "        text-align: right;\n",
       "    }\n",
       "</style>\n",
       "<table border=\"1\" class=\"dataframe\">\n",
       "  <thead>\n",
       "    <tr style=\"text-align: right;\">\n",
       "      <th></th>\n",
       "      <th>employee_id</th>\n",
       "      <th>employee_name</th>\n",
       "      <th>last name</th>\n",
       "      <th>department</th>\n",
       "      <th>hire date</th>\n",
       "      <th>salary</th>\n",
       "    </tr>\n",
       "  </thead>\n",
       "  <tbody>\n",
       "    <tr>\n",
       "      <th>0</th>\n",
       "      <td>1</td>\n",
       "      <td>John</td>\n",
       "      <td>Doe</td>\n",
       "      <td>HR</td>\n",
       "      <td>2020-01-15</td>\n",
       "      <td>50000</td>\n",
       "    </tr>\n",
       "    <tr>\n",
       "      <th>1</th>\n",
       "      <td>2</td>\n",
       "      <td>Jane</td>\n",
       "      <td>Smith</td>\n",
       "      <td>Finance</td>\n",
       "      <td>2019-05-20</td>\n",
       "      <td>60000</td>\n",
       "    </tr>\n",
       "    <tr>\n",
       "      <th>2</th>\n",
       "      <td>3</td>\n",
       "      <td>Michael</td>\n",
       "      <td>Johnson</td>\n",
       "      <td>IT</td>\n",
       "      <td>2021-02-10</td>\n",
       "      <td>55000</td>\n",
       "    </tr>\n",
       "    <tr>\n",
       "      <th>3</th>\n",
       "      <td>4</td>\n",
       "      <td>Emily</td>\n",
       "      <td>Williams</td>\n",
       "      <td>Marketing</td>\n",
       "      <td>2018-09-08</td>\n",
       "      <td>52000</td>\n",
       "    </tr>\n",
       "    <tr>\n",
       "      <th>4</th>\n",
       "      <td>5</td>\n",
       "      <td>David</td>\n",
       "      <td>Brown</td>\n",
       "      <td>Operations</td>\n",
       "      <td>2022-03-25</td>\n",
       "      <td>58000</td>\n",
       "    </tr>\n",
       "    <tr>\n",
       "      <th>5</th>\n",
       "      <td>6</td>\n",
       "      <td>Emma</td>\n",
       "      <td>Jones</td>\n",
       "      <td>HR</td>\n",
       "      <td>2020-11-30</td>\n",
       "      <td>51000</td>\n",
       "    </tr>\n",
       "    <tr>\n",
       "      <th>6</th>\n",
       "      <td>7</td>\n",
       "      <td>Matthew</td>\n",
       "      <td>Lee</td>\n",
       "      <td>IT</td>\n",
       "      <td>2021-07-12</td>\n",
       "      <td>56000</td>\n",
       "    </tr>\n",
       "    <tr>\n",
       "      <th>7</th>\n",
       "      <td>8</td>\n",
       "      <td>Olivia</td>\n",
       "      <td>Martin</td>\n",
       "      <td>Finance</td>\n",
       "      <td>2019-04-18</td>\n",
       "      <td>61000</td>\n",
       "    </tr>\n",
       "    <tr>\n",
       "      <th>8</th>\n",
       "      <td>9</td>\n",
       "      <td>William</td>\n",
       "      <td>Anderson</td>\n",
       "      <td>Marketing</td>\n",
       "      <td>2017-12-05</td>\n",
       "      <td>53000</td>\n",
       "    </tr>\n",
       "    <tr>\n",
       "      <th>9</th>\n",
       "      <td>10</td>\n",
       "      <td>Sophia</td>\n",
       "      <td>Taylor</td>\n",
       "      <td>Operations</td>\n",
       "      <td>2022-06-09</td>\n",
       "      <td>59000</td>\n",
       "    </tr>\n",
       "  </tbody>\n",
       "</table>\n",
       "</div>"
      ],
      "text/plain": [
       "   employee_id employee_name last name  department   hire date  salary\n",
       "0            1          John       Doe          HR  2020-01-15   50000\n",
       "1            2          Jane     Smith     Finance  2019-05-20   60000\n",
       "2            3       Michael   Johnson          IT  2021-02-10   55000\n",
       "3            4         Emily  Williams   Marketing  2018-09-08   52000\n",
       "4            5         David     Brown  Operations  2022-03-25   58000\n",
       "5            6          Emma     Jones          HR  2020-11-30   51000\n",
       "6            7       Matthew       Lee          IT  2021-07-12   56000\n",
       "7            8        Olivia    Martin     Finance  2019-04-18   61000\n",
       "8            9       William  Anderson   Marketing  2017-12-05   53000\n",
       "9           10        Sophia    Taylor  Operations  2022-06-09   59000"
      ]
     },
     "execution_count": 4,
     "metadata": {},
     "output_type": "execute_result"
    }
   ],
   "source": [
    "Employee_1=pd.DataFrame({\n",
    "    \"employee_id\":[1,2,3,4,5,6,7,8,9,10],\n",
    "    \"employee_name\":['John','Jane','Michael','Emily','David','Emma','Matthew','Olivia','William','Sophia'],\n",
    "    \"last name\":['Doe','Smith','Johnson','Williams','Brown','Jones','Lee','Martin','Anderson','Taylor'],\n",
    "    \"department\":['HR','Finance','IT','Marketing','Operations','HR','IT','Finance','Marketing','Operations'],\n",
    "    \"hire date\" :['2020-01-15','2019-05-20','2021-02-10','2018-09-08','2022-03-25','2020-11-30','2021-07-12','2019-04-18','2017-12-05','2022-06-09'],\n",
    "    \"salary\" : [50000,60000,55000,52000,58000,51000,56000,61000,53000,59000]\n",
    "})\n",
    "Employee_1"
   ]
  },
  {
   "cell_type": "code",
   "execution_count": 5,
   "metadata": {},
   "outputs": [
    {
     "data": {
      "text/html": [
       "<div>\n",
       "<style scoped>\n",
       "    .dataframe tbody tr th:only-of-type {\n",
       "        vertical-align: middle;\n",
       "    }\n",
       "\n",
       "    .dataframe tbody tr th {\n",
       "        vertical-align: top;\n",
       "    }\n",
       "\n",
       "    .dataframe thead th {\n",
       "        text-align: right;\n",
       "    }\n",
       "</style>\n",
       "<table border=\"1\" class=\"dataframe\">\n",
       "  <thead>\n",
       "    <tr style=\"text-align: right;\">\n",
       "      <th></th>\n",
       "      <th>employee_id</th>\n",
       "      <th>employee_name</th>\n",
       "      <th>last name</th>\n",
       "      <th>department</th>\n",
       "      <th>hire date</th>\n",
       "      <th>salary</th>\n",
       "    </tr>\n",
       "  </thead>\n",
       "  <tbody>\n",
       "    <tr>\n",
       "      <th>0</th>\n",
       "      <td>1</td>\n",
       "      <td>Olivia</td>\n",
       "      <td>Martin</td>\n",
       "      <td>Finance</td>\n",
       "      <td>18-04-2019</td>\n",
       "      <td>50000</td>\n",
       "    </tr>\n",
       "    <tr>\n",
       "      <th>1</th>\n",
       "      <td>2</td>\n",
       "      <td>William</td>\n",
       "      <td>Anderson</td>\n",
       "      <td>Marketing</td>\n",
       "      <td>05-12-2017</td>\n",
       "      <td>60000</td>\n",
       "    </tr>\n",
       "    <tr>\n",
       "      <th>2</th>\n",
       "      <td>3</td>\n",
       "      <td>Sophia</td>\n",
       "      <td>Taylor</td>\n",
       "      <td>Operations</td>\n",
       "      <td>09-06-2022</td>\n",
       "      <td>55000</td>\n",
       "    </tr>\n",
       "    <tr>\n",
       "      <th>3</th>\n",
       "      <td>4</td>\n",
       "      <td>Emily</td>\n",
       "      <td>Williams</td>\n",
       "      <td>Marketing</td>\n",
       "      <td>08-09-2018</td>\n",
       "      <td>52000</td>\n",
       "    </tr>\n",
       "    <tr>\n",
       "      <th>4</th>\n",
       "      <td>5</td>\n",
       "      <td>David</td>\n",
       "      <td>Brown</td>\n",
       "      <td>Operations</td>\n",
       "      <td>25-03-2022</td>\n",
       "      <td>58000</td>\n",
       "    </tr>\n",
       "    <tr>\n",
       "      <th>5</th>\n",
       "      <td>6</td>\n",
       "      <td>Jane</td>\n",
       "      <td>Smith</td>\n",
       "      <td>Finance</td>\n",
       "      <td>20-05-2019</td>\n",
       "      <td>51000</td>\n",
       "    </tr>\n",
       "    <tr>\n",
       "      <th>6</th>\n",
       "      <td>7</td>\n",
       "      <td>Michael</td>\n",
       "      <td>Johnson</td>\n",
       "      <td>IT</td>\n",
       "      <td>10-02-2021</td>\n",
       "      <td>56000</td>\n",
       "    </tr>\n",
       "    <tr>\n",
       "      <th>7</th>\n",
       "      <td>8</td>\n",
       "      <td>Emma</td>\n",
       "      <td>Jones</td>\n",
       "      <td>HR</td>\n",
       "      <td>30-11-2020</td>\n",
       "      <td>61000</td>\n",
       "    </tr>\n",
       "    <tr>\n",
       "      <th>8</th>\n",
       "      <td>9</td>\n",
       "      <td>Matthew</td>\n",
       "      <td>Lee</td>\n",
       "      <td>IT</td>\n",
       "      <td>12-07-2021</td>\n",
       "      <td>53000</td>\n",
       "    </tr>\n",
       "    <tr>\n",
       "      <th>9</th>\n",
       "      <td>10</td>\n",
       "      <td>John</td>\n",
       "      <td>Doe</td>\n",
       "      <td>HR</td>\n",
       "      <td>15-01-2020</td>\n",
       "      <td>59000</td>\n",
       "    </tr>\n",
       "  </tbody>\n",
       "</table>\n",
       "</div>"
      ],
      "text/plain": [
       "   employee_id employee_name last name  department   hire date  salary\n",
       "0            1        Olivia    Martin     Finance  18-04-2019   50000\n",
       "1            2       William  Anderson   Marketing  05-12-2017   60000\n",
       "2            3        Sophia    Taylor  Operations  09-06-2022   55000\n",
       "3            4         Emily  Williams   Marketing  08-09-2018   52000\n",
       "4            5         David     Brown  Operations  25-03-2022   58000\n",
       "5            6          Jane     Smith     Finance  20-05-2019   51000\n",
       "6            7       Michael   Johnson          IT  10-02-2021   56000\n",
       "7            8          Emma     Jones          HR  30-11-2020   61000\n",
       "8            9       Matthew       Lee          IT  12-07-2021   53000\n",
       "9           10          John       Doe          HR  15-01-2020   59000"
      ]
     },
     "execution_count": 5,
     "metadata": {},
     "output_type": "execute_result"
    }
   ],
   "source": [
    "Employee_2 = pd.DataFrame({\n",
    "    \"employee_id\":[1,2,3,4,5,6,7,8,9,10],\n",
    "    \"employee_name\":['Olivia','William','Sophia','Emily','David','Jane','Michael','Emma','Matthew','John',],\n",
    "    \"last name\":['Martin','Anderson','Taylor','Williams','Brown','Smith','Johnson','Jones','Lee','Doe'],\n",
    "    \"department\":['Finance','Marketing','Operations','Marketing','Operations','Finance','IT','HR','IT','HR'],\n",
    "    \"hire date\" :['18-04-2019','05-12-2017','09-06-2022','08-09-2018','25-03-2022','20-05-2019','10-02-2021','30-11-2020',\"12-07-2021\",'15-01-2020'],\n",
    "    \"salary\" : [50000,60000,55000,52000,58000,51000,56000,61000,53000,59000]\n",
    "})\n",
    "Employee_2"
   ]
  },
  {
   "cell_type": "code",
   "execution_count": 6,
   "metadata": {},
   "outputs": [
    {
     "data": {
      "text/html": [
       "<div>\n",
       "<style scoped>\n",
       "    .dataframe tbody tr th:only-of-type {\n",
       "        vertical-align: middle;\n",
       "    }\n",
       "\n",
       "    .dataframe tbody tr th {\n",
       "        vertical-align: top;\n",
       "    }\n",
       "\n",
       "    .dataframe thead th {\n",
       "        text-align: right;\n",
       "    }\n",
       "</style>\n",
       "<table border=\"1\" class=\"dataframe\">\n",
       "  <thead>\n",
       "    <tr style=\"text-align: right;\">\n",
       "      <th></th>\n",
       "      <th>order_id</th>\n",
       "      <th>customer_id</th>\n",
       "      <th>order_date</th>\n",
       "      <th>total_amount</th>\n",
       "    </tr>\n",
       "  </thead>\n",
       "  <tbody>\n",
       "    <tr>\n",
       "      <th>0</th>\n",
       "      <td>1</td>\n",
       "      <td>3</td>\n",
       "      <td>2023-07-15</td>\n",
       "      <td>450</td>\n",
       "    </tr>\n",
       "    <tr>\n",
       "      <th>1</th>\n",
       "      <td>2</td>\n",
       "      <td>8</td>\n",
       "      <td>2023-07-16</td>\n",
       "      <td>120</td>\n",
       "    </tr>\n",
       "    <tr>\n",
       "      <th>2</th>\n",
       "      <td>3</td>\n",
       "      <td>2</td>\n",
       "      <td>2023-07-16</td>\n",
       "      <td>720</td>\n",
       "    </tr>\n",
       "    <tr>\n",
       "      <th>3</th>\n",
       "      <td>4</td>\n",
       "      <td>5</td>\n",
       "      <td>2023-07-17</td>\n",
       "      <td>320</td>\n",
       "    </tr>\n",
       "    <tr>\n",
       "      <th>4</th>\n",
       "      <td>5</td>\n",
       "      <td>7</td>\n",
       "      <td>2023-07-17</td>\n",
       "      <td>900</td>\n",
       "    </tr>\n",
       "    <tr>\n",
       "      <th>5</th>\n",
       "      <td>6</td>\n",
       "      <td>4</td>\n",
       "      <td>2023-07-18</td>\n",
       "      <td>180</td>\n",
       "    </tr>\n",
       "    <tr>\n",
       "      <th>6</th>\n",
       "      <td>7</td>\n",
       "      <td>1</td>\n",
       "      <td>2023-07-18</td>\n",
       "      <td>600</td>\n",
       "    </tr>\n",
       "    <tr>\n",
       "      <th>7</th>\n",
       "      <td>8</td>\n",
       "      <td>10</td>\n",
       "      <td>2023-07-19</td>\n",
       "      <td>100</td>\n",
       "    </tr>\n",
       "    <tr>\n",
       "      <th>8</th>\n",
       "      <td>9</td>\n",
       "      <td>6</td>\n",
       "      <td>2023-07-20</td>\n",
       "      <td>280</td>\n",
       "    </tr>\n",
       "    <tr>\n",
       "      <th>9</th>\n",
       "      <td>10</td>\n",
       "      <td>9</td>\n",
       "      <td>2023-07-20</td>\n",
       "      <td>750</td>\n",
       "    </tr>\n",
       "  </tbody>\n",
       "</table>\n",
       "</div>"
      ],
      "text/plain": [
       "   order_id  customer_id  order_date  total_amount\n",
       "0         1            3  2023-07-15           450\n",
       "1         2            8  2023-07-16           120\n",
       "2         3            2  2023-07-16           720\n",
       "3         4            5  2023-07-17           320\n",
       "4         5            7  2023-07-17           900\n",
       "5         6            4  2023-07-18           180\n",
       "6         7            1  2023-07-18           600\n",
       "7         8           10  2023-07-19           100\n",
       "8         9            6  2023-07-20           280\n",
       "9        10            9  2023-07-20           750"
      ]
     },
     "execution_count": 6,
     "metadata": {},
     "output_type": "execute_result"
    }
   ],
   "source": [
    "Orders_1 = pd.DataFrame({\n",
    "    \"order_id\":[1,2,3,4,5,6,7,8,9,10],\n",
    "    \"customer_id\":[3,8,2,5,7,4,1,10,6,9],\n",
    "    \"order_date\":['2023-07-15','2023-07-16','2023-07-16','2023-07-17','2023-07-17','2023-07-18','2023-07-18','2023-07-19','2023-07-20','2023-07-20'],\n",
    "    \"total_amount\" :[450,120,720,320,900,180,600,100,280,750]\n",
    "})\n",
    "Orders_1"
   ]
  },
  {
   "cell_type": "code",
   "execution_count": 7,
   "metadata": {},
   "outputs": [
    {
     "data": {
      "text/html": [
       "<div>\n",
       "<style scoped>\n",
       "    .dataframe tbody tr th:only-of-type {\n",
       "        vertical-align: middle;\n",
       "    }\n",
       "\n",
       "    .dataframe tbody tr th {\n",
       "        vertical-align: top;\n",
       "    }\n",
       "\n",
       "    .dataframe thead th {\n",
       "        text-align: right;\n",
       "    }\n",
       "</style>\n",
       "<table border=\"1\" class=\"dataframe\">\n",
       "  <thead>\n",
       "    <tr style=\"text-align: right;\">\n",
       "      <th></th>\n",
       "      <th>order_id</th>\n",
       "      <th>customer_id</th>\n",
       "      <th>order_date</th>\n",
       "      <th>total_amount</th>\n",
       "    </tr>\n",
       "  </thead>\n",
       "  <tbody>\n",
       "    <tr>\n",
       "      <th>0</th>\n",
       "      <td>1</td>\n",
       "      <td>7</td>\n",
       "      <td>17-07-2023</td>\n",
       "      <td>900</td>\n",
       "    </tr>\n",
       "    <tr>\n",
       "      <th>1</th>\n",
       "      <td>2</td>\n",
       "      <td>4</td>\n",
       "      <td>18-07-2023</td>\n",
       "      <td>180</td>\n",
       "    </tr>\n",
       "    <tr>\n",
       "      <th>2</th>\n",
       "      <td>3</td>\n",
       "      <td>1</td>\n",
       "      <td>18-07-2023</td>\n",
       "      <td>600</td>\n",
       "    </tr>\n",
       "    <tr>\n",
       "      <th>3</th>\n",
       "      <td>4</td>\n",
       "      <td>10</td>\n",
       "      <td>19-07-2023</td>\n",
       "      <td>100</td>\n",
       "    </tr>\n",
       "    <tr>\n",
       "      <th>4</th>\n",
       "      <td>5</td>\n",
       "      <td>6</td>\n",
       "      <td>20-07-2023</td>\n",
       "      <td>280</td>\n",
       "    </tr>\n",
       "    <tr>\n",
       "      <th>5</th>\n",
       "      <td>6</td>\n",
       "      <td>3</td>\n",
       "      <td>15-07-2023</td>\n",
       "      <td>450</td>\n",
       "    </tr>\n",
       "    <tr>\n",
       "      <th>6</th>\n",
       "      <td>7</td>\n",
       "      <td>8</td>\n",
       "      <td>16-07-2023</td>\n",
       "      <td>120</td>\n",
       "    </tr>\n",
       "    <tr>\n",
       "      <th>7</th>\n",
       "      <td>8</td>\n",
       "      <td>2</td>\n",
       "      <td>16-07-2023</td>\n",
       "      <td>720</td>\n",
       "    </tr>\n",
       "    <tr>\n",
       "      <th>8</th>\n",
       "      <td>9</td>\n",
       "      <td>9</td>\n",
       "      <td>20-07-2023</td>\n",
       "      <td>750</td>\n",
       "    </tr>\n",
       "    <tr>\n",
       "      <th>9</th>\n",
       "      <td>10</td>\n",
       "      <td>5</td>\n",
       "      <td>17-07-2023</td>\n",
       "      <td>320</td>\n",
       "    </tr>\n",
       "  </tbody>\n",
       "</table>\n",
       "</div>"
      ],
      "text/plain": [
       "   order_id  customer_id  order_date  total_amount\n",
       "0         1            7  17-07-2023           900\n",
       "1         2            4  18-07-2023           180\n",
       "2         3            1  18-07-2023           600\n",
       "3         4           10  19-07-2023           100\n",
       "4         5            6  20-07-2023           280\n",
       "5         6            3  15-07-2023           450\n",
       "6         7            8  16-07-2023           120\n",
       "7         8            2  16-07-2023           720\n",
       "8         9            9  20-07-2023           750\n",
       "9        10            5  17-07-2023           320"
      ]
     },
     "execution_count": 7,
     "metadata": {},
     "output_type": "execute_result"
    }
   ],
   "source": [
    "Orders_2=pd.DataFrame({\n",
    "    \"order_id\":[1,2,3,4,5,6,7,8,9,10],\n",
    "    \"customer_id\":[7,4,1,10,6,3,8,2,9,5],\n",
    "    \"order_date\":['17-07-2023','18-07-2023','18-07-2023','19-07-2023','20-07-2023','15-07-2023','16-07-2023','16-07-2023','20-07-2023','17-07-2023'],\n",
    "    \"total_amount\":[900,180,600,100,280,450,120,720,750,320]\n",
    "})\n",
    "Orders_2"
   ]
  },
  {
   "cell_type": "code",
   "execution_count": 8,
   "metadata": {},
   "outputs": [
    {
     "data": {
      "text/html": [
       "<div>\n",
       "<style scoped>\n",
       "    .dataframe tbody tr th:only-of-type {\n",
       "        vertical-align: middle;\n",
       "    }\n",
       "\n",
       "    .dataframe tbody tr th {\n",
       "        vertical-align: top;\n",
       "    }\n",
       "\n",
       "    .dataframe thead th {\n",
       "        text-align: right;\n",
       "    }\n",
       "</style>\n",
       "<table border=\"1\" class=\"dataframe\">\n",
       "  <thead>\n",
       "    <tr style=\"text-align: right;\">\n",
       "      <th></th>\n",
       "      <th>product_id</th>\n",
       "      <th>product_name</th>\n",
       "      <th>category</th>\n",
       "      <th>price</th>\n",
       "      <th>stock quantity</th>\n",
       "    </tr>\n",
       "  </thead>\n",
       "  <tbody>\n",
       "    <tr>\n",
       "      <th>0</th>\n",
       "      <td>1</td>\n",
       "      <td>Laptop</td>\n",
       "      <td>Electronics</td>\n",
       "      <td>800</td>\n",
       "      <td>50</td>\n",
       "    </tr>\n",
       "    <tr>\n",
       "      <th>1</th>\n",
       "      <td>2</td>\n",
       "      <td>Smartphone</td>\n",
       "      <td>Electronics</td>\n",
       "      <td>600</td>\n",
       "      <td>75</td>\n",
       "    </tr>\n",
       "    <tr>\n",
       "      <th>2</th>\n",
       "      <td>3</td>\n",
       "      <td>Desk Chair</td>\n",
       "      <td>Furniture</td>\n",
       "      <td>150</td>\n",
       "      <td>30</td>\n",
       "    </tr>\n",
       "    <tr>\n",
       "      <th>3</th>\n",
       "      <td>4</td>\n",
       "      <td>Coffee Maker</td>\n",
       "      <td>Appliances</td>\n",
       "      <td>50</td>\n",
       "      <td>100</td>\n",
       "    </tr>\n",
       "    <tr>\n",
       "      <th>4</th>\n",
       "      <td>5</td>\n",
       "      <td>Running Shoes</td>\n",
       "      <td>Sports</td>\n",
       "      <td>80</td>\n",
       "      <td>120</td>\n",
       "    </tr>\n",
       "    <tr>\n",
       "      <th>5</th>\n",
       "      <td>6</td>\n",
       "      <td>Headphones</td>\n",
       "      <td>Electronics</td>\n",
       "      <td>100</td>\n",
       "      <td>60</td>\n",
       "    </tr>\n",
       "    <tr>\n",
       "      <th>6</th>\n",
       "      <td>7</td>\n",
       "      <td>Dining Table</td>\n",
       "      <td>Furniture</td>\n",
       "      <td>300</td>\n",
       "      <td>20</td>\n",
       "    </tr>\n",
       "    <tr>\n",
       "      <th>7</th>\n",
       "      <td>8</td>\n",
       "      <td>Toaster</td>\n",
       "      <td>Appliances</td>\n",
       "      <td>30</td>\n",
       "      <td>80</td>\n",
       "    </tr>\n",
       "    <tr>\n",
       "      <th>8</th>\n",
       "      <td>9</td>\n",
       "      <td>Basketball</td>\n",
       "      <td>Sports</td>\n",
       "      <td>25</td>\n",
       "      <td>50</td>\n",
       "    </tr>\n",
       "    <tr>\n",
       "      <th>9</th>\n",
       "      <td>10</td>\n",
       "      <td>Television</td>\n",
       "      <td>Electronics</td>\n",
       "      <td>1200</td>\n",
       "      <td>40</td>\n",
       "    </tr>\n",
       "  </tbody>\n",
       "</table>\n",
       "</div>"
      ],
      "text/plain": [
       "   product_id   product_name     category  price  stock quantity\n",
       "0           1         Laptop  Electronics    800              50\n",
       "1           2     Smartphone  Electronics    600              75\n",
       "2           3     Desk Chair    Furniture    150              30\n",
       "3           4   Coffee Maker   Appliances     50             100\n",
       "4           5  Running Shoes       Sports     80             120\n",
       "5           6     Headphones  Electronics    100              60\n",
       "6           7   Dining Table    Furniture    300              20\n",
       "7           8        Toaster   Appliances     30              80\n",
       "8           9     Basketball       Sports     25              50\n",
       "9          10     Television  Electronics   1200              40"
      ]
     },
     "execution_count": 8,
     "metadata": {},
     "output_type": "execute_result"
    }
   ],
   "source": [
    "Product_1 = pd.DataFrame({\n",
    "    \"product_id\":[1,2,3,4,5,6,7,8,9,10],\n",
    "    \"product_name\":['Laptop','Smartphone','Desk Chair','Coffee Maker','Running Shoes','Headphones','Dining Table','Toaster','Basketball','Television'],\n",
    "    \"category\" : ['Electronics','Electronics','Furniture','Appliances','Sports','Electronics','Furniture','Appliances','Sports','Electronics'],\n",
    "    \"price\":[800,600,150,50,80,100,300,30,25,1200],\n",
    "    \"stock quantity\":[50,75,30,100,120,60,20,80,50,40]\n",
    "})\n",
    "Product_1"
   ]
  },
  {
   "cell_type": "code",
   "execution_count": 9,
   "metadata": {},
   "outputs": [
    {
     "data": {
      "text/html": [
       "<div>\n",
       "<style scoped>\n",
       "    .dataframe tbody tr th:only-of-type {\n",
       "        vertical-align: middle;\n",
       "    }\n",
       "\n",
       "    .dataframe tbody tr th {\n",
       "        vertical-align: top;\n",
       "    }\n",
       "\n",
       "    .dataframe thead th {\n",
       "        text-align: right;\n",
       "    }\n",
       "</style>\n",
       "<table border=\"1\" class=\"dataframe\">\n",
       "  <thead>\n",
       "    <tr style=\"text-align: right;\">\n",
       "      <th></th>\n",
       "      <th>product_id</th>\n",
       "      <th>product_name</th>\n",
       "      <th>category</th>\n",
       "      <th>price</th>\n",
       "      <th>stock quantity</th>\n",
       "    </tr>\n",
       "  </thead>\n",
       "  <tbody>\n",
       "    <tr>\n",
       "      <th>0</th>\n",
       "      <td>1</td>\n",
       "      <td>Dining Table</td>\n",
       "      <td>Furniture</td>\n",
       "      <td>300</td>\n",
       "      <td>20</td>\n",
       "    </tr>\n",
       "    <tr>\n",
       "      <th>1</th>\n",
       "      <td>2</td>\n",
       "      <td>Toaster</td>\n",
       "      <td>Appliances</td>\n",
       "      <td>30</td>\n",
       "      <td>80</td>\n",
       "    </tr>\n",
       "    <tr>\n",
       "      <th>2</th>\n",
       "      <td>3</td>\n",
       "      <td>Running Shoes</td>\n",
       "      <td>Sports</td>\n",
       "      <td>80</td>\n",
       "      <td>120</td>\n",
       "    </tr>\n",
       "    <tr>\n",
       "      <th>3</th>\n",
       "      <td>4</td>\n",
       "      <td>Headphones</td>\n",
       "      <td>Electronics</td>\n",
       "      <td>100</td>\n",
       "      <td>60</td>\n",
       "    </tr>\n",
       "    <tr>\n",
       "      <th>4</th>\n",
       "      <td>5</td>\n",
       "      <td>Laptop</td>\n",
       "      <td>Electronics</td>\n",
       "      <td>800</td>\n",
       "      <td>50</td>\n",
       "    </tr>\n",
       "    <tr>\n",
       "      <th>5</th>\n",
       "      <td>6</td>\n",
       "      <td>Smartphone</td>\n",
       "      <td>Electronics</td>\n",
       "      <td>600</td>\n",
       "      <td>75</td>\n",
       "    </tr>\n",
       "    <tr>\n",
       "      <th>6</th>\n",
       "      <td>7</td>\n",
       "      <td>Desk Chair</td>\n",
       "      <td>Furniture</td>\n",
       "      <td>150</td>\n",
       "      <td>30</td>\n",
       "    </tr>\n",
       "    <tr>\n",
       "      <th>7</th>\n",
       "      <td>8</td>\n",
       "      <td>Coffee Maker</td>\n",
       "      <td>Appliances</td>\n",
       "      <td>50</td>\n",
       "      <td>100</td>\n",
       "    </tr>\n",
       "    <tr>\n",
       "      <th>8</th>\n",
       "      <td>9</td>\n",
       "      <td>Basketball</td>\n",
       "      <td>Sports</td>\n",
       "      <td>25</td>\n",
       "      <td>50</td>\n",
       "    </tr>\n",
       "    <tr>\n",
       "      <th>9</th>\n",
       "      <td>10</td>\n",
       "      <td>Television</td>\n",
       "      <td>Electronics</td>\n",
       "      <td>1200</td>\n",
       "      <td>40</td>\n",
       "    </tr>\n",
       "  </tbody>\n",
       "</table>\n",
       "</div>"
      ],
      "text/plain": [
       "   product_id   product_name     category  price  stock quantity\n",
       "0           1   Dining Table    Furniture    300              20\n",
       "1           2        Toaster   Appliances     30              80\n",
       "2           3  Running Shoes       Sports     80             120\n",
       "3           4     Headphones  Electronics    100              60\n",
       "4           5         Laptop  Electronics    800              50\n",
       "5           6     Smartphone  Electronics    600              75\n",
       "6           7     Desk Chair    Furniture    150              30\n",
       "7           8   Coffee Maker   Appliances     50             100\n",
       "8           9     Basketball       Sports     25              50\n",
       "9          10     Television  Electronics   1200              40"
      ]
     },
     "execution_count": 9,
     "metadata": {},
     "output_type": "execute_result"
    }
   ],
   "source": [
    "Product_2 = pd.DataFrame({\n",
    "    \"product_id\":[1,2,3,4,5,6,7,8,9,10],\n",
    "    \"product_name\":['Dining Table','Toaster','Running Shoes','Headphones','Laptop','Smartphone','Desk Chair','Coffee Maker','Basketball','Television'],\n",
    "    \"category\" : ['Furniture','Appliances','Sports','Electronics','Electronics','Electronics','Furniture','Appliances','Sports','Electronics'],\n",
    "    \"price\":[300,30,80,100,800,600,150,50,25,1200],\n",
    "    \"stock quantity\":[20,80,120,60,50,75,30,100,50,40]\n",
    "})\n",
    "Product_2"
   ]
  },
  {
   "cell_type": "code",
   "execution_count": 10,
   "metadata": {},
   "outputs": [
    {
     "data": {
      "text/html": [
       "<div>\n",
       "<style scoped>\n",
       "    .dataframe tbody tr th:only-of-type {\n",
       "        vertical-align: middle;\n",
       "    }\n",
       "\n",
       "    .dataframe tbody tr th {\n",
       "        vertical-align: top;\n",
       "    }\n",
       "\n",
       "    .dataframe thead th {\n",
       "        text-align: right;\n",
       "    }\n",
       "</style>\n",
       "<table border=\"1\" class=\"dataframe\">\n",
       "  <thead>\n",
       "    <tr style=\"text-align: right;\">\n",
       "      <th></th>\n",
       "      <th>review_id</th>\n",
       "      <th>product_id</th>\n",
       "      <th>customer_id</th>\n",
       "      <th>rating</th>\n",
       "      <th>review_text</th>\n",
       "      <th>review_date</th>\n",
       "    </tr>\n",
       "  </thead>\n",
       "  <tbody>\n",
       "    <tr>\n",
       "      <th>0</th>\n",
       "      <td>1</td>\n",
       "      <td>2</td>\n",
       "      <td>3</td>\n",
       "      <td>5</td>\n",
       "      <td>Great smartphone, highly recommended!</td>\n",
       "      <td>2023-07-15</td>\n",
       "    </tr>\n",
       "    <tr>\n",
       "      <th>1</th>\n",
       "      <td>2</td>\n",
       "      <td>5</td>\n",
       "      <td>8</td>\n",
       "      <td>4</td>\n",
       "      <td>Comfortable and durable running shoes.</td>\n",
       "      <td>2023-07-16</td>\n",
       "    </tr>\n",
       "    <tr>\n",
       "      <th>2</th>\n",
       "      <td>3</td>\n",
       "      <td>9</td>\n",
       "      <td>1</td>\n",
       "      <td>3</td>\n",
       "      <td>Average basketball, nothing special.</td>\n",
       "      <td>2023-07-16</td>\n",
       "    </tr>\n",
       "    <tr>\n",
       "      <th>3</th>\n",
       "      <td>4</td>\n",
       "      <td>4</td>\n",
       "      <td>10</td>\n",
       "      <td>5</td>\n",
       "      <td>Excellent coffee maker for the price.</td>\n",
       "      <td>2023-07-17</td>\n",
       "    </tr>\n",
       "    <tr>\n",
       "      <th>4</th>\n",
       "      <td>5</td>\n",
       "      <td>7</td>\n",
       "      <td>2</td>\n",
       "      <td>5</td>\n",
       "      <td>Sturdy and stylish dining table.</td>\n",
       "      <td>2023-07-17</td>\n",
       "    </tr>\n",
       "    <tr>\n",
       "      <th>5</th>\n",
       "      <td>6</td>\n",
       "      <td>1</td>\n",
       "      <td>7</td>\n",
       "      <td>4</td>\n",
       "      <td>Fast and powerful laptop.</td>\n",
       "      <td>2023-07-18</td>\n",
       "    </tr>\n",
       "    <tr>\n",
       "      <th>6</th>\n",
       "      <td>7</td>\n",
       "      <td>3</td>\n",
       "      <td>5</td>\n",
       "      <td>2</td>\n",
       "      <td>Uncomfortable desk chair, not recommended.</td>\n",
       "      <td>2023-07-18</td>\n",
       "    </tr>\n",
       "    <tr>\n",
       "      <th>7</th>\n",
       "      <td>8</td>\n",
       "      <td>6</td>\n",
       "      <td>9</td>\n",
       "      <td>5</td>\n",
       "      <td>High-quality headphones, worth the money.</td>\n",
       "      <td>2023-07-19</td>\n",
       "    </tr>\n",
       "    <tr>\n",
       "      <th>8</th>\n",
       "      <td>9</td>\n",
       "      <td>10</td>\n",
       "      <td>4</td>\n",
       "      <td>1</td>\n",
       "      <td>Overpriced television with poor picture quality.</td>\n",
       "      <td>2023-07-20</td>\n",
       "    </tr>\n",
       "    <tr>\n",
       "      <th>9</th>\n",
       "      <td>10</td>\n",
       "      <td>8</td>\n",
       "      <td>6</td>\n",
       "      <td>4</td>\n",
       "      <td>Good toaster, toasts evenly.</td>\n",
       "      <td>2023-07-20</td>\n",
       "    </tr>\n",
       "  </tbody>\n",
       "</table>\n",
       "</div>"
      ],
      "text/plain": [
       "   review_id  product_id  customer_id  rating  \\\n",
       "0          1           2            3       5   \n",
       "1          2           5            8       4   \n",
       "2          3           9            1       3   \n",
       "3          4           4           10       5   \n",
       "4          5           7            2       5   \n",
       "5          6           1            7       4   \n",
       "6          7           3            5       2   \n",
       "7          8           6            9       5   \n",
       "8          9          10            4       1   \n",
       "9         10           8            6       4   \n",
       "\n",
       "                                        review_text review_date  \n",
       "0             Great smartphone, highly recommended!  2023-07-15  \n",
       "1            Comfortable and durable running shoes.  2023-07-16  \n",
       "2              Average basketball, nothing special.  2023-07-16  \n",
       "3             Excellent coffee maker for the price.  2023-07-17  \n",
       "4                  Sturdy and stylish dining table.  2023-07-17  \n",
       "5                         Fast and powerful laptop.  2023-07-18  \n",
       "6        Uncomfortable desk chair, not recommended.  2023-07-18  \n",
       "7         High-quality headphones, worth the money.  2023-07-19  \n",
       "8  Overpriced television with poor picture quality.  2023-07-20  \n",
       "9                      Good toaster, toasts evenly.  2023-07-20  "
      ]
     },
     "execution_count": 10,
     "metadata": {},
     "output_type": "execute_result"
    }
   ],
   "source": [
    "Reviews_1=pd.DataFrame({\n",
    "    \"review_id\":[1,2,3,4,5,6,7,8,9,10],\n",
    "    \"product_id\":[2,5,9,4,7,1,3,6,10,8],\n",
    "    \"customer_id\":[3,8,1,10,2,7,5,9,4,6],\n",
    "    \"rating\":[5,4,3,5,5,4,2,5,1,4],\n",
    "    \"review_text\":['Great smartphone, highly recommended!','Comfortable and durable running shoes.','Average basketball, nothing special.','Excellent coffee maker for the price.','Sturdy and stylish dining table.','Fast and powerful laptop.','Uncomfortable desk chair, not recommended.','High-quality headphones, worth the money.','Overpriced television with poor picture quality.','Good toaster, toasts evenly.'],\n",
    "    \"review_date\":['2023-07-15','2023-07-16','2023-07-16','2023-07-17','2023-07-17','2023-07-18','2023-07-18','2023-07-19','2023-07-20','2023-07-20']\n",
    "})\n",
    "\n",
    "Reviews_1"
   ]
  },
  {
   "cell_type": "code",
   "execution_count": 11,
   "metadata": {},
   "outputs": [
    {
     "data": {
      "text/html": [
       "<div>\n",
       "<style scoped>\n",
       "    .dataframe tbody tr th:only-of-type {\n",
       "        vertical-align: middle;\n",
       "    }\n",
       "\n",
       "    .dataframe tbody tr th {\n",
       "        vertical-align: top;\n",
       "    }\n",
       "\n",
       "    .dataframe thead th {\n",
       "        text-align: right;\n",
       "    }\n",
       "</style>\n",
       "<table border=\"1\" class=\"dataframe\">\n",
       "  <thead>\n",
       "    <tr style=\"text-align: right;\">\n",
       "      <th></th>\n",
       "      <th>review_id</th>\n",
       "      <th>product_id</th>\n",
       "      <th>customer_id</th>\n",
       "      <th>rating</th>\n",
       "      <th>review_text</th>\n",
       "      <th>review_date</th>\n",
       "    </tr>\n",
       "  </thead>\n",
       "  <tbody>\n",
       "    <tr>\n",
       "      <th>0</th>\n",
       "      <td>1</td>\n",
       "      <td>4</td>\n",
       "      <td>10</td>\n",
       "      <td>5</td>\n",
       "      <td>Excellent coffee maker for the price.</td>\n",
       "      <td>15-07-2023</td>\n",
       "    </tr>\n",
       "    <tr>\n",
       "      <th>1</th>\n",
       "      <td>2</td>\n",
       "      <td>7</td>\n",
       "      <td>2</td>\n",
       "      <td>5</td>\n",
       "      <td>Sturdy and stylish dining table.</td>\n",
       "      <td>16-07-2023</td>\n",
       "    </tr>\n",
       "    <tr>\n",
       "      <th>2</th>\n",
       "      <td>3</td>\n",
       "      <td>1</td>\n",
       "      <td>7</td>\n",
       "      <td>4</td>\n",
       "      <td>Fast and powerful laptop.</td>\n",
       "      <td>16-07-2023</td>\n",
       "    </tr>\n",
       "    <tr>\n",
       "      <th>3</th>\n",
       "      <td>4</td>\n",
       "      <td>3</td>\n",
       "      <td>5</td>\n",
       "      <td>2</td>\n",
       "      <td>Uncomfortable desk chair, not recommended.</td>\n",
       "      <td>17-07-2023</td>\n",
       "    </tr>\n",
       "    <tr>\n",
       "      <th>4</th>\n",
       "      <td>5</td>\n",
       "      <td>6</td>\n",
       "      <td>9</td>\n",
       "      <td>5</td>\n",
       "      <td>High-quality headphones, worth the money.</td>\n",
       "      <td>17-07-2023</td>\n",
       "    </tr>\n",
       "    <tr>\n",
       "      <th>5</th>\n",
       "      <td>6</td>\n",
       "      <td>2</td>\n",
       "      <td>3</td>\n",
       "      <td>5</td>\n",
       "      <td>Great smartphone, highly recommended!</td>\n",
       "      <td>18-07-2023</td>\n",
       "    </tr>\n",
       "    <tr>\n",
       "      <th>6</th>\n",
       "      <td>7</td>\n",
       "      <td>5</td>\n",
       "      <td>8</td>\n",
       "      <td>4</td>\n",
       "      <td>Comfortable and durable running shoes.</td>\n",
       "      <td>18-07-2023</td>\n",
       "    </tr>\n",
       "    <tr>\n",
       "      <th>7</th>\n",
       "      <td>8</td>\n",
       "      <td>9</td>\n",
       "      <td>1</td>\n",
       "      <td>3</td>\n",
       "      <td>Average basketball, nothing special.</td>\n",
       "      <td>19-07-2023</td>\n",
       "    </tr>\n",
       "    <tr>\n",
       "      <th>8</th>\n",
       "      <td>9</td>\n",
       "      <td>10</td>\n",
       "      <td>4</td>\n",
       "      <td>1</td>\n",
       "      <td>Overpriced television with poor picture quality.</td>\n",
       "      <td>20-07-2023</td>\n",
       "    </tr>\n",
       "    <tr>\n",
       "      <th>9</th>\n",
       "      <td>10</td>\n",
       "      <td>8</td>\n",
       "      <td>6</td>\n",
       "      <td>4</td>\n",
       "      <td>Good toaster, toasts evenly.</td>\n",
       "      <td>20-07-2023</td>\n",
       "    </tr>\n",
       "  </tbody>\n",
       "</table>\n",
       "</div>"
      ],
      "text/plain": [
       "   review_id  product_id  customer_id  rating  \\\n",
       "0          1           4           10       5   \n",
       "1          2           7            2       5   \n",
       "2          3           1            7       4   \n",
       "3          4           3            5       2   \n",
       "4          5           6            9       5   \n",
       "5          6           2            3       5   \n",
       "6          7           5            8       4   \n",
       "7          8           9            1       3   \n",
       "8          9          10            4       1   \n",
       "9         10           8            6       4   \n",
       "\n",
       "                                        review_text review_date  \n",
       "0             Excellent coffee maker for the price.  15-07-2023  \n",
       "1                  Sturdy and stylish dining table.  16-07-2023  \n",
       "2                         Fast and powerful laptop.  16-07-2023  \n",
       "3        Uncomfortable desk chair, not recommended.  17-07-2023  \n",
       "4         High-quality headphones, worth the money.  17-07-2023  \n",
       "5             Great smartphone, highly recommended!  18-07-2023  \n",
       "6            Comfortable and durable running shoes.  18-07-2023  \n",
       "7              Average basketball, nothing special.  19-07-2023  \n",
       "8  Overpriced television with poor picture quality.  20-07-2023  \n",
       "9                      Good toaster, toasts evenly.  20-07-2023  "
      ]
     },
     "execution_count": 11,
     "metadata": {},
     "output_type": "execute_result"
    }
   ],
   "source": [
    "Reviews_2=pd.DataFrame({\n",
    "    \"review_id\":[1,2,3,4,5,6,7,8,9,10],\n",
    "    \"product_id\":[4,7,1,3,6,2,5,9,10,8],\n",
    "    \"customer_id\":[10,2,7,5,9,3,8,1,4,6],\n",
    "    \"rating\":[5,5,4,2,5,5,4,3,1,4],\n",
    "    \"review_text\":['Excellent coffee maker for the price.','Sturdy and stylish dining table.','Fast and powerful laptop.','Uncomfortable desk chair, not recommended.','High-quality headphones, worth the money.','Great smartphone, highly recommended!','Comfortable and durable running shoes.','Average basketball, nothing special.','Overpriced television with poor picture quality.','Good toaster, toasts evenly.'],\n",
    "    \"review_date\":['15-07-2023','16-07-2023','16-07-2023','17-07-2023','17-07-2023','18-07-2023','18-07-2023','19-07-2023','20-07-2023','20-07-2023']\n",
    "})\n",
    "\n",
    "Reviews_2"
   ]
  },
  {
   "cell_type": "markdown",
   "metadata": {},
   "source": [
    "## Task 2: Show the top 5 records of all the tables."
   ]
  },
  {
   "cell_type": "code",
   "execution_count": 12,
   "metadata": {},
   "outputs": [
    {
     "data": {
      "text/html": [
       "<div>\n",
       "<style scoped>\n",
       "    .dataframe tbody tr th:only-of-type {\n",
       "        vertical-align: middle;\n",
       "    }\n",
       "\n",
       "    .dataframe tbody tr th {\n",
       "        vertical-align: top;\n",
       "    }\n",
       "\n",
       "    .dataframe thead th {\n",
       "        text-align: right;\n",
       "    }\n",
       "</style>\n",
       "<table border=\"1\" class=\"dataframe\">\n",
       "  <thead>\n",
       "    <tr style=\"text-align: right;\">\n",
       "      <th></th>\n",
       "      <th>review_id</th>\n",
       "      <th>product_id</th>\n",
       "      <th>customer_id</th>\n",
       "      <th>rating</th>\n",
       "      <th>review_text</th>\n",
       "      <th>review_date</th>\n",
       "    </tr>\n",
       "  </thead>\n",
       "  <tbody>\n",
       "    <tr>\n",
       "      <th>0</th>\n",
       "      <td>1</td>\n",
       "      <td>4</td>\n",
       "      <td>10</td>\n",
       "      <td>5</td>\n",
       "      <td>Excellent coffee maker for the price.</td>\n",
       "      <td>15-07-2023</td>\n",
       "    </tr>\n",
       "    <tr>\n",
       "      <th>1</th>\n",
       "      <td>2</td>\n",
       "      <td>7</td>\n",
       "      <td>2</td>\n",
       "      <td>5</td>\n",
       "      <td>Sturdy and stylish dining table.</td>\n",
       "      <td>16-07-2023</td>\n",
       "    </tr>\n",
       "    <tr>\n",
       "      <th>2</th>\n",
       "      <td>3</td>\n",
       "      <td>1</td>\n",
       "      <td>7</td>\n",
       "      <td>4</td>\n",
       "      <td>Fast and powerful laptop.</td>\n",
       "      <td>16-07-2023</td>\n",
       "    </tr>\n",
       "    <tr>\n",
       "      <th>3</th>\n",
       "      <td>4</td>\n",
       "      <td>3</td>\n",
       "      <td>5</td>\n",
       "      <td>2</td>\n",
       "      <td>Uncomfortable desk chair, not recommended.</td>\n",
       "      <td>17-07-2023</td>\n",
       "    </tr>\n",
       "    <tr>\n",
       "      <th>4</th>\n",
       "      <td>5</td>\n",
       "      <td>6</td>\n",
       "      <td>9</td>\n",
       "      <td>5</td>\n",
       "      <td>High-quality headphones, worth the money.</td>\n",
       "      <td>17-07-2023</td>\n",
       "    </tr>\n",
       "  </tbody>\n",
       "</table>\n",
       "</div>"
      ],
      "text/plain": [
       "   review_id  product_id  customer_id  rating  \\\n",
       "0          1           4           10       5   \n",
       "1          2           7            2       5   \n",
       "2          3           1            7       4   \n",
       "3          4           3            5       2   \n",
       "4          5           6            9       5   \n",
       "\n",
       "                                  review_text review_date  \n",
       "0       Excellent coffee maker for the price.  15-07-2023  \n",
       "1            Sturdy and stylish dining table.  16-07-2023  \n",
       "2                   Fast and powerful laptop.  16-07-2023  \n",
       "3  Uncomfortable desk chair, not recommended.  17-07-2023  \n",
       "4   High-quality headphones, worth the money.  17-07-2023  "
      ]
     },
     "execution_count": 12,
     "metadata": {},
     "output_type": "execute_result"
    }
   ],
   "source": [
    "#using head() method to display first n records: \n",
    "\n",
    "Customer_1.head(5)\n",
    "Customer_2.head(5)\n",
    "Employee_1.head(5)\n",
    "Employee_2.head(5)\n",
    "Product_1.head(5)\n",
    "Product_2.head(5)\n",
    "Orders_1.head(5)\n",
    "Orders_2.head(5)\n",
    "Reviews_1.head(5)\n",
    "Reviews_2.head(5)"
   ]
  },
  {
   "cell_type": "markdown",
   "metadata": {},
   "source": [
    "## Task 3: Write a code to show the null values present in the data."
   ]
  },
  {
   "cell_type": "code",
   "execution_count": 13,
   "metadata": {},
   "outputs": [
    {
     "data": {
      "text/html": [
       "<div>\n",
       "<style scoped>\n",
       "    .dataframe tbody tr th:only-of-type {\n",
       "        vertical-align: middle;\n",
       "    }\n",
       "\n",
       "    .dataframe tbody tr th {\n",
       "        vertical-align: top;\n",
       "    }\n",
       "\n",
       "    .dataframe thead th {\n",
       "        text-align: right;\n",
       "    }\n",
       "</style>\n",
       "<table border=\"1\" class=\"dataframe\">\n",
       "  <thead>\n",
       "    <tr style=\"text-align: right;\">\n",
       "      <th></th>\n",
       "      <th>customer_id</th>\n",
       "      <th>first name</th>\n",
       "      <th>last name</th>\n",
       "      <th>email</th>\n",
       "      <th>phone</th>\n",
       "    </tr>\n",
       "  </thead>\n",
       "  <tbody>\n",
       "  </tbody>\n",
       "</table>\n",
       "</div>"
      ],
      "text/plain": [
       "Empty DataFrame\n",
       "Columns: [customer_id, first name, last name, email, phone]\n",
       "Index: []"
      ]
     },
     "execution_count": 13,
     "metadata": {},
     "output_type": "execute_result"
    }
   ],
   "source": [
    "#for customer_1 table:\n",
    "\n",
    "Cusomer1_null = pd.isnull(Customer_1[\"first name\"])  #or\n",
    "Cusomer1_null = pd.isnull(Customer_1[\"last name\"])   #or\n",
    "\n",
    "Customer_1[Cusomer1_null]"
   ]
  },
  {
   "cell_type": "code",
   "execution_count": 14,
   "metadata": {},
   "outputs": [
    {
     "data": {
      "text/html": [
       "<div>\n",
       "<style scoped>\n",
       "    .dataframe tbody tr th:only-of-type {\n",
       "        vertical-align: middle;\n",
       "    }\n",
       "\n",
       "    .dataframe tbody tr th {\n",
       "        vertical-align: top;\n",
       "    }\n",
       "\n",
       "    .dataframe thead th {\n",
       "        text-align: right;\n",
       "    }\n",
       "</style>\n",
       "<table border=\"1\" class=\"dataframe\">\n",
       "  <thead>\n",
       "    <tr style=\"text-align: right;\">\n",
       "      <th></th>\n",
       "      <th>customer_id</th>\n",
       "      <th>first name</th>\n",
       "      <th>last name</th>\n",
       "      <th>email</th>\n",
       "      <th>phone</th>\n",
       "    </tr>\n",
       "  </thead>\n",
       "  <tbody>\n",
       "  </tbody>\n",
       "</table>\n",
       "</div>"
      ],
      "text/plain": [
       "Empty DataFrame\n",
       "Columns: [customer_id, first name, last name, email, phone]\n",
       "Index: []"
      ]
     },
     "execution_count": 14,
     "metadata": {},
     "output_type": "execute_result"
    }
   ],
   "source": [
    "#for customer_2 table:\n",
    "\n",
    "Cusomer2_null = pd.isnull(Customer_2[\"first name\"])  #or\n",
    "Cusomer2_null = pd.isnull(Customer_2[\"last name\"])   #or\n",
    "\n",
    "Customer_2[Cusomer2_null]"
   ]
  },
  {
   "cell_type": "code",
   "execution_count": 15,
   "metadata": {},
   "outputs": [
    {
     "data": {
      "text/html": [
       "<div>\n",
       "<style scoped>\n",
       "    .dataframe tbody tr th:only-of-type {\n",
       "        vertical-align: middle;\n",
       "    }\n",
       "\n",
       "    .dataframe tbody tr th {\n",
       "        vertical-align: top;\n",
       "    }\n",
       "\n",
       "    .dataframe thead th {\n",
       "        text-align: right;\n",
       "    }\n",
       "</style>\n",
       "<table border=\"1\" class=\"dataframe\">\n",
       "  <thead>\n",
       "    <tr style=\"text-align: right;\">\n",
       "      <th></th>\n",
       "      <th>employee_id</th>\n",
       "      <th>employee_name</th>\n",
       "      <th>last name</th>\n",
       "      <th>department</th>\n",
       "      <th>hire date</th>\n",
       "      <th>salary</th>\n",
       "    </tr>\n",
       "  </thead>\n",
       "  <tbody>\n",
       "  </tbody>\n",
       "</table>\n",
       "</div>"
      ],
      "text/plain": [
       "Empty DataFrame\n",
       "Columns: [employee_id, employee_name, last name, department, hire date, salary]\n",
       "Index: []"
      ]
     },
     "execution_count": 15,
     "metadata": {},
     "output_type": "execute_result"
    }
   ],
   "source": [
    "#for Employee_1 table:\n",
    "\n",
    "Employee1_null = pd.isnull(Employee_1[\"employee_name\"])  #or\n",
    "Employee1_null = pd.isnull(Employee_1[\"last name\"])   #or\n",
    "\n",
    "Employee_1[Employee1_null]"
   ]
  },
  {
   "cell_type": "code",
   "execution_count": 16,
   "metadata": {},
   "outputs": [
    {
     "data": {
      "text/html": [
       "<div>\n",
       "<style scoped>\n",
       "    .dataframe tbody tr th:only-of-type {\n",
       "        vertical-align: middle;\n",
       "    }\n",
       "\n",
       "    .dataframe tbody tr th {\n",
       "        vertical-align: top;\n",
       "    }\n",
       "\n",
       "    .dataframe thead th {\n",
       "        text-align: right;\n",
       "    }\n",
       "</style>\n",
       "<table border=\"1\" class=\"dataframe\">\n",
       "  <thead>\n",
       "    <tr style=\"text-align: right;\">\n",
       "      <th></th>\n",
       "      <th>employee_id</th>\n",
       "      <th>employee_name</th>\n",
       "      <th>last name</th>\n",
       "      <th>department</th>\n",
       "      <th>hire date</th>\n",
       "      <th>salary</th>\n",
       "    </tr>\n",
       "  </thead>\n",
       "  <tbody>\n",
       "  </tbody>\n",
       "</table>\n",
       "</div>"
      ],
      "text/plain": [
       "Empty DataFrame\n",
       "Columns: [employee_id, employee_name, last name, department, hire date, salary]\n",
       "Index: []"
      ]
     },
     "execution_count": 16,
     "metadata": {},
     "output_type": "execute_result"
    }
   ],
   "source": [
    "#for Employee_2 table:\n",
    "\n",
    "Employee2_null = pd.isnull(Employee_2[\"employee_name\"])  #or\n",
    "Employee2_null = pd.isnull(Employee_2[\"last name\"])   #or\n",
    "\n",
    "Employee_2[Employee2_null]"
   ]
  },
  {
   "cell_type": "code",
   "execution_count": 17,
   "metadata": {},
   "outputs": [
    {
     "data": {
      "text/html": [
       "<div>\n",
       "<style scoped>\n",
       "    .dataframe tbody tr th:only-of-type {\n",
       "        vertical-align: middle;\n",
       "    }\n",
       "\n",
       "    .dataframe tbody tr th {\n",
       "        vertical-align: top;\n",
       "    }\n",
       "\n",
       "    .dataframe thead th {\n",
       "        text-align: right;\n",
       "    }\n",
       "</style>\n",
       "<table border=\"1\" class=\"dataframe\">\n",
       "  <thead>\n",
       "    <tr style=\"text-align: right;\">\n",
       "      <th></th>\n",
       "      <th>order_id</th>\n",
       "      <th>customer_id</th>\n",
       "      <th>order_date</th>\n",
       "      <th>total_amount</th>\n",
       "    </tr>\n",
       "  </thead>\n",
       "  <tbody>\n",
       "  </tbody>\n",
       "</table>\n",
       "</div>"
      ],
      "text/plain": [
       "Empty DataFrame\n",
       "Columns: [order_id, customer_id, order_date, total_amount]\n",
       "Index: []"
      ]
     },
     "execution_count": 17,
     "metadata": {},
     "output_type": "execute_result"
    }
   ],
   "source": [
    "#for Order_1 table:\n",
    "\n",
    "Orders1_null = pd.isnull(Orders_1[\"order_id\"])  #or\n",
    "Orders1_null = pd.isnull(Orders_1[\"customer_id\"])   #or\n",
    "\n",
    "Orders_1[Orders1_null]"
   ]
  },
  {
   "cell_type": "code",
   "execution_count": 18,
   "metadata": {},
   "outputs": [
    {
     "data": {
      "text/html": [
       "<div>\n",
       "<style scoped>\n",
       "    .dataframe tbody tr th:only-of-type {\n",
       "        vertical-align: middle;\n",
       "    }\n",
       "\n",
       "    .dataframe tbody tr th {\n",
       "        vertical-align: top;\n",
       "    }\n",
       "\n",
       "    .dataframe thead th {\n",
       "        text-align: right;\n",
       "    }\n",
       "</style>\n",
       "<table border=\"1\" class=\"dataframe\">\n",
       "  <thead>\n",
       "    <tr style=\"text-align: right;\">\n",
       "      <th></th>\n",
       "      <th>order_id</th>\n",
       "      <th>customer_id</th>\n",
       "      <th>order_date</th>\n",
       "      <th>total_amount</th>\n",
       "    </tr>\n",
       "  </thead>\n",
       "  <tbody>\n",
       "  </tbody>\n",
       "</table>\n",
       "</div>"
      ],
      "text/plain": [
       "Empty DataFrame\n",
       "Columns: [order_id, customer_id, order_date, total_amount]\n",
       "Index: []"
      ]
     },
     "execution_count": 18,
     "metadata": {},
     "output_type": "execute_result"
    }
   ],
   "source": [
    "#for Order_2 table:\n",
    "\n",
    "Orders2_null = pd.isnull(Orders_2[\"order_id\"])  #or\n",
    "Orders2_null = pd.isnull(Orders_2[\"customer_id\"])   #or\n",
    "\n",
    "Orders_2[Orders2_null]"
   ]
  },
  {
   "cell_type": "code",
   "execution_count": 19,
   "metadata": {},
   "outputs": [
    {
     "data": {
      "text/html": [
       "<div>\n",
       "<style scoped>\n",
       "    .dataframe tbody tr th:only-of-type {\n",
       "        vertical-align: middle;\n",
       "    }\n",
       "\n",
       "    .dataframe tbody tr th {\n",
       "        vertical-align: top;\n",
       "    }\n",
       "\n",
       "    .dataframe thead th {\n",
       "        text-align: right;\n",
       "    }\n",
       "</style>\n",
       "<table border=\"1\" class=\"dataframe\">\n",
       "  <thead>\n",
       "    <tr style=\"text-align: right;\">\n",
       "      <th></th>\n",
       "      <th>product_id</th>\n",
       "      <th>product_name</th>\n",
       "      <th>category</th>\n",
       "      <th>price</th>\n",
       "      <th>stock quantity</th>\n",
       "    </tr>\n",
       "  </thead>\n",
       "  <tbody>\n",
       "  </tbody>\n",
       "</table>\n",
       "</div>"
      ],
      "text/plain": [
       "Empty DataFrame\n",
       "Columns: [product_id, product_name, category, price, stock quantity]\n",
       "Index: []"
      ]
     },
     "execution_count": 19,
     "metadata": {},
     "output_type": "execute_result"
    }
   ],
   "source": [
    "#for Product_1 table:\n",
    "\n",
    "Product1_null = pd.isnull(Product_1[\"category\"])  #or\n",
    "Product1_null = pd.isnull(Product_1[\"price\"])   #or\n",
    "\n",
    "Product_1[Product1_null]"
   ]
  },
  {
   "cell_type": "code",
   "execution_count": 20,
   "metadata": {},
   "outputs": [
    {
     "data": {
      "text/html": [
       "<div>\n",
       "<style scoped>\n",
       "    .dataframe tbody tr th:only-of-type {\n",
       "        vertical-align: middle;\n",
       "    }\n",
       "\n",
       "    .dataframe tbody tr th {\n",
       "        vertical-align: top;\n",
       "    }\n",
       "\n",
       "    .dataframe thead th {\n",
       "        text-align: right;\n",
       "    }\n",
       "</style>\n",
       "<table border=\"1\" class=\"dataframe\">\n",
       "  <thead>\n",
       "    <tr style=\"text-align: right;\">\n",
       "      <th></th>\n",
       "      <th>product_id</th>\n",
       "      <th>product_name</th>\n",
       "      <th>category</th>\n",
       "      <th>price</th>\n",
       "      <th>stock quantity</th>\n",
       "    </tr>\n",
       "  </thead>\n",
       "  <tbody>\n",
       "  </tbody>\n",
       "</table>\n",
       "</div>"
      ],
      "text/plain": [
       "Empty DataFrame\n",
       "Columns: [product_id, product_name, category, price, stock quantity]\n",
       "Index: []"
      ]
     },
     "execution_count": 20,
     "metadata": {},
     "output_type": "execute_result"
    }
   ],
   "source": [
    "#for Product2 table:\n",
    "\n",
    "Product2_null = pd.isnull(Product_2[\"category\"])  #or\n",
    "Product2_null = pd.isnull(Product_2[\"price\"])   #or\n",
    "\n",
    "Product_2[Product2_null]"
   ]
  },
  {
   "cell_type": "code",
   "execution_count": 21,
   "metadata": {},
   "outputs": [
    {
     "data": {
      "text/html": [
       "<div>\n",
       "<style scoped>\n",
       "    .dataframe tbody tr th:only-of-type {\n",
       "        vertical-align: middle;\n",
       "    }\n",
       "\n",
       "    .dataframe tbody tr th {\n",
       "        vertical-align: top;\n",
       "    }\n",
       "\n",
       "    .dataframe thead th {\n",
       "        text-align: right;\n",
       "    }\n",
       "</style>\n",
       "<table border=\"1\" class=\"dataframe\">\n",
       "  <thead>\n",
       "    <tr style=\"text-align: right;\">\n",
       "      <th></th>\n",
       "      <th>review_id</th>\n",
       "      <th>product_id</th>\n",
       "      <th>customer_id</th>\n",
       "      <th>rating</th>\n",
       "      <th>review_text</th>\n",
       "      <th>review_date</th>\n",
       "    </tr>\n",
       "  </thead>\n",
       "  <tbody>\n",
       "  </tbody>\n",
       "</table>\n",
       "</div>"
      ],
      "text/plain": [
       "Empty DataFrame\n",
       "Columns: [review_id, product_id, customer_id, rating, review_text, review_date]\n",
       "Index: []"
      ]
     },
     "execution_count": 21,
     "metadata": {},
     "output_type": "execute_result"
    }
   ],
   "source": [
    "# for Reviews_1 table\n",
    "Reviews1_null = pd.isnull(Reviews_1 [\"review_id\"])  #or\n",
    "Reviews1_null = pd.isnull(Reviews_1 [\"review_text\"])   #or\n",
    "\n",
    "Reviews_1[Reviews1_null]"
   ]
  },
  {
   "cell_type": "code",
   "execution_count": 22,
   "metadata": {},
   "outputs": [
    {
     "data": {
      "text/html": [
       "<div>\n",
       "<style scoped>\n",
       "    .dataframe tbody tr th:only-of-type {\n",
       "        vertical-align: middle;\n",
       "    }\n",
       "\n",
       "    .dataframe tbody tr th {\n",
       "        vertical-align: top;\n",
       "    }\n",
       "\n",
       "    .dataframe thead th {\n",
       "        text-align: right;\n",
       "    }\n",
       "</style>\n",
       "<table border=\"1\" class=\"dataframe\">\n",
       "  <thead>\n",
       "    <tr style=\"text-align: right;\">\n",
       "      <th></th>\n",
       "      <th>review_id</th>\n",
       "      <th>product_id</th>\n",
       "      <th>customer_id</th>\n",
       "      <th>rating</th>\n",
       "      <th>review_text</th>\n",
       "      <th>review_date</th>\n",
       "    </tr>\n",
       "  </thead>\n",
       "  <tbody>\n",
       "  </tbody>\n",
       "</table>\n",
       "</div>"
      ],
      "text/plain": [
       "Empty DataFrame\n",
       "Columns: [review_id, product_id, customer_id, rating, review_text, review_date]\n",
       "Index: []"
      ]
     },
     "execution_count": 22,
     "metadata": {},
     "output_type": "execute_result"
    }
   ],
   "source": [
    "# for Reviews_2 table\n",
    "Reviews2_null = pd.isnull(Reviews_2 [\"review_id\"])  #or\n",
    "Reviews2_null = pd.isnull(Reviews_2 [\"review_text\"])   #or\n",
    "\n",
    "Reviews_2[Reviews2_null]"
   ]
  },
  {
   "cell_type": "markdown",
   "metadata": {},
   "source": [
    "## Task 4: Draw the pair plot for all the data frame separately"
   ]
  },
  {
   "cell_type": "markdown",
   "metadata": {},
   "source": [
    "### Customer_1 table"
   ]
  },
  {
   "cell_type": "code",
   "execution_count": 23,
   "metadata": {},
   "outputs": [
    {
     "data": {
      "text/plain": [
       "customer_id    0\n",
       "first name     0\n",
       "last name      0\n",
       "email          0\n",
       "phone          0\n",
       "dtype: int64"
      ]
     },
     "execution_count": 23,
     "metadata": {},
     "output_type": "execute_result"
    }
   ],
   "source": [
    "#step1 :\n",
    "#check for null values in data\n",
    "\n",
    "Customer_1.isnull().sum()\n",
    "\n"
   ]
  },
  {
   "cell_type": "code",
   "execution_count": 24,
   "metadata": {},
   "outputs": [],
   "source": [
    "#outlier check :\n",
    "# separate the numerical and categorical data\n",
    "C1_cat = Customer_1.select_dtypes(include=\"object\") # categorical data in Customer1 table\n",
    "    \n",
    "C1_num = Customer_1.select_dtypes(include=\"number\") #numerical data in Customer1 table"
   ]
  },
  {
   "cell_type": "code",
   "execution_count": 25,
   "metadata": {},
   "outputs": [
    {
     "data": {
      "text/plain": [
       "<function matplotlib.pyplot.show(close=None, block=None)>"
      ]
     },
     "execution_count": 25,
     "metadata": {},
     "output_type": "execute_result"
    },
    {
     "data": {
      "image/png": "[encoded data removed]",
      "text/plain": [
       "<Figure size 640x480 with 1 Axes>"
      ]
     },
     "metadata": {},
     "output_type": "display_data"
    }
   ],
   "source": [
    "#plot the histogram to authenticate the data\n",
    "#importing seaborn and matplotlib to draw ply plot and histograms of the tables \n",
    "\n",
    "import seaborn as sns\n",
    "import matplotlib.pyplot as plt\n",
    "\n",
    "C1_num.hist()\n",
    "plt.tight_layout()\n",
    "plt.figure()\n",
    "plt.show()"
   ]
  },
  {
   "cell_type": "markdown",
   "metadata": {},
   "source": [
    "- inference :\n",
    "     - In the table Customer_1 only customer_id is numerical type of data          which is unique"
   ]
  },
  {
   "cell_type": "markdown",
   "metadata": {},
   "source": [
    "### Customer_2 table  "
   ]
  },
  {
   "cell_type": "code",
   "execution_count": 26,
   "metadata": {},
   "outputs": [
    {
     "data": {
      "text/plain": [
       "customer_id    0\n",
       "first name     0\n",
       "last name      0\n",
       "email          0\n",
       "phone          0\n",
       "dtype: int64"
      ]
     },
     "execution_count": 26,
     "metadata": {},
     "output_type": "execute_result"
    }
   ],
   "source": [
    "#step1 :\n",
    "#check for null values in data\n",
    "\n",
    "Customer_2.isnull().sum()\n",
    "\n"
   ]
  },
  {
   "cell_type": "code",
   "execution_count": 27,
   "metadata": {},
   "outputs": [],
   "source": [
    "#step2 : outlier check :\n",
    "# separate the numerical and categorical data\n",
    "C2_cat = Customer_2.select_dtypes(include=\"object\")\n",
    "    \n",
    "C2_num = Customer_2.select_dtypes(include=\"number\")"
   ]
  },
  {
   "cell_type": "code",
   "execution_count": 28,
   "metadata": {},
   "outputs": [
    {
     "data": {
      "text/plain": [
       "<function matplotlib.pyplot.show(close=None, block=None)>"
      ]
     },
     "execution_count": 28,
     "metadata": {},
     "output_type": "execute_result"
    },
    {
     "data": {
      "image/png": "[encoded data removed]",
      "text/plain": [
       "<Figure size 640x480 with 1 Axes>"
      ]
     },
     "metadata": {},
     "output_type": "display_data"
    }
   ],
   "source": [
    "# step3 : plot the histogram to authenticate the data\n",
    "\n",
    "C2_num.hist()\n",
    "plt.tight_layout()\n",
    "plt.figure\n",
    "plt.show"
   ]
  },
  {
   "cell_type": "markdown",
   "metadata": {},
   "source": [
    "- inference :\n",
    "     - In the table Customer_2 only customer_id is numerical type of data  \n",
    "        which is unique"
   ]
  },
  {
   "cell_type": "markdown",
   "metadata": {},
   "source": [
    "### Employee_1 table"
   ]
  },
  {
   "cell_type": "code",
   "execution_count": 29,
   "metadata": {},
   "outputs": [
    {
     "data": {
      "text/plain": [
       "employee_id      0\n",
       "employee_name    0\n",
       "last name        0\n",
       "department       0\n",
       "hire date        0\n",
       "salary           0\n",
       "dtype: int64"
      ]
     },
     "execution_count": 29,
     "metadata": {},
     "output_type": "execute_result"
    }
   ],
   "source": [
    "#step1 :\n",
    "#check for null values in data\n",
    "\n",
    "Employee_1.isnull().sum()\n"
   ]
  },
  {
   "cell_type": "code",
   "execution_count": 30,
   "metadata": {},
   "outputs": [],
   "source": [
    "#step2 : outlier check :\n",
    "# separate the numerical and categorical data\n",
    "Emp1_cat = Employee_1.select_dtypes(include=\"object\")\n",
    "    \n",
    "Emp1_num = Employee_1.select_dtypes(include=\"number\")"
   ]
  },
  {
   "cell_type": "code",
   "execution_count": 31,
   "metadata": {},
   "outputs": [
    {
     "data": {
      "text/plain": [
       "<function matplotlib.pyplot.show(close=None, block=None)>"
      ]
     },
     "execution_count": 31,
     "metadata": {},
     "output_type": "execute_result"
    },
    {
     "data": {
      "image/png": "[encoded data removed]",
      "text/plain": [
       "<Figure size 640x480 with 2 Axes>"
      ]
     },
     "metadata": {},
     "output_type": "display_data"
    }
   ],
   "source": [
    "# step3 : plot the histogram to authenticate the data\n",
    "\n",
    "Emp1_num.hist()\n",
    "plt.tight_layout()\n",
    "plt.figure\n",
    "plt.show"
   ]
  },
  {
   "cell_type": "markdown",
   "metadata": {},
   "source": [
    "- inference :\n",
    "     - In the table Employee_1 employee_id and salary are numerical type of        data in which, id is unique and salary is uneven which needs to be          categorical."
   ]
  },
  {
   "cell_type": "markdown",
   "metadata": {},
   "source": [
    "### Employee_2 table"
   ]
  },
  {
   "cell_type": "code",
   "execution_count": 32,
   "metadata": {},
   "outputs": [
    {
     "data": {
      "text/plain": [
       "employee_id      0\n",
       "employee_name    0\n",
       "last name        0\n",
       "department       0\n",
       "hire date        0\n",
       "salary           0\n",
       "dtype: int64"
      ]
     },
     "execution_count": 32,
     "metadata": {},
     "output_type": "execute_result"
    }
   ],
   "source": [
    "#step1 :\n",
    "#check for null values in data\n",
    "\n",
    "Employee_2.isnull().sum()\n"
   ]
  },
  {
   "cell_type": "code",
   "execution_count": 33,
   "metadata": {},
   "outputs": [],
   "source": [
    "#step2 : outlier check :\n",
    "# separate the numerical and categorical data\n",
    "Emp2_cat = Employee_2.select_dtypes(include=\"object\")\n",
    "    \n",
    "Emp2_num = Employee_2.select_dtypes(include=\"number\")"
   ]
  },
  {
   "cell_type": "code",
   "execution_count": 34,
   "metadata": {},
   "outputs": [
    {
     "data": {
      "text/plain": [
       "<function matplotlib.pyplot.show(close=None, block=None)>"
      ]
     },
     "execution_count": 34,
     "metadata": {},
     "output_type": "execute_result"
    },
    {
     "data": {
      "image/png": "[encoded data removed]",
      "text/plain": [
       "<Figure size 640x480 with 2 Axes>"
      ]
     },
     "metadata": {},
     "output_type": "display_data"
    }
   ],
   "source": [
    "# step3 : plot the histogram to authenticate the data\n",
    "\n",
    "Emp2_num.hist()\n",
    "plt.tight_layout()\n",
    "plt.figure\n",
    "plt.show"
   ]
  },
  {
   "cell_type": "markdown",
   "metadata": {},
   "source": [
    "- inference :\n",
    "     - In the table Employee_2 employee_id and salary are numerical type of        data in which, id is unique and salary is uneven.thus salary column        needs to be categorical."
   ]
  },
  {
   "cell_type": "markdown",
   "metadata": {},
   "source": [
    "### Orders_1 table"
   ]
  },
  {
   "cell_type": "code",
   "execution_count": 35,
   "metadata": {},
   "outputs": [
    {
     "data": {
      "text/plain": [
       "order_id        0\n",
       "customer_id     0\n",
       "order_date      0\n",
       "total_amount    0\n",
       "dtype: int64"
      ]
     },
     "execution_count": 35,
     "metadata": {},
     "output_type": "execute_result"
    }
   ],
   "source": [
    "#step1 :\n",
    "#check for null values in data\n",
    "\n",
    "Orders_1.isnull().sum()"
   ]
  },
  {
   "cell_type": "code",
   "execution_count": 36,
   "metadata": {},
   "outputs": [],
   "source": [
    "#step2 : outlier check :\n",
    "# separate the numerical and categorical data\n",
    "O1_cat = Orders_1.select_dtypes(include=\"object\")\n",
    "    \n",
    "O1_num = Orders_1.select_dtypes(include=\"number\")"
   ]
  },
  {
   "cell_type": "code",
   "execution_count": 37,
   "metadata": {},
   "outputs": [
    {
     "data": {
      "text/plain": [
       "<function matplotlib.pyplot.show(close=None, block=None)>"
      ]
     },
     "execution_count": 37,
     "metadata": {},
     "output_type": "execute_result"
    },
    {
     "data": {
      "image/png": "[encoded data removed]",
      "text/plain": [
       "<Figure size 640x480 with 4 Axes>"
      ]
     },
     "metadata": {},
     "output_type": "display_data"
    }
   ],
   "source": [
    "# step3 : plot the histogram to authenticate the data\n",
    "\n",
    "O1_num.hist()\n",
    "plt.tight_layout()\n",
    "plt.figure\n",
    "plt.show"
   ]
  },
  {
   "cell_type": "markdown",
   "metadata": {},
   "source": [
    "- inference :\n",
    "     - In Orders_1 customer_id, order_id and salary are numerical type of        data in which, order_id is unique, customer_id is reference from            customer_1 or customer_2 table and salary is uneven which needs to be      categorical."
   ]
  },
  {
   "cell_type": "markdown",
   "metadata": {},
   "source": [
    "### Order_2 table"
   ]
  },
  {
   "cell_type": "code",
   "execution_count": 38,
   "metadata": {},
   "outputs": [
    {
     "data": {
      "text/plain": [
       "order_id        0\n",
       "customer_id     0\n",
       "order_date      0\n",
       "total_amount    0\n",
       "dtype: int64"
      ]
     },
     "execution_count": 38,
     "metadata": {},
     "output_type": "execute_result"
    }
   ],
   "source": [
    "#step1 :\n",
    "#check for null values in data\n",
    "\n",
    "Orders_2.isnull().sum()"
   ]
  },
  {
   "cell_type": "code",
   "execution_count": 39,
   "metadata": {},
   "outputs": [],
   "source": [
    "#step2 : outlier check :\n",
    "# separate the numerical and categorical data\n",
    "O2_cat = Orders_2.select_dtypes(include=\"object\")\n",
    "    \n",
    "O2_num = Orders_2.select_dtypes(include=\"number\")"
   ]
  },
  {
   "cell_type": "code",
   "execution_count": 40,
   "metadata": {},
   "outputs": [
    {
     "data": {
      "text/plain": [
       "<function matplotlib.pyplot.show(close=None, block=None)>"
      ]
     },
     "execution_count": 40,
     "metadata": {},
     "output_type": "execute_result"
    },
    {
     "data": {
      "image/png": "[encoded data removed]",
      "text/plain": [
       "<Figure size 640x480 with 4 Axes>"
      ]
     },
     "metadata": {},
     "output_type": "display_data"
    }
   ],
   "source": [
    "# step3 : plot the histogram to authenticate the data\n",
    "\n",
    "O2_num.hist()\n",
    "plt.tight_layout()\n",
    "plt.figure\n",
    "plt.show"
   ]
  },
  {
   "cell_type": "markdown",
   "metadata": {},
   "source": [
    "- inference :\n",
    "     - In Orders_2 table customer_id, order_id and salary are numerical            type of data in which, order_id is unique, customer_id is reference        from customer_1 or customer_2 table and salary is uneven which needs        to be categorical."
   ]
  },
  {
   "cell_type": "markdown",
   "metadata": {},
   "source": [
    "### Product_1 table"
   ]
  },
  {
   "cell_type": "code",
   "execution_count": 41,
   "metadata": {},
   "outputs": [
    {
     "data": {
      "text/plain": [
       "product_id        0\n",
       "product_name      0\n",
       "category          0\n",
       "price             0\n",
       "stock quantity    0\n",
       "dtype: int64"
      ]
     },
     "execution_count": 41,
     "metadata": {},
     "output_type": "execute_result"
    }
   ],
   "source": [
    "#step1 :\n",
    "#check for null values in data\n",
    "\n",
    "Product_1.isnull().sum()"
   ]
  },
  {
   "cell_type": "code",
   "execution_count": 42,
   "metadata": {},
   "outputs": [],
   "source": [
    "#step2 : outlier check :\n",
    "# separate the numerical and categorical data\n",
    "Pro1_cat = Product_1.select_dtypes(include=\"object\")\n",
    "    \n",
    "Pro1_num = Product_1.select_dtypes(include=\"number\")"
   ]
  },
  {
   "cell_type": "code",
   "execution_count": 43,
   "metadata": {},
   "outputs": [
    {
     "data": {
      "text/plain": [
       "<function matplotlib.pyplot.show(close=None, block=None)>"
      ]
     },
     "execution_count": 43,
     "metadata": {},
     "output_type": "execute_result"
    },
    {
     "data": {
      "image/png": "[encoded data removed]",
      "text/plain": [
       "<Figure size 640x480 with 4 Axes>"
      ]
     },
     "metadata": {},
     "output_type": "display_data"
    }
   ],
   "source": [
    "# step3 : plot the histogram to authenticate the data\n",
    "\n",
    "Pro1_num.hist()\n",
    "plt.tight_layout()\n",
    "plt.figure\n",
    "plt.show"
   ]
  },
  {
   "cell_type": "markdown",
   "metadata": {},
   "source": [
    "- inference :\n",
    "     - In Product_1 table product_id is a unique column and price of the         product is decreasing.\n",
    "     - stock quantity was stable sometime but at a point it was increased a        and at another point stock ran out. "
   ]
  },
  {
   "cell_type": "markdown",
   "metadata": {},
   "source": [
    "### Product_2 table"
   ]
  },
  {
   "cell_type": "code",
   "execution_count": 44,
   "metadata": {},
   "outputs": [
    {
     "data": {
      "text/plain": [
       "product_id        0\n",
       "product_name      0\n",
       "category          0\n",
       "price             0\n",
       "stock quantity    0\n",
       "dtype: int64"
      ]
     },
     "execution_count": 44,
     "metadata": {},
     "output_type": "execute_result"
    }
   ],
   "source": [
    "#step1 :\n",
    "#check for null values in data\n",
    "\n",
    "Product_2.isnull().sum()"
   ]
  },
  {
   "cell_type": "code",
   "execution_count": 45,
   "metadata": {},
   "outputs": [],
   "source": [
    "#step2 : outlier check :\n",
    "# separate the numerical and categorical data\n",
    "Pro2_cat = Product_2.select_dtypes(include=\"object\")\n",
    "    \n",
    "Pro2_num = Product_2.select_dtypes(include=\"number\")"
   ]
  },
  {
   "cell_type": "code",
   "execution_count": 46,
   "metadata": {},
   "outputs": [
    {
     "data": {
      "text/plain": [
       "<function matplotlib.pyplot.show(close=None, block=None)>"
      ]
     },
     "execution_count": 46,
     "metadata": {},
     "output_type": "execute_result"
    },
    {
     "data": {
      "image/png": "[encoded data removed]",
      "text/plain": [
       "<Figure size 640x480 with 4 Axes>"
      ]
     },
     "metadata": {},
     "output_type": "display_data"
    }
   ],
   "source": [
    "# step3 : plot the histogram to authenticate the data\n",
    "\n",
    "Pro2_num.hist()\n",
    "plt.tight_layout()\n",
    "plt.figure\n",
    "plt.show"
   ]
  },
  {
   "cell_type": "markdown",
   "metadata": {},
   "source": [
    "- inference :\n",
    "     - In Product_2 table product_id is a unique column and price of the         product is decreasing.\n",
    "     - stock quantity was stable for sometime but at a point it was                increased and at another point stock ran out. "
   ]
  },
  {
   "cell_type": "markdown",
   "metadata": {},
   "source": [
    "### Reviews_1 table"
   ]
  },
  {
   "cell_type": "code",
   "execution_count": 47,
   "metadata": {},
   "outputs": [
    {
     "data": {
      "text/plain": [
       "review_id      0\n",
       "product_id     0\n",
       "customer_id    0\n",
       "rating         0\n",
       "review_text    0\n",
       "review_date    0\n",
       "dtype: int64"
      ]
     },
     "execution_count": 47,
     "metadata": {},
     "output_type": "execute_result"
    }
   ],
   "source": [
    "#step1 :\n",
    "#check for null values in data\n",
    "\n",
    "Reviews_1.isnull().sum()"
   ]
  },
  {
   "cell_type": "code",
   "execution_count": 48,
   "metadata": {},
   "outputs": [],
   "source": [
    "#step2 : outlier check :\n",
    "# separate the numerical and categorical data\n",
    "R1_cat = Reviews_1.select_dtypes(include=\"object\")\n",
    "    \n",
    "R1_num =Reviews_1.select_dtypes(include=\"number\")"
   ]
  },
  {
   "cell_type": "code",
   "execution_count": 49,
   "metadata": {},
   "outputs": [
    {
     "data": {
      "text/plain": [
       "<function matplotlib.pyplot.show(close=None, block=None)>"
      ]
     },
     "execution_count": 49,
     "metadata": {},
     "output_type": "execute_result"
    },
    {
     "data": {
      "image/png": "[encoded data removed]",
      "text/plain": [
       "<Figure size 640x480 with 4 Axes>"
      ]
     },
     "metadata": {},
     "output_type": "display_data"
    }
   ],
   "source": [
    "# step3 : plot the histogram to authenticate the data\n",
    "\n",
    "R1_num.hist()\n",
    "plt.tight_layout()\n",
    "plt.figure\n",
    "plt.show"
   ]
  },
  {
   "cell_type": "markdown",
   "metadata": {},
   "source": [
    "- inference :\n",
    "     - In Reviews_1 table reviews_id is unique whereas product_id and              customer_id are reference from the product and customer table.  \n",
    "     - Here, we can see that rating for product is increasing which is a          good sign for company.  "
   ]
  },
  {
   "cell_type": "markdown",
   "metadata": {},
   "source": [
    "### Reviews_2 table"
   ]
  },
  {
   "cell_type": "code",
   "execution_count": 50,
   "metadata": {},
   "outputs": [
    {
     "data": {
      "text/plain": [
       "review_id      0\n",
       "product_id     0\n",
       "customer_id    0\n",
       "rating         0\n",
       "review_text    0\n",
       "review_date    0\n",
       "dtype: int64"
      ]
     },
     "execution_count": 50,
     "metadata": {},
     "output_type": "execute_result"
    }
   ],
   "source": [
    "#step1 :\n",
    "#check for null values in data\n",
    "\n",
    "Reviews_2.isnull().sum()"
   ]
  },
  {
   "cell_type": "code",
   "execution_count": 51,
   "metadata": {},
   "outputs": [],
   "source": [
    "#step2 : outlier check :\n",
    "# separate the numerical and categorical data\n",
    "R2_cat = Reviews_2.select_dtypes(include=\"object\")\n",
    "    \n",
    "R2_num =Reviews_2.select_dtypes(include=\"number\")"
   ]
  },
  {
   "cell_type": "code",
   "execution_count": 52,
   "metadata": {},
   "outputs": [
    {
     "data": {
      "text/plain": [
       "<function matplotlib.pyplot.show(close=None, block=None)>"
      ]
     },
     "execution_count": 52,
     "metadata": {},
     "output_type": "execute_result"
    },
    {
     "data": {
      "image/png": "[encoded data removed]",
      "text/plain": [
       "<Figure size 640x480 with 4 Axes>"
      ]
     },
     "metadata": {},
     "output_type": "display_data"
    }
   ],
   "source": [
    "# step3 : plot the histogram to authenticate the data\n",
    "\n",
    "R2_num.hist()\n",
    "plt.tight_layout()\n",
    "plt.figure\n",
    "plt.show"
   ]
  },
  {
   "cell_type": "markdown",
   "metadata": {},
   "source": [
    "- inference :\n",
    "     - In Reviews_2 table reviews_id is unique whereas product_id and              customer_id are reference from the product and customer table.  \n",
    "       and rating is increasing."
   ]
  },
  {
   "cell_type": "markdown",
   "metadata": {},
   "source": [
    "## Task 5: Draw the Histogram as well for all the data frame separately"
   ]
  },
  {
   "cell_type": "markdown",
   "metadata": {},
   "source": [
    "### For Customer_1 table:"
   ]
  },
  {
   "cell_type": "code",
   "execution_count": 53,
   "metadata": {},
   "outputs": [
    {
     "data": {
      "text/plain": [
       "Index(['customer_id'], dtype='object')"
      ]
     },
     "execution_count": 53,
     "metadata": {},
     "output_type": "execute_result"
    }
   ],
   "source": [
    "#columns(numerical) of the table\n",
    "C1_num.columns"
   ]
  },
  {
   "cell_type": "code",
   "execution_count": 54,
   "metadata": {},
   "outputs": [
    {
     "data": {
      "image/png": "[encoded data removed]",
      "text/plain": [
       "<Figure size 640x480 with 1 Axes>"
      ]
     },
     "metadata": {},
     "output_type": "display_data"
    }
   ],
   "source": [
    "C1_num[\"customer_id\"].plot(kind=\"hist\")\n",
    "plt.show()\n"
   ]
  },
  {
   "cell_type": "code",
   "execution_count": 55,
   "metadata": {},
   "outputs": [
    {
     "name": "stdout",
     "output_type": "stream",
     "text": [
      "<class 'pandas.core.frame.DataFrame'>\n",
      "RangeIndex: 10 entries, 0 to 9\n",
      "Data columns (total 5 columns):\n",
      " #   Column       Non-Null Count  Dtype \n",
      "---  ------       --------------  ----- \n",
      " 0   customer_id  10 non-null     int64 \n",
      " 1   first name   10 non-null     object\n",
      " 2   last name    10 non-null     object\n",
      " 3   email        10 non-null     object\n",
      " 4   phone        10 non-null     object\n",
      "dtypes: int64(1), object(4)\n",
      "memory usage: 528.0+ bytes\n"
     ]
    }
   ],
   "source": [
    "#displaying the info about table(column name, datatype etc.)\n",
    "Customer_1.info() "
   ]
  },
  {
   "cell_type": "code",
   "execution_count": null,
   "metadata": {},
   "outputs": [],
   "source": []
  },
  {
   "cell_type": "markdown",
   "metadata": {},
   "source": [
    "### For Customer_2 table:"
   ]
  },
  {
   "cell_type": "code",
   "execution_count": 56,
   "metadata": {},
   "outputs": [
    {
     "data": {
      "text/plain": [
       "Index(['customer_id'], dtype='object')"
      ]
     },
     "execution_count": 56,
     "metadata": {},
     "output_type": "execute_result"
    }
   ],
   "source": [
    "#columns(numerical) of the table\n",
    "C2_num.columns"
   ]
  },
  {
   "cell_type": "code",
   "execution_count": 57,
   "metadata": {},
   "outputs": [
    {
     "data": {
      "image/png": "[encoded data removed]",
      "text/plain": [
       "<Figure size 640x480 with 1 Axes>"
      ]
     },
     "metadata": {},
     "output_type": "display_data"
    }
   ],
   "source": [
    "C2_num[\"customer_id\"].plot(kind=\"hist\")\n",
    "plt.show()\n"
   ]
  },
  {
   "cell_type": "code",
   "execution_count": 58,
   "metadata": {},
   "outputs": [
    {
     "name": "stdout",
     "output_type": "stream",
     "text": [
      "<class 'pandas.core.frame.DataFrame'>\n",
      "RangeIndex: 10 entries, 0 to 9\n",
      "Data columns (total 5 columns):\n",
      " #   Column       Non-Null Count  Dtype \n",
      "---  ------       --------------  ----- \n",
      " 0   customer_id  10 non-null     int64 \n",
      " 1   first name   10 non-null     object\n",
      " 2   last name    10 non-null     object\n",
      " 3   email        10 non-null     object\n",
      " 4   phone        10 non-null     object\n",
      "dtypes: int64(1), object(4)\n",
      "memory usage: 528.0+ bytes\n"
     ]
    }
   ],
   "source": [
    "#displaying the info about table(column name, datatype etc.)\n",
    "Customer_2.info()"
   ]
  },
  {
   "cell_type": "markdown",
   "metadata": {},
   "source": [
    "### For Orders_1 table:"
   ]
  },
  {
   "cell_type": "code",
   "execution_count": 59,
   "metadata": {
    "scrolled": true
   },
   "outputs": [
    {
     "data": {
      "text/plain": [
       "Index(['order_id', 'customer_id', 'total_amount'], dtype='object')"
      ]
     },
     "execution_count": 59,
     "metadata": {},
     "output_type": "execute_result"
    }
   ],
   "source": [
    "#columns(numerical) of the table\n",
    "O1_num.columns"
   ]
  },
  {
   "cell_type": "code",
   "execution_count": 60,
   "metadata": {},
   "outputs": [
    {
     "data": {
      "image/png": "[encoded data removed]",
      "text/plain": [
       "<Figure size 640x480 with 1 Axes>"
      ]
     },
     "metadata": {},
     "output_type": "display_data"
    }
   ],
   "source": [
    "O1_num[[ 'order_id']].plot(kind=\"hist\")\n",
    "plt.show()"
   ]
  },
  {
   "cell_type": "code",
   "execution_count": 61,
   "metadata": {},
   "outputs": [
    {
     "data": {
      "image/png": "[encoded data removed]",
      "text/plain": [
       "<Figure size 640x480 with 1 Axes>"
      ]
     },
     "metadata": {},
     "output_type": "display_data"
    }
   ],
   "source": [
    "O1_num[[ 'customer_id']].plot(kind=\"hist\")\n",
    "plt.show()"
   ]
  },
  {
   "cell_type": "code",
   "execution_count": 62,
   "metadata": {},
   "outputs": [
    {
     "data": {
      "image/png": "[encoded data removed]",
      "text/plain": [
       "<Figure size 640x480 with 1 Axes>"
      ]
     },
     "metadata": {},
     "output_type": "display_data"
    }
   ],
   "source": [
    "O1_num[[ 'total_amount']].plot(kind=\"hist\")\n",
    "plt.show()"
   ]
  },
  {
   "cell_type": "markdown",
   "metadata": {},
   "source": [
    "- need to be catagorical (total_amount) in Orders_1"
   ]
  },
  {
   "cell_type": "code",
   "execution_count": 63,
   "metadata": {},
   "outputs": [],
   "source": [
    "Orders_1['total_amount']=Orders_1['total_amount'].astype(\"object\")"
   ]
  },
  {
   "cell_type": "code",
   "execution_count": 64,
   "metadata": {},
   "outputs": [
    {
     "name": "stdout",
     "output_type": "stream",
     "text": [
      "<class 'pandas.core.frame.DataFrame'>\n",
      "RangeIndex: 10 entries, 0 to 9\n",
      "Data columns (total 4 columns):\n",
      " #   Column        Non-Null Count  Dtype \n",
      "---  ------        --------------  ----- \n",
      " 0   order_id      10 non-null     int64 \n",
      " 1   customer_id   10 non-null     int64 \n",
      " 2   order_date    10 non-null     object\n",
      " 3   total_amount  10 non-null     object\n",
      "dtypes: int64(2), object(2)\n",
      "memory usage: 448.0+ bytes\n"
     ]
    }
   ],
   "source": [
    "#displaying the info about table(column name, datatype etc.)\n",
    "Orders_1.info()"
   ]
  },
  {
   "cell_type": "markdown",
   "metadata": {},
   "source": [
    "### For Ordrers_2 table:"
   ]
  },
  {
   "cell_type": "code",
   "execution_count": 65,
   "metadata": {},
   "outputs": [
    {
     "data": {
      "text/plain": [
       "Index(['order_id', 'customer_id', 'total_amount'], dtype='object')"
      ]
     },
     "execution_count": 65,
     "metadata": {},
     "output_type": "execute_result"
    }
   ],
   "source": [
    "#columns(numerical) of the table\n",
    "O2_num.columns"
   ]
  },
  {
   "cell_type": "code",
   "execution_count": 66,
   "metadata": {},
   "outputs": [
    {
     "data": {
      "image/png": "[encoded data removed]",
      "text/plain": [
       "<Figure size 640x480 with 1 Axes>"
      ]
     },
     "metadata": {},
     "output_type": "display_data"
    }
   ],
   "source": [
    "O2_num[[ 'order_id']].plot(kind=\"hist\")\n",
    "plt.show()"
   ]
  },
  {
   "cell_type": "code",
   "execution_count": 67,
   "metadata": {},
   "outputs": [
    {
     "data": {
      "image/png": "[encoded data removed]",
      "text/plain": [
       "<Figure size 640x480 with 1 Axes>"
      ]
     },
     "metadata": {},
     "output_type": "display_data"
    }
   ],
   "source": [
    "O2_num[[ 'order_id']].plot(kind=\"hist\")\n",
    "plt.show()"
   ]
  },
  {
   "cell_type": "code",
   "execution_count": 68,
   "metadata": {},
   "outputs": [
    {
     "data": {
      "image/png": "[encoded data removed]",
      "text/plain": [
       "<Figure size 640x480 with 1 Axes>"
      ]
     },
     "metadata": {},
     "output_type": "display_data"
    }
   ],
   "source": [
    "O2_num[[ 'total_amount']].plot(kind=\"hist\")\n",
    "plt.show()"
   ]
  },
  {
   "cell_type": "markdown",
   "metadata": {},
   "source": [
    "- need to be catagorical (total_amount) in Orders_2"
   ]
  },
  {
   "cell_type": "code",
   "execution_count": 69,
   "metadata": {},
   "outputs": [
    {
     "name": "stdout",
     "output_type": "stream",
     "text": [
      "<class 'pandas.core.frame.DataFrame'>\n",
      "RangeIndex: 10 entries, 0 to 9\n",
      "Data columns (total 4 columns):\n",
      " #   Column        Non-Null Count  Dtype \n",
      "---  ------        --------------  ----- \n",
      " 0   order_id      10 non-null     int64 \n",
      " 1   customer_id   10 non-null     int64 \n",
      " 2   order_date    10 non-null     object\n",
      " 3   total_amount  10 non-null     object\n",
      "dtypes: int64(2), object(2)\n",
      "memory usage: 448.0+ bytes\n"
     ]
    }
   ],
   "source": [
    "\n",
    "Orders_2['total_amount']=Orders_2['total_amount'].astype(\"object\")\n",
    "\n",
    "#displaying the info about table(column name, datatype etc.)\n",
    "Orders_2.info()"
   ]
  },
  {
   "cell_type": "markdown",
   "metadata": {},
   "source": [
    "### For Employee_1 table:"
   ]
  },
  {
   "cell_type": "code",
   "execution_count": 70,
   "metadata": {},
   "outputs": [
    {
     "data": {
      "text/plain": [
       "Index(['employee_id', 'salary'], dtype='object')"
      ]
     },
     "execution_count": 70,
     "metadata": {},
     "output_type": "execute_result"
    }
   ],
   "source": [
    "#columns(numerical) of the table\n",
    "Emp1_num.columns"
   ]
  },
  {
   "cell_type": "code",
   "execution_count": 71,
   "metadata": {},
   "outputs": [
    {
     "data": {
      "image/png": "[encoded data removed]",
      "text/plain": [
       "<Figure size 640x480 with 1 Axes>"
      ]
     },
     "metadata": {},
     "output_type": "display_data"
    }
   ],
   "source": [
    "Emp1_num[[ 'employee_id']].plot(kind=\"hist\")\n",
    "plt.show()"
   ]
  },
  {
   "cell_type": "code",
   "execution_count": 72,
   "metadata": {},
   "outputs": [
    {
     "data": {
      "image/png": "[encoded data removed]",
      "text/plain": [
       "<Figure size 640x480 with 1 Axes>"
      ]
     },
     "metadata": {},
     "output_type": "display_data"
    }
   ],
   "source": [
    "Emp1_num[[ 'salary']].plot(kind=\"hist\")\n",
    "plt.show()"
   ]
  },
  {
   "cell_type": "markdown",
   "metadata": {},
   "source": [
    "- need to be catagorical (salary)"
   ]
  },
  {
   "cell_type": "code",
   "execution_count": 73,
   "metadata": {},
   "outputs": [
    {
     "name": "stdout",
     "output_type": "stream",
     "text": [
      "<class 'pandas.core.frame.DataFrame'>\n",
      "RangeIndex: 10 entries, 0 to 9\n",
      "Data columns (total 6 columns):\n",
      " #   Column         Non-Null Count  Dtype \n",
      "---  ------         --------------  ----- \n",
      " 0   employee_id    10 non-null     int64 \n",
      " 1   employee_name  10 non-null     object\n",
      " 2   last name      10 non-null     object\n",
      " 3   department     10 non-null     object\n",
      " 4   hire date      10 non-null     object\n",
      " 5   salary         10 non-null     object\n",
      "dtypes: int64(1), object(5)\n",
      "memory usage: 608.0+ bytes\n"
     ]
    }
   ],
   "source": [
    "Employee_1['salary']=Employee_1['salary'].astype(\"object\")\n",
    "\n",
    "#displaying the info about table(column name, datatype etc.)\n",
    "Employee_1.info()"
   ]
  },
  {
   "cell_type": "markdown",
   "metadata": {},
   "source": [
    "### For Employee_2 table:"
   ]
  },
  {
   "cell_type": "code",
   "execution_count": 74,
   "metadata": {},
   "outputs": [
    {
     "data": {
      "text/plain": [
       "Index(['employee_id', 'salary'], dtype='object')"
      ]
     },
     "execution_count": 74,
     "metadata": {},
     "output_type": "execute_result"
    }
   ],
   "source": [
    "#columns(numerical) of the table\n",
    "Emp2_num.columns"
   ]
  },
  {
   "cell_type": "code",
   "execution_count": 75,
   "metadata": {},
   "outputs": [
    {
     "data": {
      "image/png": "[encoded data removed]",
      "text/plain": [
       "<Figure size 640x480 with 1 Axes>"
      ]
     },
     "metadata": {},
     "output_type": "display_data"
    }
   ],
   "source": [
    "Emp2_num[[ 'employee_id']].plot(kind=\"hist\")\n",
    "plt.show()"
   ]
  },
  {
   "cell_type": "code",
   "execution_count": 76,
   "metadata": {},
   "outputs": [
    {
     "data": {
      "image/png": "[encoded data removed]",
      "text/plain": [
       "<Figure size 640x480 with 1 Axes>"
      ]
     },
     "metadata": {},
     "output_type": "display_data"
    }
   ],
   "source": [
    "Emp2_num[[ 'salary']].plot(kind=\"hist\")\n",
    "plt.show()"
   ]
  },
  {
   "cell_type": "markdown",
   "metadata": {},
   "source": [
    "- need to be catagorical salary"
   ]
  },
  {
   "cell_type": "code",
   "execution_count": 77,
   "metadata": {},
   "outputs": [
    {
     "name": "stdout",
     "output_type": "stream",
     "text": [
      "<class 'pandas.core.frame.DataFrame'>\n",
      "RangeIndex: 10 entries, 0 to 9\n",
      "Data columns (total 6 columns):\n",
      " #   Column         Non-Null Count  Dtype \n",
      "---  ------         --------------  ----- \n",
      " 0   employee_id    10 non-null     int64 \n",
      " 1   employee_name  10 non-null     object\n",
      " 2   last name      10 non-null     object\n",
      " 3   department     10 non-null     object\n",
      " 4   hire date      10 non-null     object\n",
      " 5   salary         10 non-null     object\n",
      "dtypes: int64(1), object(5)\n",
      "memory usage: 608.0+ bytes\n"
     ]
    }
   ],
   "source": [
    "Employee_2['salary']=Employee_2['salary'].astype(\"object\")\n",
    "\n",
    "#displaying the info about table(column name, datatype etc.)\n",
    "Employee_2.info()"
   ]
  },
  {
   "cell_type": "code",
   "execution_count": null,
   "metadata": {},
   "outputs": [],
   "source": []
  },
  {
   "cell_type": "markdown",
   "metadata": {},
   "source": [
    "### For Product_1 table:"
   ]
  },
  {
   "cell_type": "code",
   "execution_count": 78,
   "metadata": {},
   "outputs": [
    {
     "data": {
      "text/plain": [
       "Index(['product_id', 'price', 'stock quantity'], dtype='object')"
      ]
     },
     "execution_count": 78,
     "metadata": {},
     "output_type": "execute_result"
    }
   ],
   "source": [
    "#columns(numerical) of the table\n",
    "Pro1_num.columns"
   ]
  },
  {
   "cell_type": "code",
   "execution_count": 79,
   "metadata": {},
   "outputs": [
    {
     "data": {
      "image/png": "[encoded data removed]",
      "text/plain": [
       "<Figure size 640x480 with 1 Axes>"
      ]
     },
     "metadata": {},
     "output_type": "display_data"
    }
   ],
   "source": [
    "Pro1_num[[ 'product_id']].plot(kind=\"hist\")\n",
    "plt.show()"
   ]
  },
  {
   "cell_type": "code",
   "execution_count": 80,
   "metadata": {},
   "outputs": [
    {
     "data": {
      "image/png": "[encoded data removed]",
      "text/plain": [
       "<Figure size 640x480 with 1 Axes>"
      ]
     },
     "metadata": {},
     "output_type": "display_data"
    }
   ],
   "source": [
    "Pro1_num[[ 'price']].plot(kind=\"hist\")\n",
    "plt.show()"
   ]
  },
  {
   "cell_type": "code",
   "execution_count": 81,
   "metadata": {},
   "outputs": [
    {
     "data": {
      "image/png": "[encoded data removed]",
      "text/plain": [
       "<Figure size 640x480 with 1 Axes>"
      ]
     },
     "metadata": {},
     "output_type": "display_data"
    }
   ],
   "source": [
    "Pro1_num[[ 'stock quantity']].plot(kind=\"hist\")\n",
    "plt.show()"
   ]
  },
  {
   "cell_type": "markdown",
   "metadata": {},
   "source": [
    "- need to be catagorical (stock quantity,price)"
   ]
  },
  {
   "cell_type": "code",
   "execution_count": 82,
   "metadata": {},
   "outputs": [
    {
     "name": "stdout",
     "output_type": "stream",
     "text": [
      "<class 'pandas.core.frame.DataFrame'>\n",
      "RangeIndex: 10 entries, 0 to 9\n",
      "Data columns (total 5 columns):\n",
      " #   Column          Non-Null Count  Dtype \n",
      "---  ------          --------------  ----- \n",
      " 0   product_id      10 non-null     int64 \n",
      " 1   product_name    10 non-null     object\n",
      " 2   category        10 non-null     object\n",
      " 3   price           10 non-null     object\n",
      " 4   stock quantity  10 non-null     int64 \n",
      "dtypes: int64(2), object(3)\n",
      "memory usage: 528.0+ bytes\n"
     ]
    }
   ],
   "source": [
    "Product_1['price']=Product_1['price'].astype(\"object\")\n",
    "\n",
    "#displaying the info about table(column name, datatype etc.)\n",
    "Product_1.info()"
   ]
  },
  {
   "cell_type": "code",
   "execution_count": 83,
   "metadata": {},
   "outputs": [
    {
     "name": "stdout",
     "output_type": "stream",
     "text": [
      "<class 'pandas.core.frame.DataFrame'>\n",
      "RangeIndex: 10 entries, 0 to 9\n",
      "Data columns (total 5 columns):\n",
      " #   Column          Non-Null Count  Dtype \n",
      "---  ------          --------------  ----- \n",
      " 0   product_id      10 non-null     int64 \n",
      " 1   product_name    10 non-null     object\n",
      " 2   category        10 non-null     object\n",
      " 3   price           10 non-null     object\n",
      " 4   stock quantity  10 non-null     object\n",
      "dtypes: int64(1), object(4)\n",
      "memory usage: 528.0+ bytes\n"
     ]
    }
   ],
   "source": [
    "Product_1['stock quantity']=Product_1['stock quantity'].astype(\"object\")\n",
    "Product_1.info()"
   ]
  },
  {
   "cell_type": "markdown",
   "metadata": {},
   "source": [
    "### For Product_2 table:"
   ]
  },
  {
   "cell_type": "code",
   "execution_count": 84,
   "metadata": {},
   "outputs": [
    {
     "data": {
      "text/plain": [
       "Index(['product_id', 'price', 'stock quantity'], dtype='object')"
      ]
     },
     "execution_count": 84,
     "metadata": {},
     "output_type": "execute_result"
    }
   ],
   "source": [
    "#columns(numerical) of the table\n",
    "Pro2_num.columns"
   ]
  },
  {
   "cell_type": "code",
   "execution_count": 85,
   "metadata": {},
   "outputs": [
    {
     "data": {
      "image/png": "[encoded data removed]",
      "text/plain": [
       "<Figure size 640x480 with 1 Axes>"
      ]
     },
     "metadata": {},
     "output_type": "display_data"
    }
   ],
   "source": [
    "Pro2_num[[ 'product_id']].plot(kind=\"hist\")\n",
    "plt.show()"
   ]
  },
  {
   "cell_type": "code",
   "execution_count": 86,
   "metadata": {},
   "outputs": [
    {
     "data": {
      "image/png": "[encoded data removed]",
      "text/plain": [
       "<Figure size 640x480 with 1 Axes>"
      ]
     },
     "metadata": {},
     "output_type": "display_data"
    }
   ],
   "source": [
    "Pro2_num[[ 'price']].plot(kind=\"hist\")\n",
    "plt.show()"
   ]
  },
  {
   "cell_type": "code",
   "execution_count": 87,
   "metadata": {},
   "outputs": [
    {
     "data": {
      "image/png": "[encoded data removed]",
      "text/plain": [
       "<Figure size 640x480 with 1 Axes>"
      ]
     },
     "metadata": {},
     "output_type": "display_data"
    }
   ],
   "source": [
    "Pro2_num[[ 'stock quantity']].plot(kind=\"hist\")\n",
    "plt.show()"
   ]
  },
  {
   "cell_type": "markdown",
   "metadata": {},
   "source": [
    "-need to be catagorical (stock,price)"
   ]
  },
  {
   "cell_type": "code",
   "execution_count": 88,
   "metadata": {},
   "outputs": [
    {
     "name": "stdout",
     "output_type": "stream",
     "text": [
      "<class 'pandas.core.frame.DataFrame'>\n",
      "RangeIndex: 10 entries, 0 to 9\n",
      "Data columns (total 5 columns):\n",
      " #   Column          Non-Null Count  Dtype \n",
      "---  ------          --------------  ----- \n",
      " 0   product_id      10 non-null     int64 \n",
      " 1   product_name    10 non-null     object\n",
      " 2   category        10 non-null     object\n",
      " 3   price           10 non-null     object\n",
      " 4   stock quantity  10 non-null     int64 \n",
      "dtypes: int64(2), object(3)\n",
      "memory usage: 528.0+ bytes\n"
     ]
    }
   ],
   "source": [
    "Product_2['price']=Product_2['price'].astype(\"object\")\n",
    "\n",
    "#displaying the info about table(column name, datatype etc.)\n",
    "Product_2.info()"
   ]
  },
  {
   "cell_type": "code",
   "execution_count": 89,
   "metadata": {},
   "outputs": [
    {
     "ename": "KeyError",
     "evalue": "\"['salary'] not found in axis\"",
     "output_type": "error",
     "traceback": [
      "\u001b[1;31m---------------------------------------------------------------------------\u001b[0m",
      "\u001b[1;31mKeyError\u001b[0m                                  Traceback (most recent call last)",
      "Cell \u001b[1;32mIn[89], line 1\u001b[0m\n\u001b[1;32m----> 1\u001b[0m Product_2 \u001b[38;5;241m=\u001b[39m \u001b[43mProduct_2\u001b[49m\u001b[38;5;241;43m.\u001b[39;49m\u001b[43mdrop\u001b[49m\u001b[43m(\u001b[49m\u001b[38;5;124;43m\"\u001b[39;49m\u001b[38;5;124;43msalary\u001b[39;49m\u001b[38;5;124;43m\"\u001b[39;49m\u001b[43m,\u001b[49m\u001b[43maxis\u001b[49m\u001b[38;5;241;43m=\u001b[39;49m\u001b[38;5;241;43m1\u001b[39;49m\u001b[43m)\u001b[49m\n",
      "File \u001b[1;32mD:\\Anaconda3\\lib\\site-packages\\pandas\\util\\_decorators.py:331\u001b[0m, in \u001b[0;36mdeprecate_nonkeyword_arguments.<locals>.decorate.<locals>.wrapper\u001b[1;34m(*args, **kwargs)\u001b[0m\n\u001b[0;32m    325\u001b[0m \u001b[38;5;28;01mif\u001b[39;00m \u001b[38;5;28mlen\u001b[39m(args) \u001b[38;5;241m>\u001b[39m num_allow_args:\n\u001b[0;32m    326\u001b[0m     warnings\u001b[38;5;241m.\u001b[39mwarn(\n\u001b[0;32m    327\u001b[0m         msg\u001b[38;5;241m.\u001b[39mformat(arguments\u001b[38;5;241m=\u001b[39m_format_argument_list(allow_args)),\n\u001b[0;32m    328\u001b[0m         \u001b[38;5;167;01mFutureWarning\u001b[39;00m,\n\u001b[0;32m    329\u001b[0m         stacklevel\u001b[38;5;241m=\u001b[39mfind_stack_level(),\n\u001b[0;32m    330\u001b[0m     )\n\u001b[1;32m--> 331\u001b[0m \u001b[38;5;28;01mreturn\u001b[39;00m func(\u001b[38;5;241m*\u001b[39margs, \u001b[38;5;241m*\u001b[39m\u001b[38;5;241m*\u001b[39mkwargs)\n",
      "File \u001b[1;32mD:\\Anaconda3\\lib\\site-packages\\pandas\\core\\frame.py:5399\u001b[0m, in \u001b[0;36mDataFrame.drop\u001b[1;34m(self, labels, axis, index, columns, level, inplace, errors)\u001b[0m\n\u001b[0;32m   5251\u001b[0m \u001b[38;5;129m@deprecate_nonkeyword_arguments\u001b[39m(version\u001b[38;5;241m=\u001b[39m\u001b[38;5;28;01mNone\u001b[39;00m, allowed_args\u001b[38;5;241m=\u001b[39m[\u001b[38;5;124m\"\u001b[39m\u001b[38;5;124mself\u001b[39m\u001b[38;5;124m\"\u001b[39m, \u001b[38;5;124m\"\u001b[39m\u001b[38;5;124mlabels\u001b[39m\u001b[38;5;124m\"\u001b[39m])\n\u001b[0;32m   5252\u001b[0m \u001b[38;5;28;01mdef\u001b[39;00m \u001b[38;5;21mdrop\u001b[39m(  \u001b[38;5;66;03m# type: ignore[override]\u001b[39;00m\n\u001b[0;32m   5253\u001b[0m     \u001b[38;5;28mself\u001b[39m,\n\u001b[1;32m   (...)\u001b[0m\n\u001b[0;32m   5260\u001b[0m     errors: IgnoreRaise \u001b[38;5;241m=\u001b[39m \u001b[38;5;124m\"\u001b[39m\u001b[38;5;124mraise\u001b[39m\u001b[38;5;124m\"\u001b[39m,\n\u001b[0;32m   5261\u001b[0m ) \u001b[38;5;241m-\u001b[39m\u001b[38;5;241m>\u001b[39m DataFrame \u001b[38;5;241m|\u001b[39m \u001b[38;5;28;01mNone\u001b[39;00m:\n\u001b[0;32m   5262\u001b[0m     \u001b[38;5;124;03m\"\"\"\u001b[39;00m\n\u001b[0;32m   5263\u001b[0m \u001b[38;5;124;03m    Drop specified labels from rows or columns.\u001b[39;00m\n\u001b[0;32m   5264\u001b[0m \n\u001b[1;32m   (...)\u001b[0m\n\u001b[0;32m   5397\u001b[0m \u001b[38;5;124;03m            weight  1.0     0.8\u001b[39;00m\n\u001b[0;32m   5398\u001b[0m \u001b[38;5;124;03m    \"\"\"\u001b[39;00m\n\u001b[1;32m-> 5399\u001b[0m     \u001b[38;5;28;01mreturn\u001b[39;00m \u001b[38;5;28;43msuper\u001b[39;49m\u001b[43m(\u001b[49m\u001b[43m)\u001b[49m\u001b[38;5;241;43m.\u001b[39;49m\u001b[43mdrop\u001b[49m\u001b[43m(\u001b[49m\n\u001b[0;32m   5400\u001b[0m \u001b[43m        \u001b[49m\u001b[43mlabels\u001b[49m\u001b[38;5;241;43m=\u001b[39;49m\u001b[43mlabels\u001b[49m\u001b[43m,\u001b[49m\n\u001b[0;32m   5401\u001b[0m \u001b[43m        \u001b[49m\u001b[43maxis\u001b[49m\u001b[38;5;241;43m=\u001b[39;49m\u001b[43maxis\u001b[49m\u001b[43m,\u001b[49m\n\u001b[0;32m   5402\u001b[0m \u001b[43m        \u001b[49m\u001b[43mindex\u001b[49m\u001b[38;5;241;43m=\u001b[39;49m\u001b[43mindex\u001b[49m\u001b[43m,\u001b[49m\n\u001b[0;32m   5403\u001b[0m \u001b[43m        \u001b[49m\u001b[43mcolumns\u001b[49m\u001b[38;5;241;43m=\u001b[39;49m\u001b[43mcolumns\u001b[49m\u001b[43m,\u001b[49m\n\u001b[0;32m   5404\u001b[0m \u001b[43m        \u001b[49m\u001b[43mlevel\u001b[49m\u001b[38;5;241;43m=\u001b[39;49m\u001b[43mlevel\u001b[49m\u001b[43m,\u001b[49m\n\u001b[0;32m   5405\u001b[0m \u001b[43m        \u001b[49m\u001b[43minplace\u001b[49m\u001b[38;5;241;43m=\u001b[39;49m\u001b[43minplace\u001b[49m\u001b[43m,\u001b[49m\n\u001b[0;32m   5406\u001b[0m \u001b[43m        \u001b[49m\u001b[43merrors\u001b[49m\u001b[38;5;241;43m=\u001b[39;49m\u001b[43merrors\u001b[49m\u001b[43m,\u001b[49m\n\u001b[0;32m   5407\u001b[0m \u001b[43m    \u001b[49m\u001b[43m)\u001b[49m\n",
      "File \u001b[1;32mD:\\Anaconda3\\lib\\site-packages\\pandas\\util\\_decorators.py:331\u001b[0m, in \u001b[0;36mdeprecate_nonkeyword_arguments.<locals>.decorate.<locals>.wrapper\u001b[1;34m(*args, **kwargs)\u001b[0m\n\u001b[0;32m    325\u001b[0m \u001b[38;5;28;01mif\u001b[39;00m \u001b[38;5;28mlen\u001b[39m(args) \u001b[38;5;241m>\u001b[39m num_allow_args:\n\u001b[0;32m    326\u001b[0m     warnings\u001b[38;5;241m.\u001b[39mwarn(\n\u001b[0;32m    327\u001b[0m         msg\u001b[38;5;241m.\u001b[39mformat(arguments\u001b[38;5;241m=\u001b[39m_format_argument_list(allow_args)),\n\u001b[0;32m    328\u001b[0m         \u001b[38;5;167;01mFutureWarning\u001b[39;00m,\n\u001b[0;32m    329\u001b[0m         stacklevel\u001b[38;5;241m=\u001b[39mfind_stack_level(),\n\u001b[0;32m    330\u001b[0m     )\n\u001b[1;32m--> 331\u001b[0m \u001b[38;5;28;01mreturn\u001b[39;00m func(\u001b[38;5;241m*\u001b[39margs, \u001b[38;5;241m*\u001b[39m\u001b[38;5;241m*\u001b[39mkwargs)\n",
      "File \u001b[1;32mD:\\Anaconda3\\lib\\site-packages\\pandas\\core\\generic.py:4505\u001b[0m, in \u001b[0;36mNDFrame.drop\u001b[1;34m(self, labels, axis, index, columns, level, inplace, errors)\u001b[0m\n\u001b[0;32m   4503\u001b[0m \u001b[38;5;28;01mfor\u001b[39;00m axis, labels \u001b[38;5;129;01min\u001b[39;00m axes\u001b[38;5;241m.\u001b[39mitems():\n\u001b[0;32m   4504\u001b[0m     \u001b[38;5;28;01mif\u001b[39;00m labels \u001b[38;5;129;01mis\u001b[39;00m \u001b[38;5;129;01mnot\u001b[39;00m \u001b[38;5;28;01mNone\u001b[39;00m:\n\u001b[1;32m-> 4505\u001b[0m         obj \u001b[38;5;241m=\u001b[39m \u001b[43mobj\u001b[49m\u001b[38;5;241;43m.\u001b[39;49m\u001b[43m_drop_axis\u001b[49m\u001b[43m(\u001b[49m\u001b[43mlabels\u001b[49m\u001b[43m,\u001b[49m\u001b[43m \u001b[49m\u001b[43maxis\u001b[49m\u001b[43m,\u001b[49m\u001b[43m \u001b[49m\u001b[43mlevel\u001b[49m\u001b[38;5;241;43m=\u001b[39;49m\u001b[43mlevel\u001b[49m\u001b[43m,\u001b[49m\u001b[43m \u001b[49m\u001b[43merrors\u001b[49m\u001b[38;5;241;43m=\u001b[39;49m\u001b[43merrors\u001b[49m\u001b[43m)\u001b[49m\n\u001b[0;32m   4507\u001b[0m \u001b[38;5;28;01mif\u001b[39;00m inplace:\n\u001b[0;32m   4508\u001b[0m     \u001b[38;5;28mself\u001b[39m\u001b[38;5;241m.\u001b[39m_update_inplace(obj)\n",
      "File \u001b[1;32mD:\\Anaconda3\\lib\\site-packages\\pandas\\core\\generic.py:4546\u001b[0m, in \u001b[0;36mNDFrame._drop_axis\u001b[1;34m(self, labels, axis, level, errors, only_slice)\u001b[0m\n\u001b[0;32m   4544\u001b[0m         new_axis \u001b[38;5;241m=\u001b[39m axis\u001b[38;5;241m.\u001b[39mdrop(labels, level\u001b[38;5;241m=\u001b[39mlevel, errors\u001b[38;5;241m=\u001b[39merrors)\n\u001b[0;32m   4545\u001b[0m     \u001b[38;5;28;01melse\u001b[39;00m:\n\u001b[1;32m-> 4546\u001b[0m         new_axis \u001b[38;5;241m=\u001b[39m \u001b[43maxis\u001b[49m\u001b[38;5;241;43m.\u001b[39;49m\u001b[43mdrop\u001b[49m\u001b[43m(\u001b[49m\u001b[43mlabels\u001b[49m\u001b[43m,\u001b[49m\u001b[43m \u001b[49m\u001b[43merrors\u001b[49m\u001b[38;5;241;43m=\u001b[39;49m\u001b[43merrors\u001b[49m\u001b[43m)\u001b[49m\n\u001b[0;32m   4547\u001b[0m     indexer \u001b[38;5;241m=\u001b[39m axis\u001b[38;5;241m.\u001b[39mget_indexer(new_axis)\n\u001b[0;32m   4549\u001b[0m \u001b[38;5;66;03m# Case for non-unique axis\u001b[39;00m\n\u001b[0;32m   4550\u001b[0m \u001b[38;5;28;01melse\u001b[39;00m:\n",
      "File \u001b[1;32mD:\\Anaconda3\\lib\\site-packages\\pandas\\core\\indexes\\base.py:6934\u001b[0m, in \u001b[0;36mIndex.drop\u001b[1;34m(self, labels, errors)\u001b[0m\n\u001b[0;32m   6932\u001b[0m \u001b[38;5;28;01mif\u001b[39;00m mask\u001b[38;5;241m.\u001b[39many():\n\u001b[0;32m   6933\u001b[0m     \u001b[38;5;28;01mif\u001b[39;00m errors \u001b[38;5;241m!=\u001b[39m \u001b[38;5;124m\"\u001b[39m\u001b[38;5;124mignore\u001b[39m\u001b[38;5;124m\"\u001b[39m:\n\u001b[1;32m-> 6934\u001b[0m         \u001b[38;5;28;01mraise\u001b[39;00m \u001b[38;5;167;01mKeyError\u001b[39;00m(\u001b[38;5;124mf\u001b[39m\u001b[38;5;124m\"\u001b[39m\u001b[38;5;132;01m{\u001b[39;00m\u001b[38;5;28mlist\u001b[39m(labels[mask])\u001b[38;5;132;01m}\u001b[39;00m\u001b[38;5;124m not found in axis\u001b[39m\u001b[38;5;124m\"\u001b[39m)\n\u001b[0;32m   6935\u001b[0m     indexer \u001b[38;5;241m=\u001b[39m indexer[\u001b[38;5;241m~\u001b[39mmask]\n\u001b[0;32m   6936\u001b[0m \u001b[38;5;28;01mreturn\u001b[39;00m \u001b[38;5;28mself\u001b[39m\u001b[38;5;241m.\u001b[39mdelete(indexer)\n",
      "\u001b[1;31mKeyError\u001b[0m: \"['salary'] not found in axis\""
     ]
    }
   ],
   "source": [
    "Product_2 = Product_2.drop(\"salary\",axis=1)"
   ]
  },
  {
   "cell_type": "code",
   "execution_count": null,
   "metadata": {},
   "outputs": [],
   "source": [
    "Product_2['stock quantity']=Product_2['stock quantity'].astype(\"object\")\n",
    "Product_2.info()"
   ]
  },
  {
   "cell_type": "markdown",
   "metadata": {},
   "source": [
    "### For Reviews_1 table:"
   ]
  },
  {
   "cell_type": "code",
   "execution_count": null,
   "metadata": {},
   "outputs": [],
   "source": [
    "#columns(numerical) of the table\n",
    "R1_num.columns"
   ]
  },
  {
   "cell_type": "code",
   "execution_count": null,
   "metadata": {},
   "outputs": [],
   "source": [
    "R1_num[[ 'review_id']].plot(kind=\"hist\")\n",
    "plt.show()"
   ]
  },
  {
   "cell_type": "code",
   "execution_count": null,
   "metadata": {},
   "outputs": [],
   "source": [
    "R1_num[[ 'product_id']].plot(kind=\"hist\")\n",
    "plt.show()"
   ]
  },
  {
   "cell_type": "code",
   "execution_count": null,
   "metadata": {},
   "outputs": [],
   "source": [
    "R1_num[[ 'customer_id']].plot(kind=\"hist\")\n",
    "plt.show()"
   ]
  },
  {
   "cell_type": "code",
   "execution_count": null,
   "metadata": {},
   "outputs": [],
   "source": [
    "R1_num[[ 'rating']].plot(kind=\"hist\")\n",
    "plt.show()"
   ]
  },
  {
   "cell_type": "markdown",
   "metadata": {},
   "source": [
    "- need to be catagorical (rating)"
   ]
  },
  {
   "cell_type": "code",
   "execution_count": null,
   "metadata": {},
   "outputs": [],
   "source": [
    "Reviews_1['rating']=Reviews_1['rating'].astype(\"object\")\n",
    "\n",
    "#displaying the info about table(column name, datatype etc.)\n",
    "Reviews_1.info()"
   ]
  },
  {
   "cell_type": "markdown",
   "metadata": {},
   "source": [
    "### For Reviews_2 table:"
   ]
  },
  {
   "cell_type": "code",
   "execution_count": null,
   "metadata": {},
   "outputs": [],
   "source": [
    "#columns(numerical) of the table\n",
    "R2_num.columns"
   ]
  },
  {
   "cell_type": "code",
   "execution_count": null,
   "metadata": {},
   "outputs": [],
   "source": [
    "R1_num[[ 'review_id']].plot(kind=\"hist\")\n",
    "plt.show()"
   ]
  },
  {
   "cell_type": "code",
   "execution_count": null,
   "metadata": {},
   "outputs": [],
   "source": [
    "R1_num[[ 'product_id']].plot(kind=\"hist\")\n",
    "plt.show()"
   ]
  },
  {
   "cell_type": "code",
   "execution_count": null,
   "metadata": {},
   "outputs": [],
   "source": [
    "R1_num[[ 'customer_id']].plot(kind=\"hist\")\n",
    "plt.show()"
   ]
  },
  {
   "cell_type": "code",
   "execution_count": null,
   "metadata": {},
   "outputs": [],
   "source": [
    "R1_num[[ 'rating']].plot(kind=\"hist\")\n",
    "plt.show()"
   ]
  },
  {
   "cell_type": "markdown",
   "metadata": {},
   "source": [
    "- need to be catagorical (rating)"
   ]
  },
  {
   "cell_type": "code",
   "execution_count": null,
   "metadata": {},
   "outputs": [],
   "source": [
    "Reviews_2['rating']=Reviews_2['rating'].astype(\"object\")\n",
    "\n",
    "#displaying the info about table(column name, datatype etc.)\n",
    "Reviews_2.info()"
   ]
  },
  {
   "cell_type": "markdown",
   "metadata": {},
   "source": [
    "## Pair plots of the tables :"
   ]
  },
  {
   "cell_type": "code",
   "execution_count": null,
   "metadata": {},
   "outputs": [],
   "source": [
    "# Draw the pairplot of given table by seaborn and matplotlib\n",
    "import seaborn as sns\n",
    "import matplotlib.pyplot as plt\n",
    "\n",
    "sns.pairplot(Customer_1)\n",
    "plt.show()"
   ]
  },
  {
   "cell_type": "code",
   "execution_count": null,
   "metadata": {},
   "outputs": [],
   "source": [
    "sns.pairplot(Customer_2)\n",
    "plt.show()"
   ]
  },
  {
   "cell_type": "code",
   "execution_count": null,
   "metadata": {},
   "outputs": [],
   "source": [
    "sns.pairplot(Orders_1)\n",
    "plt.show()"
   ]
  },
  {
   "cell_type": "code",
   "execution_count": null,
   "metadata": {},
   "outputs": [],
   "source": [
    "sns.pairplot(Orders_2)\n",
    "plt.show()"
   ]
  },
  {
   "cell_type": "code",
   "execution_count": null,
   "metadata": {},
   "outputs": [],
   "source": [
    "sns.pairplot(Product_1)\n",
    "plt.show()"
   ]
  },
  {
   "cell_type": "code",
   "execution_count": null,
   "metadata": {},
   "outputs": [],
   "source": [
    "sns.pairplot(Product_2)\n",
    "plt.show()"
   ]
  },
  {
   "cell_type": "code",
   "execution_count": null,
   "metadata": {},
   "outputs": [],
   "source": [
    "sns.pairplot(Employee_1)\n",
    "plt.show()"
   ]
  },
  {
   "cell_type": "code",
   "execution_count": null,
   "metadata": {},
   "outputs": [],
   "source": [
    "sns.pairplot(Employee_2)\n",
    "plt.show()"
   ]
  },
  {
   "cell_type": "code",
   "execution_count": null,
   "metadata": {},
   "outputs": [],
   "source": [
    "sns.pairplot(Reviews_1)\n",
    "plt.show()"
   ]
  },
  {
   "cell_type": "code",
   "execution_count": null,
   "metadata": {},
   "outputs": [],
   "source": [
    "sns.pairplot(Reviews_2)\n",
    "plt.show()"
   ]
  },
  {
   "cell_type": "markdown",
   "metadata": {},
   "source": [
    "## Task 6: Perform the Vertical concatenation (Row wise) on (Customer_1 with Customer_2),        (Employees_1 - Employees_2), (Orders_1 - Orders_2), (Product_1 - Product_2).\n"
   ]
  },
  {
   "cell_type": "markdown",
   "metadata": {},
   "source": [
    "### Customer_1 with ustomer_2"
   ]
  },
  {
   "cell_type": "code",
   "execution_count": 90,
   "metadata": {},
   "outputs": [
    {
     "data": {
      "text/html": [
       "<div>\n",
       "<style scoped>\n",
       "    .dataframe tbody tr th:only-of-type {\n",
       "        vertical-align: middle;\n",
       "    }\n",
       "\n",
       "    .dataframe tbody tr th {\n",
       "        vertical-align: top;\n",
       "    }\n",
       "\n",
       "    .dataframe thead th {\n",
       "        text-align: right;\n",
       "    }\n",
       "</style>\n",
       "<table border=\"1\" class=\"dataframe\">\n",
       "  <thead>\n",
       "    <tr style=\"text-align: right;\">\n",
       "      <th></th>\n",
       "      <th>customer_id</th>\n",
       "      <th>first name</th>\n",
       "      <th>last name</th>\n",
       "      <th>email</th>\n",
       "      <th>phone</th>\n",
       "    </tr>\n",
       "  </thead>\n",
       "  <tbody>\n",
       "    <tr>\n",
       "      <th>0</th>\n",
       "      <td>1</td>\n",
       "      <td>Alex</td>\n",
       "      <td>Jhonson</td>\n",
       "      <td>alex@example.com</td>\n",
       "      <td>555-123-4567</td>\n",
       "    </tr>\n",
       "    <tr>\n",
       "      <th>1</th>\n",
       "      <td>2</td>\n",
       "      <td>Ella</td>\n",
       "      <td>Brown</td>\n",
       "      <td>ella@example.com</td>\n",
       "      <td>555-987-6543</td>\n",
       "    </tr>\n",
       "    <tr>\n",
       "      <th>2</th>\n",
       "      <td>3</td>\n",
       "      <td>Noah</td>\n",
       "      <td>Garcia</td>\n",
       "      <td>noah@example.com</td>\n",
       "      <td>555-345-6789</td>\n",
       "    </tr>\n",
       "    <tr>\n",
       "      <th>3</th>\n",
       "      <td>4</td>\n",
       "      <td>Ava</td>\n",
       "      <td>Martinez</td>\n",
       "      <td>ava@example.com</td>\n",
       "      <td>555-789-0123</td>\n",
       "    </tr>\n",
       "    <tr>\n",
       "      <th>4</th>\n",
       "      <td>5</td>\n",
       "      <td>Liam</td>\n",
       "      <td>Robinson</td>\n",
       "      <td>liam@example.com</td>\n",
       "      <td>555-234-5678</td>\n",
       "    </tr>\n",
       "    <tr>\n",
       "      <th>5</th>\n",
       "      <td>6</td>\n",
       "      <td>Mia</td>\n",
       "      <td>Miller</td>\n",
       "      <td>mia@example.com</td>\n",
       "      <td>555-876-5432</td>\n",
       "    </tr>\n",
       "    <tr>\n",
       "      <th>6</th>\n",
       "      <td>7</td>\n",
       "      <td>Ethan</td>\n",
       "      <td>Davis</td>\n",
       "      <td>ethan@example.com</td>\n",
       "      <td>555-432-1098</td>\n",
       "    </tr>\n",
       "    <tr>\n",
       "      <th>7</th>\n",
       "      <td>8</td>\n",
       "      <td>Issabella</td>\n",
       "      <td>Rodriguez</td>\n",
       "      <td>isabella@example.com</td>\n",
       "      <td>555-210-9876</td>\n",
       "    </tr>\n",
       "    <tr>\n",
       "      <th>8</th>\n",
       "      <td>9</td>\n",
       "      <td>James</td>\n",
       "      <td>Hermandez</td>\n",
       "      <td>james@example.com</td>\n",
       "      <td>555-765-4321</td>\n",
       "    </tr>\n",
       "    <tr>\n",
       "      <th>9</th>\n",
       "      <td>10</td>\n",
       "      <td>Sophia</td>\n",
       "      <td>Lopez</td>\n",
       "      <td>sophia@example.com</td>\n",
       "      <td>555-321-0987</td>\n",
       "    </tr>\n",
       "    <tr>\n",
       "      <th>10</th>\n",
       "      <td>1</td>\n",
       "      <td>Liam</td>\n",
       "      <td>Robinson</td>\n",
       "      <td>liam@example.com</td>\n",
       "      <td>555-234-5678</td>\n",
       "    </tr>\n",
       "    <tr>\n",
       "      <th>11</th>\n",
       "      <td>2</td>\n",
       "      <td>Mia</td>\n",
       "      <td>Miller</td>\n",
       "      <td>mia@example.com</td>\n",
       "      <td>555-876-5432</td>\n",
       "    </tr>\n",
       "    <tr>\n",
       "      <th>12</th>\n",
       "      <td>3</td>\n",
       "      <td>Ethan</td>\n",
       "      <td>Davis</td>\n",
       "      <td>ethan@example.com</td>\n",
       "      <td>555-432-1098</td>\n",
       "    </tr>\n",
       "    <tr>\n",
       "      <th>13</th>\n",
       "      <td>4</td>\n",
       "      <td>Issabella</td>\n",
       "      <td>Rodriguez</td>\n",
       "      <td>isabella@example.com</td>\n",
       "      <td>555-210-9876</td>\n",
       "    </tr>\n",
       "    <tr>\n",
       "      <th>14</th>\n",
       "      <td>5</td>\n",
       "      <td>Alex</td>\n",
       "      <td>Jhonson</td>\n",
       "      <td>alex@example.com</td>\n",
       "      <td>555-123-4567</td>\n",
       "    </tr>\n",
       "    <tr>\n",
       "      <th>15</th>\n",
       "      <td>6</td>\n",
       "      <td>Ella</td>\n",
       "      <td>Brown</td>\n",
       "      <td>ella@example.com</td>\n",
       "      <td>555-987-6543</td>\n",
       "    </tr>\n",
       "    <tr>\n",
       "      <th>16</th>\n",
       "      <td>7</td>\n",
       "      <td>Noah</td>\n",
       "      <td>Garcia</td>\n",
       "      <td>noah@example.com</td>\n",
       "      <td>555-345-6789</td>\n",
       "    </tr>\n",
       "    <tr>\n",
       "      <th>17</th>\n",
       "      <td>8</td>\n",
       "      <td>Ava</td>\n",
       "      <td>Martinez</td>\n",
       "      <td>ava@example.com</td>\n",
       "      <td>555-789-0123</td>\n",
       "    </tr>\n",
       "    <tr>\n",
       "      <th>18</th>\n",
       "      <td>9</td>\n",
       "      <td>James</td>\n",
       "      <td>Hermandez</td>\n",
       "      <td>james@example.com</td>\n",
       "      <td>555-765-4321</td>\n",
       "    </tr>\n",
       "    <tr>\n",
       "      <th>19</th>\n",
       "      <td>10</td>\n",
       "      <td>Sophia</td>\n",
       "      <td>Lopez</td>\n",
       "      <td>sophia@example.com</td>\n",
       "      <td>555-321-0987</td>\n",
       "    </tr>\n",
       "  </tbody>\n",
       "</table>\n",
       "</div>"
      ],
      "text/plain": [
       "    customer_id first name  last name                 email         phone\n",
       "0             1       Alex    Jhonson      alex@example.com  555-123-4567\n",
       "1             2       Ella      Brown      ella@example.com  555-987-6543\n",
       "2             3       Noah     Garcia      noah@example.com  555-345-6789\n",
       "3             4        Ava   Martinez       ava@example.com  555-789-0123\n",
       "4             5       Liam   Robinson      liam@example.com  555-234-5678\n",
       "5             6        Mia     Miller       mia@example.com  555-876-5432\n",
       "6             7      Ethan      Davis     ethan@example.com  555-432-1098\n",
       "7             8  Issabella  Rodriguez  isabella@example.com  555-210-9876\n",
       "8             9      James  Hermandez     james@example.com  555-765-4321\n",
       "9            10     Sophia      Lopez    sophia@example.com  555-321-0987\n",
       "10            1       Liam   Robinson      liam@example.com  555-234-5678\n",
       "11            2        Mia     Miller       mia@example.com  555-876-5432\n",
       "12            3      Ethan      Davis     ethan@example.com  555-432-1098\n",
       "13            4  Issabella  Rodriguez  isabella@example.com  555-210-9876\n",
       "14            5       Alex    Jhonson      alex@example.com  555-123-4567\n",
       "15            6       Ella      Brown      ella@example.com  555-987-6543\n",
       "16            7       Noah     Garcia      noah@example.com  555-345-6789\n",
       "17            8        Ava   Martinez       ava@example.com  555-789-0123\n",
       "18            9      James  Hermandez     james@example.com  555-765-4321\n",
       "19           10     Sophia      Lopez    sophia@example.com  555-321-0987"
      ]
     },
     "execution_count": 90,
     "metadata": {},
     "output_type": "execute_result"
    }
   ],
   "source": [
    "c1_c2_concat = pd.concat([Customer_1,Customer_2], ignore_index=True)\n",
    "c1_c2_concat"
   ]
  },
  {
   "cell_type": "markdown",
   "metadata": {},
   "source": [
    "### Employees_1 - Employees_2"
   ]
  },
  {
   "cell_type": "code",
   "execution_count": 91,
   "metadata": {},
   "outputs": [
    {
     "data": {
      "text/html": [
       "<div>\n",
       "<style scoped>\n",
       "    .dataframe tbody tr th:only-of-type {\n",
       "        vertical-align: middle;\n",
       "    }\n",
       "\n",
       "    .dataframe tbody tr th {\n",
       "        vertical-align: top;\n",
       "    }\n",
       "\n",
       "    .dataframe thead th {\n",
       "        text-align: right;\n",
       "    }\n",
       "</style>\n",
       "<table border=\"1\" class=\"dataframe\">\n",
       "  <thead>\n",
       "    <tr style=\"text-align: right;\">\n",
       "      <th></th>\n",
       "      <th>employee_id</th>\n",
       "      <th>employee_name</th>\n",
       "      <th>last name</th>\n",
       "      <th>department</th>\n",
       "      <th>hire date</th>\n",
       "      <th>salary</th>\n",
       "    </tr>\n",
       "  </thead>\n",
       "  <tbody>\n",
       "    <tr>\n",
       "      <th>0</th>\n",
       "      <td>1</td>\n",
       "      <td>John</td>\n",
       "      <td>Doe</td>\n",
       "      <td>HR</td>\n",
       "      <td>2020-01-15</td>\n",
       "      <td>50000</td>\n",
       "    </tr>\n",
       "    <tr>\n",
       "      <th>1</th>\n",
       "      <td>2</td>\n",
       "      <td>Jane</td>\n",
       "      <td>Smith</td>\n",
       "      <td>Finance</td>\n",
       "      <td>2019-05-20</td>\n",
       "      <td>60000</td>\n",
       "    </tr>\n",
       "    <tr>\n",
       "      <th>2</th>\n",
       "      <td>3</td>\n",
       "      <td>Michael</td>\n",
       "      <td>Johnson</td>\n",
       "      <td>IT</td>\n",
       "      <td>2021-02-10</td>\n",
       "      <td>55000</td>\n",
       "    </tr>\n",
       "    <tr>\n",
       "      <th>3</th>\n",
       "      <td>4</td>\n",
       "      <td>Emily</td>\n",
       "      <td>Williams</td>\n",
       "      <td>Marketing</td>\n",
       "      <td>2018-09-08</td>\n",
       "      <td>52000</td>\n",
       "    </tr>\n",
       "    <tr>\n",
       "      <th>4</th>\n",
       "      <td>5</td>\n",
       "      <td>David</td>\n",
       "      <td>Brown</td>\n",
       "      <td>Operations</td>\n",
       "      <td>2022-03-25</td>\n",
       "      <td>58000</td>\n",
       "    </tr>\n",
       "    <tr>\n",
       "      <th>5</th>\n",
       "      <td>6</td>\n",
       "      <td>Emma</td>\n",
       "      <td>Jones</td>\n",
       "      <td>HR</td>\n",
       "      <td>2020-11-30</td>\n",
       "      <td>51000</td>\n",
       "    </tr>\n",
       "    <tr>\n",
       "      <th>6</th>\n",
       "      <td>7</td>\n",
       "      <td>Matthew</td>\n",
       "      <td>Lee</td>\n",
       "      <td>IT</td>\n",
       "      <td>2021-07-12</td>\n",
       "      <td>56000</td>\n",
       "    </tr>\n",
       "    <tr>\n",
       "      <th>7</th>\n",
       "      <td>8</td>\n",
       "      <td>Olivia</td>\n",
       "      <td>Martin</td>\n",
       "      <td>Finance</td>\n",
       "      <td>2019-04-18</td>\n",
       "      <td>61000</td>\n",
       "    </tr>\n",
       "    <tr>\n",
       "      <th>8</th>\n",
       "      <td>9</td>\n",
       "      <td>William</td>\n",
       "      <td>Anderson</td>\n",
       "      <td>Marketing</td>\n",
       "      <td>2017-12-05</td>\n",
       "      <td>53000</td>\n",
       "    </tr>\n",
       "    <tr>\n",
       "      <th>9</th>\n",
       "      <td>10</td>\n",
       "      <td>Sophia</td>\n",
       "      <td>Taylor</td>\n",
       "      <td>Operations</td>\n",
       "      <td>2022-06-09</td>\n",
       "      <td>59000</td>\n",
       "    </tr>\n",
       "    <tr>\n",
       "      <th>10</th>\n",
       "      <td>1</td>\n",
       "      <td>Olivia</td>\n",
       "      <td>Martin</td>\n",
       "      <td>Finance</td>\n",
       "      <td>18-04-2019</td>\n",
       "      <td>50000</td>\n",
       "    </tr>\n",
       "    <tr>\n",
       "      <th>11</th>\n",
       "      <td>2</td>\n",
       "      <td>William</td>\n",
       "      <td>Anderson</td>\n",
       "      <td>Marketing</td>\n",
       "      <td>05-12-2017</td>\n",
       "      <td>60000</td>\n",
       "    </tr>\n",
       "    <tr>\n",
       "      <th>12</th>\n",
       "      <td>3</td>\n",
       "      <td>Sophia</td>\n",
       "      <td>Taylor</td>\n",
       "      <td>Operations</td>\n",
       "      <td>09-06-2022</td>\n",
       "      <td>55000</td>\n",
       "    </tr>\n",
       "    <tr>\n",
       "      <th>13</th>\n",
       "      <td>4</td>\n",
       "      <td>Emily</td>\n",
       "      <td>Williams</td>\n",
       "      <td>Marketing</td>\n",
       "      <td>08-09-2018</td>\n",
       "      <td>52000</td>\n",
       "    </tr>\n",
       "    <tr>\n",
       "      <th>14</th>\n",
       "      <td>5</td>\n",
       "      <td>David</td>\n",
       "      <td>Brown</td>\n",
       "      <td>Operations</td>\n",
       "      <td>25-03-2022</td>\n",
       "      <td>58000</td>\n",
       "    </tr>\n",
       "    <tr>\n",
       "      <th>15</th>\n",
       "      <td>6</td>\n",
       "      <td>Jane</td>\n",
       "      <td>Smith</td>\n",
       "      <td>Finance</td>\n",
       "      <td>20-05-2019</td>\n",
       "      <td>51000</td>\n",
       "    </tr>\n",
       "    <tr>\n",
       "      <th>16</th>\n",
       "      <td>7</td>\n",
       "      <td>Michael</td>\n",
       "      <td>Johnson</td>\n",
       "      <td>IT</td>\n",
       "      <td>10-02-2021</td>\n",
       "      <td>56000</td>\n",
       "    </tr>\n",
       "    <tr>\n",
       "      <th>17</th>\n",
       "      <td>8</td>\n",
       "      <td>Emma</td>\n",
       "      <td>Jones</td>\n",
       "      <td>HR</td>\n",
       "      <td>30-11-2020</td>\n",
       "      <td>61000</td>\n",
       "    </tr>\n",
       "    <tr>\n",
       "      <th>18</th>\n",
       "      <td>9</td>\n",
       "      <td>Matthew</td>\n",
       "      <td>Lee</td>\n",
       "      <td>IT</td>\n",
       "      <td>12-07-2021</td>\n",
       "      <td>53000</td>\n",
       "    </tr>\n",
       "    <tr>\n",
       "      <th>19</th>\n",
       "      <td>10</td>\n",
       "      <td>John</td>\n",
       "      <td>Doe</td>\n",
       "      <td>HR</td>\n",
       "      <td>15-01-2020</td>\n",
       "      <td>59000</td>\n",
       "    </tr>\n",
       "  </tbody>\n",
       "</table>\n",
       "</div>"
      ],
      "text/plain": [
       "    employee_id employee_name last name  department   hire date salary\n",
       "0             1          John       Doe          HR  2020-01-15  50000\n",
       "1             2          Jane     Smith     Finance  2019-05-20  60000\n",
       "2             3       Michael   Johnson          IT  2021-02-10  55000\n",
       "3             4         Emily  Williams   Marketing  2018-09-08  52000\n",
       "4             5         David     Brown  Operations  2022-03-25  58000\n",
       "5             6          Emma     Jones          HR  2020-11-30  51000\n",
       "6             7       Matthew       Lee          IT  2021-07-12  56000\n",
       "7             8        Olivia    Martin     Finance  2019-04-18  61000\n",
       "8             9       William  Anderson   Marketing  2017-12-05  53000\n",
       "9            10        Sophia    Taylor  Operations  2022-06-09  59000\n",
       "10            1        Olivia    Martin     Finance  18-04-2019  50000\n",
       "11            2       William  Anderson   Marketing  05-12-2017  60000\n",
       "12            3        Sophia    Taylor  Operations  09-06-2022  55000\n",
       "13            4         Emily  Williams   Marketing  08-09-2018  52000\n",
       "14            5         David     Brown  Operations  25-03-2022  58000\n",
       "15            6          Jane     Smith     Finance  20-05-2019  51000\n",
       "16            7       Michael   Johnson          IT  10-02-2021  56000\n",
       "17            8          Emma     Jones          HR  30-11-2020  61000\n",
       "18            9       Matthew       Lee          IT  12-07-2021  53000\n",
       "19           10          John       Doe          HR  15-01-2020  59000"
      ]
     },
     "execution_count": 91,
     "metadata": {},
     "output_type": "execute_result"
    }
   ],
   "source": [
    "e1_e2_concat = pd.concat([Employee_1,Employee_2], ignore_index=True)\n",
    "e1_e2_concat"
   ]
  },
  {
   "cell_type": "markdown",
   "metadata": {},
   "source": [
    "### Orders_1 - Orders_2"
   ]
  },
  {
   "cell_type": "code",
   "execution_count": 92,
   "metadata": {},
   "outputs": [
    {
     "data": {
      "text/html": [
       "<div>\n",
       "<style scoped>\n",
       "    .dataframe tbody tr th:only-of-type {\n",
       "        vertical-align: middle;\n",
       "    }\n",
       "\n",
       "    .dataframe tbody tr th {\n",
       "        vertical-align: top;\n",
       "    }\n",
       "\n",
       "    .dataframe thead th {\n",
       "        text-align: right;\n",
       "    }\n",
       "</style>\n",
       "<table border=\"1\" class=\"dataframe\">\n",
       "  <thead>\n",
       "    <tr style=\"text-align: right;\">\n",
       "      <th></th>\n",
       "      <th>order_id</th>\n",
       "      <th>customer_id</th>\n",
       "      <th>order_date</th>\n",
       "      <th>total_amount</th>\n",
       "    </tr>\n",
       "  </thead>\n",
       "  <tbody>\n",
       "    <tr>\n",
       "      <th>0</th>\n",
       "      <td>1</td>\n",
       "      <td>3</td>\n",
       "      <td>2023-07-15</td>\n",
       "      <td>450</td>\n",
       "    </tr>\n",
       "    <tr>\n",
       "      <th>1</th>\n",
       "      <td>2</td>\n",
       "      <td>8</td>\n",
       "      <td>2023-07-16</td>\n",
       "      <td>120</td>\n",
       "    </tr>\n",
       "    <tr>\n",
       "      <th>2</th>\n",
       "      <td>3</td>\n",
       "      <td>2</td>\n",
       "      <td>2023-07-16</td>\n",
       "      <td>720</td>\n",
       "    </tr>\n",
       "    <tr>\n",
       "      <th>3</th>\n",
       "      <td>4</td>\n",
       "      <td>5</td>\n",
       "      <td>2023-07-17</td>\n",
       "      <td>320</td>\n",
       "    </tr>\n",
       "    <tr>\n",
       "      <th>4</th>\n",
       "      <td>5</td>\n",
       "      <td>7</td>\n",
       "      <td>2023-07-17</td>\n",
       "      <td>900</td>\n",
       "    </tr>\n",
       "    <tr>\n",
       "      <th>5</th>\n",
       "      <td>6</td>\n",
       "      <td>4</td>\n",
       "      <td>2023-07-18</td>\n",
       "      <td>180</td>\n",
       "    </tr>\n",
       "    <tr>\n",
       "      <th>6</th>\n",
       "      <td>7</td>\n",
       "      <td>1</td>\n",
       "      <td>2023-07-18</td>\n",
       "      <td>600</td>\n",
       "    </tr>\n",
       "    <tr>\n",
       "      <th>7</th>\n",
       "      <td>8</td>\n",
       "      <td>10</td>\n",
       "      <td>2023-07-19</td>\n",
       "      <td>100</td>\n",
       "    </tr>\n",
       "    <tr>\n",
       "      <th>8</th>\n",
       "      <td>9</td>\n",
       "      <td>6</td>\n",
       "      <td>2023-07-20</td>\n",
       "      <td>280</td>\n",
       "    </tr>\n",
       "    <tr>\n",
       "      <th>9</th>\n",
       "      <td>10</td>\n",
       "      <td>9</td>\n",
       "      <td>2023-07-20</td>\n",
       "      <td>750</td>\n",
       "    </tr>\n",
       "    <tr>\n",
       "      <th>10</th>\n",
       "      <td>1</td>\n",
       "      <td>7</td>\n",
       "      <td>17-07-2023</td>\n",
       "      <td>900</td>\n",
       "    </tr>\n",
       "    <tr>\n",
       "      <th>11</th>\n",
       "      <td>2</td>\n",
       "      <td>4</td>\n",
       "      <td>18-07-2023</td>\n",
       "      <td>180</td>\n",
       "    </tr>\n",
       "    <tr>\n",
       "      <th>12</th>\n",
       "      <td>3</td>\n",
       "      <td>1</td>\n",
       "      <td>18-07-2023</td>\n",
       "      <td>600</td>\n",
       "    </tr>\n",
       "    <tr>\n",
       "      <th>13</th>\n",
       "      <td>4</td>\n",
       "      <td>10</td>\n",
       "      <td>19-07-2023</td>\n",
       "      <td>100</td>\n",
       "    </tr>\n",
       "    <tr>\n",
       "      <th>14</th>\n",
       "      <td>5</td>\n",
       "      <td>6</td>\n",
       "      <td>20-07-2023</td>\n",
       "      <td>280</td>\n",
       "    </tr>\n",
       "    <tr>\n",
       "      <th>15</th>\n",
       "      <td>6</td>\n",
       "      <td>3</td>\n",
       "      <td>15-07-2023</td>\n",
       "      <td>450</td>\n",
       "    </tr>\n",
       "    <tr>\n",
       "      <th>16</th>\n",
       "      <td>7</td>\n",
       "      <td>8</td>\n",
       "      <td>16-07-2023</td>\n",
       "      <td>120</td>\n",
       "    </tr>\n",
       "    <tr>\n",
       "      <th>17</th>\n",
       "      <td>8</td>\n",
       "      <td>2</td>\n",
       "      <td>16-07-2023</td>\n",
       "      <td>720</td>\n",
       "    </tr>\n",
       "    <tr>\n",
       "      <th>18</th>\n",
       "      <td>9</td>\n",
       "      <td>9</td>\n",
       "      <td>20-07-2023</td>\n",
       "      <td>750</td>\n",
       "    </tr>\n",
       "    <tr>\n",
       "      <th>19</th>\n",
       "      <td>10</td>\n",
       "      <td>5</td>\n",
       "      <td>17-07-2023</td>\n",
       "      <td>320</td>\n",
       "    </tr>\n",
       "  </tbody>\n",
       "</table>\n",
       "</div>"
      ],
      "text/plain": [
       "    order_id  customer_id  order_date total_amount\n",
       "0          1            3  2023-07-15          450\n",
       "1          2            8  2023-07-16          120\n",
       "2          3            2  2023-07-16          720\n",
       "3          4            5  2023-07-17          320\n",
       "4          5            7  2023-07-17          900\n",
       "5          6            4  2023-07-18          180\n",
       "6          7            1  2023-07-18          600\n",
       "7          8           10  2023-07-19          100\n",
       "8          9            6  2023-07-20          280\n",
       "9         10            9  2023-07-20          750\n",
       "10         1            7  17-07-2023          900\n",
       "11         2            4  18-07-2023          180\n",
       "12         3            1  18-07-2023          600\n",
       "13         4           10  19-07-2023          100\n",
       "14         5            6  20-07-2023          280\n",
       "15         6            3  15-07-2023          450\n",
       "16         7            8  16-07-2023          120\n",
       "17         8            2  16-07-2023          720\n",
       "18         9            9  20-07-2023          750\n",
       "19        10            5  17-07-2023          320"
      ]
     },
     "execution_count": 92,
     "metadata": {},
     "output_type": "execute_result"
    }
   ],
   "source": [
    "o1_o2_concat = pd.concat([Orders_1,Orders_2], ignore_index=True)\n",
    "o1_o2_concat"
   ]
  },
  {
   "cell_type": "markdown",
   "metadata": {},
   "source": [
    "### Product_1 - Product_2"
   ]
  },
  {
   "cell_type": "code",
   "execution_count": 93,
   "metadata": {},
   "outputs": [
    {
     "data": {
      "text/html": [
       "<div>\n",
       "<style scoped>\n",
       "    .dataframe tbody tr th:only-of-type {\n",
       "        vertical-align: middle;\n",
       "    }\n",
       "\n",
       "    .dataframe tbody tr th {\n",
       "        vertical-align: top;\n",
       "    }\n",
       "\n",
       "    .dataframe thead th {\n",
       "        text-align: right;\n",
       "    }\n",
       "</style>\n",
       "<table border=\"1\" class=\"dataframe\">\n",
       "  <thead>\n",
       "    <tr style=\"text-align: right;\">\n",
       "      <th></th>\n",
       "      <th>product_id</th>\n",
       "      <th>product_name</th>\n",
       "      <th>category</th>\n",
       "      <th>price</th>\n",
       "      <th>stock quantity</th>\n",
       "    </tr>\n",
       "  </thead>\n",
       "  <tbody>\n",
       "    <tr>\n",
       "      <th>0</th>\n",
       "      <td>1</td>\n",
       "      <td>Laptop</td>\n",
       "      <td>Electronics</td>\n",
       "      <td>800</td>\n",
       "      <td>50</td>\n",
       "    </tr>\n",
       "    <tr>\n",
       "      <th>1</th>\n",
       "      <td>2</td>\n",
       "      <td>Smartphone</td>\n",
       "      <td>Electronics</td>\n",
       "      <td>600</td>\n",
       "      <td>75</td>\n",
       "    </tr>\n",
       "    <tr>\n",
       "      <th>2</th>\n",
       "      <td>3</td>\n",
       "      <td>Desk Chair</td>\n",
       "      <td>Furniture</td>\n",
       "      <td>150</td>\n",
       "      <td>30</td>\n",
       "    </tr>\n",
       "    <tr>\n",
       "      <th>3</th>\n",
       "      <td>4</td>\n",
       "      <td>Coffee Maker</td>\n",
       "      <td>Appliances</td>\n",
       "      <td>50</td>\n",
       "      <td>100</td>\n",
       "    </tr>\n",
       "    <tr>\n",
       "      <th>4</th>\n",
       "      <td>5</td>\n",
       "      <td>Running Shoes</td>\n",
       "      <td>Sports</td>\n",
       "      <td>80</td>\n",
       "      <td>120</td>\n",
       "    </tr>\n",
       "    <tr>\n",
       "      <th>5</th>\n",
       "      <td>6</td>\n",
       "      <td>Headphones</td>\n",
       "      <td>Electronics</td>\n",
       "      <td>100</td>\n",
       "      <td>60</td>\n",
       "    </tr>\n",
       "    <tr>\n",
       "      <th>6</th>\n",
       "      <td>7</td>\n",
       "      <td>Dining Table</td>\n",
       "      <td>Furniture</td>\n",
       "      <td>300</td>\n",
       "      <td>20</td>\n",
       "    </tr>\n",
       "    <tr>\n",
       "      <th>7</th>\n",
       "      <td>8</td>\n",
       "      <td>Toaster</td>\n",
       "      <td>Appliances</td>\n",
       "      <td>30</td>\n",
       "      <td>80</td>\n",
       "    </tr>\n",
       "    <tr>\n",
       "      <th>8</th>\n",
       "      <td>9</td>\n",
       "      <td>Basketball</td>\n",
       "      <td>Sports</td>\n",
       "      <td>25</td>\n",
       "      <td>50</td>\n",
       "    </tr>\n",
       "    <tr>\n",
       "      <th>9</th>\n",
       "      <td>10</td>\n",
       "      <td>Television</td>\n",
       "      <td>Electronics</td>\n",
       "      <td>1200</td>\n",
       "      <td>40</td>\n",
       "    </tr>\n",
       "    <tr>\n",
       "      <th>10</th>\n",
       "      <td>1</td>\n",
       "      <td>Dining Table</td>\n",
       "      <td>Furniture</td>\n",
       "      <td>300</td>\n",
       "      <td>20</td>\n",
       "    </tr>\n",
       "    <tr>\n",
       "      <th>11</th>\n",
       "      <td>2</td>\n",
       "      <td>Toaster</td>\n",
       "      <td>Appliances</td>\n",
       "      <td>30</td>\n",
       "      <td>80</td>\n",
       "    </tr>\n",
       "    <tr>\n",
       "      <th>12</th>\n",
       "      <td>3</td>\n",
       "      <td>Running Shoes</td>\n",
       "      <td>Sports</td>\n",
       "      <td>80</td>\n",
       "      <td>120</td>\n",
       "    </tr>\n",
       "    <tr>\n",
       "      <th>13</th>\n",
       "      <td>4</td>\n",
       "      <td>Headphones</td>\n",
       "      <td>Electronics</td>\n",
       "      <td>100</td>\n",
       "      <td>60</td>\n",
       "    </tr>\n",
       "    <tr>\n",
       "      <th>14</th>\n",
       "      <td>5</td>\n",
       "      <td>Laptop</td>\n",
       "      <td>Electronics</td>\n",
       "      <td>800</td>\n",
       "      <td>50</td>\n",
       "    </tr>\n",
       "    <tr>\n",
       "      <th>15</th>\n",
       "      <td>6</td>\n",
       "      <td>Smartphone</td>\n",
       "      <td>Electronics</td>\n",
       "      <td>600</td>\n",
       "      <td>75</td>\n",
       "    </tr>\n",
       "    <tr>\n",
       "      <th>16</th>\n",
       "      <td>7</td>\n",
       "      <td>Desk Chair</td>\n",
       "      <td>Furniture</td>\n",
       "      <td>150</td>\n",
       "      <td>30</td>\n",
       "    </tr>\n",
       "    <tr>\n",
       "      <th>17</th>\n",
       "      <td>8</td>\n",
       "      <td>Coffee Maker</td>\n",
       "      <td>Appliances</td>\n",
       "      <td>50</td>\n",
       "      <td>100</td>\n",
       "    </tr>\n",
       "    <tr>\n",
       "      <th>18</th>\n",
       "      <td>9</td>\n",
       "      <td>Basketball</td>\n",
       "      <td>Sports</td>\n",
       "      <td>25</td>\n",
       "      <td>50</td>\n",
       "    </tr>\n",
       "    <tr>\n",
       "      <th>19</th>\n",
       "      <td>10</td>\n",
       "      <td>Television</td>\n",
       "      <td>Electronics</td>\n",
       "      <td>1200</td>\n",
       "      <td>40</td>\n",
       "    </tr>\n",
       "  </tbody>\n",
       "</table>\n",
       "</div>"
      ],
      "text/plain": [
       "    product_id   product_name     category price stock quantity\n",
       "0            1         Laptop  Electronics   800             50\n",
       "1            2     Smartphone  Electronics   600             75\n",
       "2            3     Desk Chair    Furniture   150             30\n",
       "3            4   Coffee Maker   Appliances    50            100\n",
       "4            5  Running Shoes       Sports    80            120\n",
       "5            6     Headphones  Electronics   100             60\n",
       "6            7   Dining Table    Furniture   300             20\n",
       "7            8        Toaster   Appliances    30             80\n",
       "8            9     Basketball       Sports    25             50\n",
       "9           10     Television  Electronics  1200             40\n",
       "10           1   Dining Table    Furniture   300             20\n",
       "11           2        Toaster   Appliances    30             80\n",
       "12           3  Running Shoes       Sports    80            120\n",
       "13           4     Headphones  Electronics   100             60\n",
       "14           5         Laptop  Electronics   800             50\n",
       "15           6     Smartphone  Electronics   600             75\n",
       "16           7     Desk Chair    Furniture   150             30\n",
       "17           8   Coffee Maker   Appliances    50            100\n",
       "18           9     Basketball       Sports    25             50\n",
       "19          10     Television  Electronics  1200             40"
      ]
     },
     "execution_count": 93,
     "metadata": {},
     "output_type": "execute_result"
    }
   ],
   "source": [
    "p1_p2_concat = pd.concat([Product_1,Product_2], ignore_index=True)\n",
    "p1_p2_concat"
   ]
  },
  {
   "cell_type": "markdown",
   "metadata": {},
   "source": [
    "## Task 7: Perform the Horizontal concatenation (Row wise) on (Customer_1 with Customer_2), (Employees_1 - Employees_2), (Orders_1 - Orders_2), (Product_1 - Product_2)."
   ]
  },
  {
   "cell_type": "markdown",
   "metadata": {},
   "source": [
    "### Customer_1 with Customer_2"
   ]
  },
  {
   "cell_type": "code",
   "execution_count": 94,
   "metadata": {},
   "outputs": [
    {
     "data": {
      "text/html": [
       "<div>\n",
       "<style scoped>\n",
       "    .dataframe tbody tr th:only-of-type {\n",
       "        vertical-align: middle;\n",
       "    }\n",
       "\n",
       "    .dataframe tbody tr th {\n",
       "        vertical-align: top;\n",
       "    }\n",
       "\n",
       "    .dataframe thead th {\n",
       "        text-align: right;\n",
       "    }\n",
       "</style>\n",
       "<table border=\"1\" class=\"dataframe\">\n",
       "  <thead>\n",
       "    <tr style=\"text-align: right;\">\n",
       "      <th></th>\n",
       "      <th>0</th>\n",
       "      <th>1</th>\n",
       "      <th>2</th>\n",
       "      <th>3</th>\n",
       "      <th>4</th>\n",
       "      <th>5</th>\n",
       "      <th>6</th>\n",
       "      <th>7</th>\n",
       "      <th>8</th>\n",
       "      <th>9</th>\n",
       "      <th>10</th>\n",
       "      <th>11</th>\n",
       "      <th>12</th>\n",
       "      <th>13</th>\n",
       "      <th>14</th>\n",
       "      <th>15</th>\n",
       "      <th>16</th>\n",
       "      <th>17</th>\n",
       "      <th>18</th>\n",
       "      <th>19</th>\n",
       "    </tr>\n",
       "  </thead>\n",
       "  <tbody>\n",
       "    <tr>\n",
       "      <th>customer_id</th>\n",
       "      <td>1</td>\n",
       "      <td>2</td>\n",
       "      <td>3</td>\n",
       "      <td>4</td>\n",
       "      <td>5</td>\n",
       "      <td>6</td>\n",
       "      <td>7</td>\n",
       "      <td>8</td>\n",
       "      <td>9</td>\n",
       "      <td>10</td>\n",
       "      <td>1</td>\n",
       "      <td>2</td>\n",
       "      <td>3</td>\n",
       "      <td>4</td>\n",
       "      <td>5</td>\n",
       "      <td>6</td>\n",
       "      <td>7</td>\n",
       "      <td>8</td>\n",
       "      <td>9</td>\n",
       "      <td>10</td>\n",
       "    </tr>\n",
       "    <tr>\n",
       "      <th>first name</th>\n",
       "      <td>Alex</td>\n",
       "      <td>Ella</td>\n",
       "      <td>Noah</td>\n",
       "      <td>Ava</td>\n",
       "      <td>Liam</td>\n",
       "      <td>Mia</td>\n",
       "      <td>Ethan</td>\n",
       "      <td>Issabella</td>\n",
       "      <td>James</td>\n",
       "      <td>Sophia</td>\n",
       "      <td>Liam</td>\n",
       "      <td>Mia</td>\n",
       "      <td>Ethan</td>\n",
       "      <td>Issabella</td>\n",
       "      <td>Alex</td>\n",
       "      <td>Ella</td>\n",
       "      <td>Noah</td>\n",
       "      <td>Ava</td>\n",
       "      <td>James</td>\n",
       "      <td>Sophia</td>\n",
       "    </tr>\n",
       "    <tr>\n",
       "      <th>last name</th>\n",
       "      <td>Jhonson</td>\n",
       "      <td>Brown</td>\n",
       "      <td>Garcia</td>\n",
       "      <td>Martinez</td>\n",
       "      <td>Robinson</td>\n",
       "      <td>Miller</td>\n",
       "      <td>Davis</td>\n",
       "      <td>Rodriguez</td>\n",
       "      <td>Hermandez</td>\n",
       "      <td>Lopez</td>\n",
       "      <td>Robinson</td>\n",
       "      <td>Miller</td>\n",
       "      <td>Davis</td>\n",
       "      <td>Rodriguez</td>\n",
       "      <td>Jhonson</td>\n",
       "      <td>Brown</td>\n",
       "      <td>Garcia</td>\n",
       "      <td>Martinez</td>\n",
       "      <td>Hermandez</td>\n",
       "      <td>Lopez</td>\n",
       "    </tr>\n",
       "    <tr>\n",
       "      <th>email</th>\n",
       "      <td>alex@example.com</td>\n",
       "      <td>ella@example.com</td>\n",
       "      <td>noah@example.com</td>\n",
       "      <td>ava@example.com</td>\n",
       "      <td>liam@example.com</td>\n",
       "      <td>mia@example.com</td>\n",
       "      <td>ethan@example.com</td>\n",
       "      <td>isabella@example.com</td>\n",
       "      <td>james@example.com</td>\n",
       "      <td>sophia@example.com</td>\n",
       "      <td>liam@example.com</td>\n",
       "      <td>mia@example.com</td>\n",
       "      <td>ethan@example.com</td>\n",
       "      <td>isabella@example.com</td>\n",
       "      <td>alex@example.com</td>\n",
       "      <td>ella@example.com</td>\n",
       "      <td>noah@example.com</td>\n",
       "      <td>ava@example.com</td>\n",
       "      <td>james@example.com</td>\n",
       "      <td>sophia@example.com</td>\n",
       "    </tr>\n",
       "    <tr>\n",
       "      <th>phone</th>\n",
       "      <td>555-123-4567</td>\n",
       "      <td>555-987-6543</td>\n",
       "      <td>555-345-6789</td>\n",
       "      <td>555-789-0123</td>\n",
       "      <td>555-234-5678</td>\n",
       "      <td>555-876-5432</td>\n",
       "      <td>555-432-1098</td>\n",
       "      <td>555-210-9876</td>\n",
       "      <td>555-765-4321</td>\n",
       "      <td>555-321-0987</td>\n",
       "      <td>555-234-5678</td>\n",
       "      <td>555-876-5432</td>\n",
       "      <td>555-432-1098</td>\n",
       "      <td>555-210-9876</td>\n",
       "      <td>555-123-4567</td>\n",
       "      <td>555-987-6543</td>\n",
       "      <td>555-345-6789</td>\n",
       "      <td>555-789-0123</td>\n",
       "      <td>555-765-4321</td>\n",
       "      <td>555-321-0987</td>\n",
       "    </tr>\n",
       "  </tbody>\n",
       "</table>\n",
       "</div>"
      ],
      "text/plain": [
       "                           0                 1                 2   \\\n",
       "customer_id                 1                 2                 3   \n",
       "first name               Alex              Ella              Noah   \n",
       "last name             Jhonson             Brown            Garcia   \n",
       "email        alex@example.com  ella@example.com  noah@example.com   \n",
       "phone            555-123-4567      555-987-6543      555-345-6789   \n",
       "\n",
       "                          3                 4                5   \\\n",
       "customer_id                4                 5                6   \n",
       "first name               Ava              Liam              Mia   \n",
       "last name           Martinez          Robinson           Miller   \n",
       "email        ava@example.com  liam@example.com  mia@example.com   \n",
       "phone           555-789-0123      555-234-5678     555-876-5432   \n",
       "\n",
       "                            6                     7                  8   \\\n",
       "customer_id                  7                     8                  9   \n",
       "first name               Ethan             Issabella              James   \n",
       "last name                Davis             Rodriguez          Hermandez   \n",
       "email        ethan@example.com  isabella@example.com  james@example.com   \n",
       "phone             555-432-1098          555-210-9876       555-765-4321   \n",
       "\n",
       "                             9                 10               11  \\\n",
       "customer_id                  10                 1                2   \n",
       "first name               Sophia              Liam              Mia   \n",
       "last name                 Lopez          Robinson           Miller   \n",
       "email        sophia@example.com  liam@example.com  mia@example.com   \n",
       "phone              555-321-0987      555-234-5678     555-876-5432   \n",
       "\n",
       "                            12                    13                14  \\\n",
       "customer_id                  3                     4                 5   \n",
       "first name               Ethan             Issabella              Alex   \n",
       "last name                Davis             Rodriguez           Jhonson   \n",
       "email        ethan@example.com  isabella@example.com  alex@example.com   \n",
       "phone             555-432-1098          555-210-9876      555-123-4567   \n",
       "\n",
       "                           15                16               17  \\\n",
       "customer_id                 6                 7                8   \n",
       "first name               Ella              Noah              Ava   \n",
       "last name               Brown            Garcia         Martinez   \n",
       "email        ella@example.com  noah@example.com  ava@example.com   \n",
       "phone            555-987-6543      555-345-6789     555-789-0123   \n",
       "\n",
       "                            18                  19  \n",
       "customer_id                  9                  10  \n",
       "first name               James              Sophia  \n",
       "last name            Hermandez               Lopez  \n",
       "email        james@example.com  sophia@example.com  \n",
       "phone             555-765-4321        555-321-0987  "
      ]
     },
     "execution_count": 94,
     "metadata": {},
     "output_type": "execute_result"
    }
   ],
   "source": [
    "c1_2_concat = pd.concat([Customer_1,Customer_2],ignore_index=True).T\n",
    "c1_2_concat"
   ]
  },
  {
   "cell_type": "markdown",
   "metadata": {},
   "source": [
    "### Employees_1 - Employees_2"
   ]
  },
  {
   "cell_type": "code",
   "execution_count": 95,
   "metadata": {},
   "outputs": [
    {
     "data": {
      "text/html": [
       "<div>\n",
       "<style scoped>\n",
       "    .dataframe tbody tr th:only-of-type {\n",
       "        vertical-align: middle;\n",
       "    }\n",
       "\n",
       "    .dataframe tbody tr th {\n",
       "        vertical-align: top;\n",
       "    }\n",
       "\n",
       "    .dataframe thead th {\n",
       "        text-align: right;\n",
       "    }\n",
       "</style>\n",
       "<table border=\"1\" class=\"dataframe\">\n",
       "  <thead>\n",
       "    <tr style=\"text-align: right;\">\n",
       "      <th></th>\n",
       "      <th>0</th>\n",
       "      <th>1</th>\n",
       "      <th>2</th>\n",
       "      <th>3</th>\n",
       "      <th>4</th>\n",
       "      <th>5</th>\n",
       "      <th>6</th>\n",
       "      <th>7</th>\n",
       "      <th>8</th>\n",
       "      <th>9</th>\n",
       "      <th>10</th>\n",
       "      <th>11</th>\n",
       "      <th>12</th>\n",
       "      <th>13</th>\n",
       "      <th>14</th>\n",
       "      <th>15</th>\n",
       "      <th>16</th>\n",
       "      <th>17</th>\n",
       "      <th>18</th>\n",
       "      <th>19</th>\n",
       "    </tr>\n",
       "  </thead>\n",
       "  <tbody>\n",
       "    <tr>\n",
       "      <th>employee_id</th>\n",
       "      <td>1</td>\n",
       "      <td>2</td>\n",
       "      <td>3</td>\n",
       "      <td>4</td>\n",
       "      <td>5</td>\n",
       "      <td>6</td>\n",
       "      <td>7</td>\n",
       "      <td>8</td>\n",
       "      <td>9</td>\n",
       "      <td>10</td>\n",
       "      <td>1</td>\n",
       "      <td>2</td>\n",
       "      <td>3</td>\n",
       "      <td>4</td>\n",
       "      <td>5</td>\n",
       "      <td>6</td>\n",
       "      <td>7</td>\n",
       "      <td>8</td>\n",
       "      <td>9</td>\n",
       "      <td>10</td>\n",
       "    </tr>\n",
       "    <tr>\n",
       "      <th>employee_name</th>\n",
       "      <td>John</td>\n",
       "      <td>Jane</td>\n",
       "      <td>Michael</td>\n",
       "      <td>Emily</td>\n",
       "      <td>David</td>\n",
       "      <td>Emma</td>\n",
       "      <td>Matthew</td>\n",
       "      <td>Olivia</td>\n",
       "      <td>William</td>\n",
       "      <td>Sophia</td>\n",
       "      <td>Olivia</td>\n",
       "      <td>William</td>\n",
       "      <td>Sophia</td>\n",
       "      <td>Emily</td>\n",
       "      <td>David</td>\n",
       "      <td>Jane</td>\n",
       "      <td>Michael</td>\n",
       "      <td>Emma</td>\n",
       "      <td>Matthew</td>\n",
       "      <td>John</td>\n",
       "    </tr>\n",
       "    <tr>\n",
       "      <th>last name</th>\n",
       "      <td>Doe</td>\n",
       "      <td>Smith</td>\n",
       "      <td>Johnson</td>\n",
       "      <td>Williams</td>\n",
       "      <td>Brown</td>\n",
       "      <td>Jones</td>\n",
       "      <td>Lee</td>\n",
       "      <td>Martin</td>\n",
       "      <td>Anderson</td>\n",
       "      <td>Taylor</td>\n",
       "      <td>Martin</td>\n",
       "      <td>Anderson</td>\n",
       "      <td>Taylor</td>\n",
       "      <td>Williams</td>\n",
       "      <td>Brown</td>\n",
       "      <td>Smith</td>\n",
       "      <td>Johnson</td>\n",
       "      <td>Jones</td>\n",
       "      <td>Lee</td>\n",
       "      <td>Doe</td>\n",
       "    </tr>\n",
       "    <tr>\n",
       "      <th>department</th>\n",
       "      <td>HR</td>\n",
       "      <td>Finance</td>\n",
       "      <td>IT</td>\n",
       "      <td>Marketing</td>\n",
       "      <td>Operations</td>\n",
       "      <td>HR</td>\n",
       "      <td>IT</td>\n",
       "      <td>Finance</td>\n",
       "      <td>Marketing</td>\n",
       "      <td>Operations</td>\n",
       "      <td>Finance</td>\n",
       "      <td>Marketing</td>\n",
       "      <td>Operations</td>\n",
       "      <td>Marketing</td>\n",
       "      <td>Operations</td>\n",
       "      <td>Finance</td>\n",
       "      <td>IT</td>\n",
       "      <td>HR</td>\n",
       "      <td>IT</td>\n",
       "      <td>HR</td>\n",
       "    </tr>\n",
       "    <tr>\n",
       "      <th>hire date</th>\n",
       "      <td>2020-01-15</td>\n",
       "      <td>2019-05-20</td>\n",
       "      <td>2021-02-10</td>\n",
       "      <td>2018-09-08</td>\n",
       "      <td>2022-03-25</td>\n",
       "      <td>2020-11-30</td>\n",
       "      <td>2021-07-12</td>\n",
       "      <td>2019-04-18</td>\n",
       "      <td>2017-12-05</td>\n",
       "      <td>2022-06-09</td>\n",
       "      <td>18-04-2019</td>\n",
       "      <td>05-12-2017</td>\n",
       "      <td>09-06-2022</td>\n",
       "      <td>08-09-2018</td>\n",
       "      <td>25-03-2022</td>\n",
       "      <td>20-05-2019</td>\n",
       "      <td>10-02-2021</td>\n",
       "      <td>30-11-2020</td>\n",
       "      <td>12-07-2021</td>\n",
       "      <td>15-01-2020</td>\n",
       "    </tr>\n",
       "    <tr>\n",
       "      <th>salary</th>\n",
       "      <td>50000</td>\n",
       "      <td>60000</td>\n",
       "      <td>55000</td>\n",
       "      <td>52000</td>\n",
       "      <td>58000</td>\n",
       "      <td>51000</td>\n",
       "      <td>56000</td>\n",
       "      <td>61000</td>\n",
       "      <td>53000</td>\n",
       "      <td>59000</td>\n",
       "      <td>50000</td>\n",
       "      <td>60000</td>\n",
       "      <td>55000</td>\n",
       "      <td>52000</td>\n",
       "      <td>58000</td>\n",
       "      <td>51000</td>\n",
       "      <td>56000</td>\n",
       "      <td>61000</td>\n",
       "      <td>53000</td>\n",
       "      <td>59000</td>\n",
       "    </tr>\n",
       "  </tbody>\n",
       "</table>\n",
       "</div>"
      ],
      "text/plain": [
       "                       0           1           2           3           4   \\\n",
       "employee_id             1           2           3           4           5   \n",
       "employee_name        John        Jane     Michael       Emily       David   \n",
       "last name             Doe       Smith     Johnson    Williams       Brown   \n",
       "department             HR     Finance          IT   Marketing  Operations   \n",
       "hire date      2020-01-15  2019-05-20  2021-02-10  2018-09-08  2022-03-25   \n",
       "salary              50000       60000       55000       52000       58000   \n",
       "\n",
       "                       5           6           7           8           9   \\\n",
       "employee_id             6           7           8           9          10   \n",
       "employee_name        Emma     Matthew      Olivia     William      Sophia   \n",
       "last name           Jones         Lee      Martin    Anderson      Taylor   \n",
       "department             HR          IT     Finance   Marketing  Operations   \n",
       "hire date      2020-11-30  2021-07-12  2019-04-18  2017-12-05  2022-06-09   \n",
       "salary              51000       56000       61000       53000       59000   \n",
       "\n",
       "                       10          11          12          13          14  \\\n",
       "employee_id             1           2           3           4           5   \n",
       "employee_name      Olivia     William      Sophia       Emily       David   \n",
       "last name          Martin    Anderson      Taylor    Williams       Brown   \n",
       "department        Finance   Marketing  Operations   Marketing  Operations   \n",
       "hire date      18-04-2019  05-12-2017  09-06-2022  08-09-2018  25-03-2022   \n",
       "salary              50000       60000       55000       52000       58000   \n",
       "\n",
       "                       15          16          17          18          19  \n",
       "employee_id             6           7           8           9          10  \n",
       "employee_name        Jane     Michael        Emma     Matthew        John  \n",
       "last name           Smith     Johnson       Jones         Lee         Doe  \n",
       "department        Finance          IT          HR          IT          HR  \n",
       "hire date      20-05-2019  10-02-2021  30-11-2020  12-07-2021  15-01-2020  \n",
       "salary              51000       56000       61000       53000       59000  "
      ]
     },
     "execution_count": 95,
     "metadata": {},
     "output_type": "execute_result"
    }
   ],
   "source": [
    "e1_2_concat = pd.concat([Employee_1,Employee_2], ignore_index=True).T\n",
    "e1_2_concat"
   ]
  },
  {
   "cell_type": "markdown",
   "metadata": {},
   "source": [
    "### Orders_1 - Orders_2"
   ]
  },
  {
   "cell_type": "code",
   "execution_count": 96,
   "metadata": {},
   "outputs": [
    {
     "data": {
      "text/html": [
       "<div>\n",
       "<style scoped>\n",
       "    .dataframe tbody tr th:only-of-type {\n",
       "        vertical-align: middle;\n",
       "    }\n",
       "\n",
       "    .dataframe tbody tr th {\n",
       "        vertical-align: top;\n",
       "    }\n",
       "\n",
       "    .dataframe thead th {\n",
       "        text-align: right;\n",
       "    }\n",
       "</style>\n",
       "<table border=\"1\" class=\"dataframe\">\n",
       "  <thead>\n",
       "    <tr style=\"text-align: right;\">\n",
       "      <th></th>\n",
       "      <th>0</th>\n",
       "      <th>1</th>\n",
       "      <th>2</th>\n",
       "      <th>3</th>\n",
       "      <th>4</th>\n",
       "      <th>5</th>\n",
       "      <th>6</th>\n",
       "      <th>7</th>\n",
       "      <th>8</th>\n",
       "      <th>9</th>\n",
       "      <th>10</th>\n",
       "      <th>11</th>\n",
       "      <th>12</th>\n",
       "      <th>13</th>\n",
       "      <th>14</th>\n",
       "      <th>15</th>\n",
       "      <th>16</th>\n",
       "      <th>17</th>\n",
       "      <th>18</th>\n",
       "      <th>19</th>\n",
       "    </tr>\n",
       "  </thead>\n",
       "  <tbody>\n",
       "    <tr>\n",
       "      <th>order_id</th>\n",
       "      <td>1</td>\n",
       "      <td>2</td>\n",
       "      <td>3</td>\n",
       "      <td>4</td>\n",
       "      <td>5</td>\n",
       "      <td>6</td>\n",
       "      <td>7</td>\n",
       "      <td>8</td>\n",
       "      <td>9</td>\n",
       "      <td>10</td>\n",
       "      <td>1</td>\n",
       "      <td>2</td>\n",
       "      <td>3</td>\n",
       "      <td>4</td>\n",
       "      <td>5</td>\n",
       "      <td>6</td>\n",
       "      <td>7</td>\n",
       "      <td>8</td>\n",
       "      <td>9</td>\n",
       "      <td>10</td>\n",
       "    </tr>\n",
       "    <tr>\n",
       "      <th>customer_id</th>\n",
       "      <td>3</td>\n",
       "      <td>8</td>\n",
       "      <td>2</td>\n",
       "      <td>5</td>\n",
       "      <td>7</td>\n",
       "      <td>4</td>\n",
       "      <td>1</td>\n",
       "      <td>10</td>\n",
       "      <td>6</td>\n",
       "      <td>9</td>\n",
       "      <td>7</td>\n",
       "      <td>4</td>\n",
       "      <td>1</td>\n",
       "      <td>10</td>\n",
       "      <td>6</td>\n",
       "      <td>3</td>\n",
       "      <td>8</td>\n",
       "      <td>2</td>\n",
       "      <td>9</td>\n",
       "      <td>5</td>\n",
       "    </tr>\n",
       "    <tr>\n",
       "      <th>order_date</th>\n",
       "      <td>2023-07-15</td>\n",
       "      <td>2023-07-16</td>\n",
       "      <td>2023-07-16</td>\n",
       "      <td>2023-07-17</td>\n",
       "      <td>2023-07-17</td>\n",
       "      <td>2023-07-18</td>\n",
       "      <td>2023-07-18</td>\n",
       "      <td>2023-07-19</td>\n",
       "      <td>2023-07-20</td>\n",
       "      <td>2023-07-20</td>\n",
       "      <td>17-07-2023</td>\n",
       "      <td>18-07-2023</td>\n",
       "      <td>18-07-2023</td>\n",
       "      <td>19-07-2023</td>\n",
       "      <td>20-07-2023</td>\n",
       "      <td>15-07-2023</td>\n",
       "      <td>16-07-2023</td>\n",
       "      <td>16-07-2023</td>\n",
       "      <td>20-07-2023</td>\n",
       "      <td>17-07-2023</td>\n",
       "    </tr>\n",
       "    <tr>\n",
       "      <th>total_amount</th>\n",
       "      <td>450</td>\n",
       "      <td>120</td>\n",
       "      <td>720</td>\n",
       "      <td>320</td>\n",
       "      <td>900</td>\n",
       "      <td>180</td>\n",
       "      <td>600</td>\n",
       "      <td>100</td>\n",
       "      <td>280</td>\n",
       "      <td>750</td>\n",
       "      <td>900</td>\n",
       "      <td>180</td>\n",
       "      <td>600</td>\n",
       "      <td>100</td>\n",
       "      <td>280</td>\n",
       "      <td>450</td>\n",
       "      <td>120</td>\n",
       "      <td>720</td>\n",
       "      <td>750</td>\n",
       "      <td>320</td>\n",
       "    </tr>\n",
       "  </tbody>\n",
       "</table>\n",
       "</div>"
      ],
      "text/plain": [
       "                      0           1           2           3           4   \\\n",
       "order_id               1           2           3           4           5   \n",
       "customer_id            3           8           2           5           7   \n",
       "order_date    2023-07-15  2023-07-16  2023-07-16  2023-07-17  2023-07-17   \n",
       "total_amount         450         120         720         320         900   \n",
       "\n",
       "                      5           6           7           8           9   \\\n",
       "order_id               6           7           8           9          10   \n",
       "customer_id            4           1          10           6           9   \n",
       "order_date    2023-07-18  2023-07-18  2023-07-19  2023-07-20  2023-07-20   \n",
       "total_amount         180         600         100         280         750   \n",
       "\n",
       "                      10          11          12          13          14  \\\n",
       "order_id               1           2           3           4           5   \n",
       "customer_id            7           4           1          10           6   \n",
       "order_date    17-07-2023  18-07-2023  18-07-2023  19-07-2023  20-07-2023   \n",
       "total_amount         900         180         600         100         280   \n",
       "\n",
       "                      15          16          17          18          19  \n",
       "order_id               6           7           8           9          10  \n",
       "customer_id            3           8           2           9           5  \n",
       "order_date    15-07-2023  16-07-2023  16-07-2023  20-07-2023  17-07-2023  \n",
       "total_amount         450         120         720         750         320  "
      ]
     },
     "execution_count": 96,
     "metadata": {},
     "output_type": "execute_result"
    }
   ],
   "source": [
    "o1_2_concat = pd.concat([Orders_1,Orders_2], ignore_index=True).T\n",
    "o1_2_concat"
   ]
  },
  {
   "cell_type": "markdown",
   "metadata": {},
   "source": [
    "### Product_1 - Product_2"
   ]
  },
  {
   "cell_type": "code",
   "execution_count": 97,
   "metadata": {},
   "outputs": [
    {
     "data": {
      "text/html": [
       "<div>\n",
       "<style scoped>\n",
       "    .dataframe tbody tr th:only-of-type {\n",
       "        vertical-align: middle;\n",
       "    }\n",
       "\n",
       "    .dataframe tbody tr th {\n",
       "        vertical-align: top;\n",
       "    }\n",
       "\n",
       "    .dataframe thead th {\n",
       "        text-align: right;\n",
       "    }\n",
       "</style>\n",
       "<table border=\"1\" class=\"dataframe\">\n",
       "  <thead>\n",
       "    <tr style=\"text-align: right;\">\n",
       "      <th></th>\n",
       "      <th>0</th>\n",
       "      <th>1</th>\n",
       "      <th>2</th>\n",
       "      <th>3</th>\n",
       "      <th>4</th>\n",
       "      <th>5</th>\n",
       "      <th>6</th>\n",
       "      <th>7</th>\n",
       "      <th>8</th>\n",
       "      <th>9</th>\n",
       "      <th>10</th>\n",
       "      <th>11</th>\n",
       "      <th>12</th>\n",
       "      <th>13</th>\n",
       "      <th>14</th>\n",
       "      <th>15</th>\n",
       "      <th>16</th>\n",
       "      <th>17</th>\n",
       "      <th>18</th>\n",
       "      <th>19</th>\n",
       "    </tr>\n",
       "  </thead>\n",
       "  <tbody>\n",
       "    <tr>\n",
       "      <th>product_id</th>\n",
       "      <td>1</td>\n",
       "      <td>2</td>\n",
       "      <td>3</td>\n",
       "      <td>4</td>\n",
       "      <td>5</td>\n",
       "      <td>6</td>\n",
       "      <td>7</td>\n",
       "      <td>8</td>\n",
       "      <td>9</td>\n",
       "      <td>10</td>\n",
       "      <td>1</td>\n",
       "      <td>2</td>\n",
       "      <td>3</td>\n",
       "      <td>4</td>\n",
       "      <td>5</td>\n",
       "      <td>6</td>\n",
       "      <td>7</td>\n",
       "      <td>8</td>\n",
       "      <td>9</td>\n",
       "      <td>10</td>\n",
       "    </tr>\n",
       "    <tr>\n",
       "      <th>product_name</th>\n",
       "      <td>Laptop</td>\n",
       "      <td>Smartphone</td>\n",
       "      <td>Desk Chair</td>\n",
       "      <td>Coffee Maker</td>\n",
       "      <td>Running Shoes</td>\n",
       "      <td>Headphones</td>\n",
       "      <td>Dining Table</td>\n",
       "      <td>Toaster</td>\n",
       "      <td>Basketball</td>\n",
       "      <td>Television</td>\n",
       "      <td>Dining Table</td>\n",
       "      <td>Toaster</td>\n",
       "      <td>Running Shoes</td>\n",
       "      <td>Headphones</td>\n",
       "      <td>Laptop</td>\n",
       "      <td>Smartphone</td>\n",
       "      <td>Desk Chair</td>\n",
       "      <td>Coffee Maker</td>\n",
       "      <td>Basketball</td>\n",
       "      <td>Television</td>\n",
       "    </tr>\n",
       "    <tr>\n",
       "      <th>category</th>\n",
       "      <td>Electronics</td>\n",
       "      <td>Electronics</td>\n",
       "      <td>Furniture</td>\n",
       "      <td>Appliances</td>\n",
       "      <td>Sports</td>\n",
       "      <td>Electronics</td>\n",
       "      <td>Furniture</td>\n",
       "      <td>Appliances</td>\n",
       "      <td>Sports</td>\n",
       "      <td>Electronics</td>\n",
       "      <td>Furniture</td>\n",
       "      <td>Appliances</td>\n",
       "      <td>Sports</td>\n",
       "      <td>Electronics</td>\n",
       "      <td>Electronics</td>\n",
       "      <td>Electronics</td>\n",
       "      <td>Furniture</td>\n",
       "      <td>Appliances</td>\n",
       "      <td>Sports</td>\n",
       "      <td>Electronics</td>\n",
       "    </tr>\n",
       "    <tr>\n",
       "      <th>price</th>\n",
       "      <td>800</td>\n",
       "      <td>600</td>\n",
       "      <td>150</td>\n",
       "      <td>50</td>\n",
       "      <td>80</td>\n",
       "      <td>100</td>\n",
       "      <td>300</td>\n",
       "      <td>30</td>\n",
       "      <td>25</td>\n",
       "      <td>1200</td>\n",
       "      <td>300</td>\n",
       "      <td>30</td>\n",
       "      <td>80</td>\n",
       "      <td>100</td>\n",
       "      <td>800</td>\n",
       "      <td>600</td>\n",
       "      <td>150</td>\n",
       "      <td>50</td>\n",
       "      <td>25</td>\n",
       "      <td>1200</td>\n",
       "    </tr>\n",
       "    <tr>\n",
       "      <th>stock quantity</th>\n",
       "      <td>50</td>\n",
       "      <td>75</td>\n",
       "      <td>30</td>\n",
       "      <td>100</td>\n",
       "      <td>120</td>\n",
       "      <td>60</td>\n",
       "      <td>20</td>\n",
       "      <td>80</td>\n",
       "      <td>50</td>\n",
       "      <td>40</td>\n",
       "      <td>20</td>\n",
       "      <td>80</td>\n",
       "      <td>120</td>\n",
       "      <td>60</td>\n",
       "      <td>50</td>\n",
       "      <td>75</td>\n",
       "      <td>30</td>\n",
       "      <td>100</td>\n",
       "      <td>50</td>\n",
       "      <td>40</td>\n",
       "    </tr>\n",
       "  </tbody>\n",
       "</table>\n",
       "</div>"
      ],
      "text/plain": [
       "                         0            1           2             3   \\\n",
       "product_id                1            2           3             4   \n",
       "product_name         Laptop   Smartphone  Desk Chair  Coffee Maker   \n",
       "category        Electronics  Electronics   Furniture    Appliances   \n",
       "price                   800          600         150            50   \n",
       "stock quantity           50           75          30           100   \n",
       "\n",
       "                           4            5             6           7   \\\n",
       "product_id                  5            6             7           8   \n",
       "product_name    Running Shoes   Headphones  Dining Table     Toaster   \n",
       "category               Sports  Electronics     Furniture  Appliances   \n",
       "price                      80          100           300          30   \n",
       "stock quantity            120           60            20          80   \n",
       "\n",
       "                        8            9             10          11  \\\n",
       "product_id               9           10             1           2   \n",
       "product_name    Basketball   Television  Dining Table     Toaster   \n",
       "category            Sports  Electronics     Furniture  Appliances   \n",
       "price                   25         1200           300          30   \n",
       "stock quantity          50           40            20          80   \n",
       "\n",
       "                           12           13           14           15  \\\n",
       "product_id                  3            4            5            6   \n",
       "product_name    Running Shoes   Headphones       Laptop   Smartphone   \n",
       "category               Sports  Electronics  Electronics  Electronics   \n",
       "price                      80          100          800          600   \n",
       "stock quantity            120           60           50           75   \n",
       "\n",
       "                        16            17          18           19  \n",
       "product_id               7             8           9           10  \n",
       "product_name    Desk Chair  Coffee Maker  Basketball   Television  \n",
       "category         Furniture    Appliances      Sports  Electronics  \n",
       "price                  150            50          25         1200  \n",
       "stock quantity          30           100          50           40  "
      ]
     },
     "execution_count": 97,
     "metadata": {},
     "output_type": "execute_result"
    }
   ],
   "source": [
    "p1_2_concat = pd.concat([Product_1,Product_2], ignore_index=True).T\n",
    "p1_2_concat"
   ]
  }
 ],
 "metadata": {
  "kernelspec": {
   "display_name": "Python 3 (ipykernel)",
   "language": "python",
   "name": "python3"
  },
  "language_info": {
   "codemirror_mode": {
    "name": "ipython",
    "version": 3
   },
   "file_extension": ".py",
   "mimetype": "text/x-python",
   "name": "python",
   "nbconvert_exporter": "python",
   "pygments_lexer": "ipython3",
   "version": "3.10.9"
  }
 },
 "nbformat": 4,
 "nbformat_minor": 2
}
